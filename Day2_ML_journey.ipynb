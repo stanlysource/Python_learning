{
  "cells": [
    {
      "cell_type": "code",
      "execution_count": null,
      "metadata": {
        "colab": {
          "base_uri": "https://localhost:8080/"
        },
        "id": "HpmbKqI7jltH",
        "outputId": "0ec1bf68-5f68-4ec7-f746-ea081ec8cab5"
      },
      "outputs": [
        {
          "name": "stdout",
          "output_type": "stream",
          "text": [
            "hello world\n"
          ]
        }
      ],
      "source": [
        "print(\"hello world\")"
      ]
    },
    {
      "cell_type": "code",
      "execution_count": null,
      "metadata": {
        "id": "34ZbDQBAxLWX",
        "colab": {
          "base_uri": "https://localhost:8080/",
          "height": 52
        },
        "outputId": "4af1ee92-ed35-45da-a7b6-81b8ca670677"
      },
      "outputs": [
        {
          "name": "stdout",
          "output_type": "stream",
          "text": [
            "enter a number12\n"
          ]
        },
        {
          "output_type": "execute_result",
          "data": {
            "text/plain": [
              "'12'"
            ],
            "application/vnd.google.colaboratory.intrinsic+json": {
              "type": "string"
            }
          },
          "metadata": {},
          "execution_count": 1
        }
      ],
      "source": [
        "input(\"enter a number\")"
      ]
    },
    {
      "cell_type": "code",
      "source": [
        "#Day 9 COPY--> 1. Shallow COPY and 2. DEEP COPY\n",
        "#l2 is referencing l1\n",
        "l1=[10,20,30,40]\n",
        "l2=l1\n",
        "print(l1)\n",
        "print(l2)\n",
        "l1[0]=100\n",
        "print(l1)\n",
        "print(l2)"
      ],
      "metadata": {
        "colab": {
          "base_uri": "https://localhost:8080/"
        },
        "id": "nSqt3ZpUTU3G",
        "outputId": "b3965fb1-7bea-4741-a2bd-a5bb14e12175"
      },
      "execution_count": null,
      "outputs": [
        {
          "output_type": "stream",
          "name": "stdout",
          "text": [
            "[10, 20, 30, 40]\n",
            "[10, 20, 30, 40]\n",
            "[100, 20, 30, 40]\n",
            "[100, 20, 30, 40]\n"
          ]
        }
      ]
    },
    {
      "cell_type": "code",
      "source": [
        "#shallow copy\n",
        "\"\"\"A shallow copy constructs a new compound object and then (to the\n",
        "  extent possible) inserts *the same objects* into it that the\n",
        "  original contains.\n",
        "\n",
        "\"\"\"\n",
        "import copy\n",
        "l1=[[10,20,30,40],[100,200],[1000,'a']]\n",
        "print('print l1 :' + str(l1))\n",
        "print('print id(l1) : ' + str(id(l1)))\n",
        "l2=copy.copy(l1)\n",
        "print('print l2 : '+ str(l2))\n",
        "print('print id(l2)'+ str(id(l2)))\n",
        "print('print id(l1) '+ str(id(l1)))\n",
        "print('print id(l2[0])'+ str(id(l2[0])))\n",
        "print('print id(l1[0])' + str(id(l1[0])))\n",
        "\n",
        "l1[0]=50\n",
        "print('print l1 '+ str(l1))\n",
        "print('print l2: ' + str(l2))"
      ],
      "metadata": {
        "colab": {
          "base_uri": "https://localhost:8080/"
        },
        "id": "RNvd6Tg7VIiC",
        "outputId": "9bc894e4-b651-42a3-eed4-5745e87f8b51"
      },
      "execution_count": null,
      "outputs": [
        {
          "output_type": "stream",
          "name": "stdout",
          "text": [
            "print l1 :[[10, 20, 30, 40], [100, 200], [1000, 'a']]\n",
            "print id(l1) : 139123673592192\n",
            "print l2 : [[10, 20, 30, 40], [100, 200], [1000, 'a']]\n",
            "print id(l2)139123673687168\n",
            "print id(l1) 139123673592192\n",
            "print id(l2[0])139123673824576\n",
            "print id(l1[0])139123673824576\n",
            "print l1 [50, [100, 200], [1000, 'a']]\n",
            "print l2: [[10, 20, 30, 40], [100, 200], [1000, 'a']]\n"
          ]
        }
      ]
    },
    {
      "cell_type": "code",
      "source": [],
      "metadata": {
        "id": "TxJo_p2tcJcK"
      },
      "execution_count": null,
      "outputs": []
    },
    {
      "cell_type": "code",
      "source": [
        "#Deep copy\n",
        "\"\"\"- A deep copy constructs a new compound object and then, recursively,\n",
        "  inserts *copies* into it of the objects found in the original.\n",
        "\n",
        "Two problems often exist with deep copy operations that don't exist\n",
        "with shallow copy operations:\n",
        "\n",
        " a) recursive objects (compound objects that, directly or indirectly,\n",
        "    contain a reference to themselves) may cause a recursive loop\n",
        "\n",
        " b) because deep copy copies *everything* it may copy too much, e.g.\n",
        "    administrative data structures that should be shared even between\n",
        "    copies\n",
        "\n",
        "Python's deep copy operation avoids these problems by:\n",
        "\n",
        " a) keeping a table of objects already copied during the current\n",
        "    copying pass\n",
        "\n",
        " b) letting user-defined classes override the copying operation or the\n",
        "    set of components copied\n",
        "\n",
        "This version does not copy types like module, class, function, method,\n",
        "nor stack trace, stack frame, nor file, socket, window, nor any\n",
        "similar types.\n",
        "\n",
        "Classes can use the same interfaces to control copying that they use\n",
        "to control pickling: they can define methods called __getinitargs__(),\n",
        "__getstate__() and __setstate__().  See the documentation for module\n",
        "\"pickle\" for information on these methods. \"\"\"\n",
        "\n",
        "import copy\n",
        "x1=[[10,20,30,40],[100,200],[1000,'a']]\n",
        "print('print x1 :'+ str(x1))\n",
        "print('print id(x1) :'+ str(id(x1)))\n",
        "x2=copy.deepcopy(x1)\n",
        "print('print x2 :'+ str(x2))\n",
        "print('print id(x2) :'+ str(id(x2)))\n",
        "print('print id(x1) :'+ str(id(x1)))\n",
        "print('print id(x2[0]) :'+ str(id(x2[0])))\n",
        "print('print id(x1[0]) :'+ str(id(x1[0])))"
      ],
      "metadata": {
        "colab": {
          "base_uri": "https://localhost:8080/"
        },
        "id": "uWQeTplgTWXR",
        "outputId": "bacdcc7e-f448-4b91-f743-4d55e100eb6e"
      },
      "execution_count": null,
      "outputs": [
        {
          "output_type": "stream",
          "name": "stdout",
          "text": [
            "print x1 :[[10, 20, 30, 40], [100, 200], [1000, 'a']]\n",
            "print id(x1) :139123673583232\n",
            "print x2 :[[10, 20, 30, 40], [100, 200], [1000, 'a']]\n",
            "print id(x2) :139123673683072\n",
            "print id(x1) :139123673583232\n",
            "print id(x2[0]) :139123673583296\n",
            "print id(x1[0]) :139123673589952\n"
          ]
        }
      ]
    },
    {
      "cell_type": "code",
      "source": [
        "#Union of Sets\n",
        "s1={10,20,30,40}\n",
        "s2={30,40,50,60}\n",
        "print(s1|s2)\n",
        "s3=s1.union(s2)\n",
        "print(s3)\n"
      ],
      "metadata": {
        "id": "QtCb3fdP7BXz",
        "outputId": "26b73c9d-0f55-410b-90da-c41e46f4a642",
        "colab": {
          "base_uri": "https://localhost:8080/"
        }
      },
      "execution_count": null,
      "outputs": [
        {
          "output_type": "stream",
          "name": "stdout",
          "text": [
            "{40, 10, 50, 20, 60, 30}\n",
            "{40, 10, 50, 20, 60, 30}\n"
          ]
        }
      ]
    },
    {
      "cell_type": "code",
      "source": [
        "#Intersection of Sets\n",
        "s1={10,20,30,40}\n",
        "s2={30,40,50,60}\n",
        "print(s1&s2)\n",
        "s3=s1.intersection(s2)\n",
        "print(s3)"
      ],
      "metadata": {
        "id": "rSx1rNc_7PxG",
        "outputId": "2a0e7771-a5e5-47a2-89c0-3e36b9a82f9e",
        "colab": {
          "base_uri": "https://localhost:8080/"
        }
      },
      "execution_count": null,
      "outputs": [
        {
          "output_type": "stream",
          "name": "stdout",
          "text": [
            "{40, 30}\n",
            "{40, 30}\n"
          ]
        }
      ]
    },
    {
      "cell_type": "code",
      "source": [
        "#Difference of sets\n",
        "s1={10,20,30,40}\n",
        "s2={30,40,50,60}\n",
        "print(s1-s2)\n",
        "s3=s1.difference(s2)\n",
        "print(s3)"
      ],
      "metadata": {
        "id": "K9BX-gRo7zlg",
        "outputId": "42495e04-de7c-47d0-a7c9-718f4afaf8cb",
        "colab": {
          "base_uri": "https://localhost:8080/"
        }
      },
      "execution_count": null,
      "outputs": [
        {
          "output_type": "stream",
          "name": "stdout",
          "text": [
            "{10, 20}\n",
            "{10, 20}\n"
          ]
        }
      ]
    },
    {
      "cell_type": "code",
      "source": [
        "#frozen set - The set becomes immutable, you will not be able to add / update the frosen set.\n",
        "s1={10,20,30,40}\n",
        "s2={30,40,50,60}\n",
        "s3=frozenset(s1)\n",
        "s4=frozenset(s2)\n",
        "print(s3)\n",
        "print(type(s3))"
      ],
      "metadata": {
        "id": "PJecJ8zU8BnY",
        "outputId": "da9512fd-46a9-42d8-c4fc-2a0e7cddd7f7",
        "colab": {
          "base_uri": "https://localhost:8080/"
        }
      },
      "execution_count": null,
      "outputs": [
        {
          "output_type": "stream",
          "name": "stdout",
          "text": [
            "frozenset({40, 10, 20, 30})\n",
            "<class 'frozenset'>\n"
          ]
        }
      ]
    },
    {
      "cell_type": "code",
      "source": [
        "#Extent list\n",
        "my_list=[10,20,30,40]\n",
        "my_list.extend([50,60])\n",
        "print(my_list)\n",
        "print(my_list[1:3])\n",
        "#Append list\n",
        "my_list.append([70,80])\n",
        "print(my_list)\n",
        "#Pop - to remove a value from a list by its index\n",
        "my_list.pop(3)\n",
        "print(my_list)\n",
        "#Insert - To add value to a list at a specific Index\n",
        "#syntaxt list.insert(index,value)\n",
        "my_list.insert(3,100)\n",
        "print(my_list)\n",
        "#To remove a value from a list\n",
        "my_list.remove(100)\n",
        "print(my_list)\n",
        "#To sort the list\n",
        "#my_list.sort()\n",
        "#print(my_list)\n",
        "#\n",
        "print('the list')\n",
        "print(my_list[::-1])\n",
        "\n",
        "\n",
        "#To reverse the list elements\n",
        "my_list.reverse()\n",
        "print(my_list)\n",
        "#To clear the list elements\n",
        "my_list.clear()\n",
        "print(my_list)"
      ],
      "metadata": {
        "id": "81tTYsWJ80Cv",
        "outputId": "786079ba-d98c-4e36-e3f7-1c6e00ea2cdb",
        "colab": {
          "base_uri": "https://localhost:8080/"
        }
      },
      "execution_count": null,
      "outputs": [
        {
          "output_type": "stream",
          "name": "stdout",
          "text": [
            "[10, 20, 30, 40, 50, 60]\n",
            "[20, 30]\n",
            "[10, 20, 30, 40, 50, 60, [70, 80]]\n",
            "[10, 20, 30, 50, 60, [70, 80]]\n",
            "[10, 20, 30, 100, 50, 60, [70, 80]]\n",
            "[10, 20, 30, 50, 60, [70, 80]]\n",
            "the list\n",
            "[[70, 80], 60, 50, 30, 20, 10]\n",
            "[[70, 80], 60, 50, 30, 20, 10]\n",
            "[]\n"
          ]
        }
      ]
    },
    {
      "cell_type": "code",
      "source": [
        "#create a function with parameters and with return value\n",
        "def add(a, b):\n",
        "  c=int(a)+int(b)\n",
        "  return c\n",
        "print(\"Call a parametered function\")\n",
        "a= int(input(\"enter number a \"))\n",
        "b= int(input(\"enter number b \"))\n",
        "c= add(a, b)\n",
        "print(\"Sum of number a \"+str(a)+\" and b \"+str(b)+\" is \"+str(c))\n"
      ],
      "metadata": {
        "colab": {
          "base_uri": "https://localhost:8080/"
        },
        "id": "rOhqpjqDEb0n",
        "outputId": "a6ccf17d-a34f-485d-9f76-192bc13040e4"
      },
      "execution_count": null,
      "outputs": [
        {
          "output_type": "stream",
          "name": "stdout",
          "text": [
            "Call a parametered function\n",
            "enter number a 10\n",
            "enter number b 20\n",
            "Sum of number a 10 and b 20 is 30\n"
          ]
        }
      ]
    },
    {
      "cell_type": "code",
      "source": [
        "#validate is the input is an integer\n",
        "def get_integer_input(prompt):\n",
        "  \"\"\"Prompts the user for input until a valid integer is entered.\"\"\"\n",
        "  while True:\n",
        "    try:\n",
        "      value = int(input(prompt))\n",
        "      return value\n",
        "    except ValueError:\n",
        "      print(\"Invalid input. Please enter an integer.\")\n",
        "#an add function to sum two numbers\n",
        "def add(a, b):\n",
        "  c=int(a)+int(b)\n",
        "  return c\n",
        "\n",
        "def test(a, b, c, d):\n",
        "  return a, b, c, d\n",
        "\n",
        "a = get_integer_input(\"Please enter a number a: \")\n",
        "print(f\"You entered: {a}\")\n",
        "b = get_integer_input(\"Please enter a number b: \")\n",
        "print(f\"You entered: {b}\")\n",
        "c= add(a, b)\n",
        "print(\"Sum of number a \"+str(a)+\" and b \"+str(b)+\" is \"+str(c))\n",
        "\n",
        "#mutiple values are returned in a tuple\n",
        "x = test(1, 2, 3, 4)\n",
        "print(x)\n",
        "print(type(x))\n"
      ],
      "metadata": {
        "colab": {
          "base_uri": "https://localhost:8080/"
        },
        "id": "C1k5bLu4Ggwu",
        "outputId": "04d74f84-5a5b-472d-eb24-9cb902e5b4de"
      },
      "execution_count": null,
      "outputs": [
        {
          "output_type": "stream",
          "name": "stdout",
          "text": [
            "Please enter a number a: 12\n",
            "You entered: 12\n",
            "Please enter a number b: 45\n",
            "You entered: 45\n",
            "Sum of number a 12 and b 45 is 57\n",
            "(1, 2, 3, 4)\n",
            "<class 'tuple'>\n"
          ]
        }
      ]
    },
    {
      "cell_type": "code",
      "source": [
        "#create a function with parameters and without return value\n",
        "def add(a, b):\n",
        "  c=int(a)+int(b)\n",
        "  print(\"Sum of number a \"+str(a)+\" and b \"+str(b)+\" is \"+str(c))\n",
        "a= input(\"enter number a \")\n",
        "b= input(\"enter number b \")\n",
        "add(a,b)"
      ],
      "metadata": {
        "colab": {
          "base_uri": "https://localhost:8080/"
        },
        "id": "YZkLSyzuHh--",
        "outputId": "9a8f8d05-2872-409b-a3d8-6416c8a5f670"
      },
      "execution_count": null,
      "outputs": [
        {
          "output_type": "stream",
          "name": "stdout",
          "text": [
            "enter number a 12\n",
            "enter number b 14\n",
            "Sum of number a 12 and b 14 is 26\n"
          ]
        }
      ]
    },
    {
      "cell_type": "code",
      "source": [
        "#create a function without parameters and with return value\n",
        "def add():\n",
        "  a= int(input(\"enter number a \"))\n",
        "  b= int(input(\"enter number b \"))\n",
        "  c=a+b\n",
        "  return c\n",
        "c= add()\n",
        "print(\"Sum of number a \"+str(a)+\" and b \"+str(b)+\" is \"+str(c))\n",
        "\n",
        "def test1():\n",
        "  l1= (10,20,30,40)\n",
        "  t1= (100,200,300,400)\n",
        "  return l1, t1\n",
        "x = test1()\n",
        "print(x)\n",
        "print(type(x))"
      ],
      "metadata": {
        "colab": {
          "base_uri": "https://localhost:8080/"
        },
        "id": "r7ZgQuz5H4zN",
        "outputId": "33915c67-1184-46bd-e9ba-cdfc046c0a1d"
      },
      "execution_count": null,
      "outputs": [
        {
          "output_type": "stream",
          "name": "stdout",
          "text": [
            "enter number a 23\n",
            "enter number b 53\n",
            "Sum of number a 12 and b 45 is 76\n",
            "((10, 20, 30, 40), (100, 200, 300, 400))\n",
            "<class 'tuple'>\n"
          ]
        }
      ]
    },
    {
      "cell_type": "code",
      "source": [
        "#create a function without parameters and without return value\n",
        "def add():\n",
        "  a= int(input(\"enter number a \"))\n",
        "  b= int(input(\"enter number b \"))\n",
        "  c=a+b\n",
        "  print(\"Sum of number a \"+str(a)+\" and b \"+str(b)+\" is \"+str(c))\n",
        "  print(type(c))\n",
        "add()\n"
      ],
      "metadata": {
        "colab": {
          "base_uri": "https://localhost:8080/"
        },
        "id": "X4swON-KINCF",
        "outputId": "cd424a11-fee6-46a1-8703-8f40c7aaf1e5"
      },
      "execution_count": null,
      "outputs": [
        {
          "output_type": "stream",
          "name": "stdout",
          "text": [
            "enter number a 23\n",
            "enter number b 34\n",
            "Sum of number a 23 and b 34 is 57\n",
            "<class 'int'>\n"
          ]
        }
      ]
    },
    {
      "cell_type": "code",
      "source": [
        "def test2(a,b,c,d):\n",
        "  return a,b,c,d\n",
        "x,y= test2(1,2,3,4)[1:3]\n",
        "print(x)\n",
        "print(type(x))\n",
        "print(y)\n",
        "print(type(y))"
      ],
      "metadata": {
        "colab": {
          "base_uri": "https://localhost:8080/"
        },
        "id": "YjPbYStcJ0Mn",
        "outputId": "77c61ee2-703f-48bd-dbf3-7b593f9c0ab6"
      },
      "execution_count": null,
      "outputs": [
        {
          "output_type": "stream",
          "name": "stdout",
          "text": [
            "2\n",
            "<class 'int'>\n",
            "3\n",
            "<class 'int'>\n"
          ]
        }
      ]
    },
    {
      "cell_type": "code",
      "source": [
        "def test3(a,b,c,d):\n",
        "  return a,b,c,d\n",
        "_,val2,_,val4=(10,20,30,40)\n",
        "print(val2,val4)"
      ],
      "metadata": {
        "colab": {
          "base_uri": "https://localhost:8080/"
        },
        "id": "_fy7-_veLp8B",
        "outputId": "24db5c54-2adb-45a9-c0cc-d64723360b2d"
      },
      "execution_count": null,
      "outputs": [
        {
          "output_type": "stream",
          "name": "stdout",
          "text": [
            "20 40\n"
          ]
        }
      ]
    },
    {
      "cell_type": "code",
      "source": [
        "#create a function without parameters and with return value\n",
        "def add():\n",
        "  a= int(input(\"enter number a \"))\n",
        "  b= int(input(\"enter number b \"))\n",
        "  c=a+b\n",
        "  return c\n",
        "c= add()\n",
        "print('sum of the numbers:' +str(c))1"
      ],
      "metadata": {
        "colab": {
          "base_uri": "https://localhost:8080/"
        },
        "id": "v7GAv0ibaI8P",
        "outputId": "acffeb0e-e4f3-420e-d5e9-ec9369584c9c"
      },
      "execution_count": null,
      "outputs": [
        {
          "output_type": "stream",
          "name": "stdout",
          "text": [
            "enter number a 12\n",
            "enter number b 4\n",
            "sum of the numbers:16\n"
          ]
        }
      ]
    },
    {
      "cell_type": "code",
      "source": [
        "def test1():\n",
        "  print('test1 start')\n",
        "  test2()\n",
        "  print('test1 end')\n",
        "def test2():\n",
        "  print('test2 start')\n",
        "  print('test 2 end')\n",
        "\n",
        "test1()"
      ],
      "metadata": {
        "colab": {
          "base_uri": "https://localhost:8080/"
        },
        "id": "hi9wYJ3naY82",
        "outputId": "916e1999-7e38-469d-d461-92c8014bbe82"
      },
      "execution_count": null,
      "outputs": [
        {
          "output_type": "stream",
          "name": "stdout",
          "text": [
            "test1 start\n",
            "test2 start\n",
            "test 2 end\n",
            "test1 end\n"
          ]
        }
      ]
    },
    {
      "cell_type": "code",
      "source": [
        "#Local Variable and its scope\n",
        "def test1():\n",
        "  x=10\n",
        "  x=x+1\n",
        "  print(x)\n",
        "#Since it is local variable, for both the function callings, the x will bear the value (10+1) = 11.\n",
        "test1()\n",
        "test1()"
      ],
      "metadata": {
        "colab": {
          "base_uri": "https://localhost:8080/"
        },
        "id": "JKM094s9kpMk",
        "outputId": "71ac8e4f-75df-4d05-94bc-83de16e633dc"
      },
      "execution_count": null,
      "outputs": [
        {
          "output_type": "stream",
          "name": "stdout",
          "text": [
            "11\n",
            "11\n"
          ]
        }
      ]
    },
    {
      "cell_type": "code",
      "source": [
        "#global variable\n",
        "n=10\n",
        "def test2():\n",
        "  n=5\n",
        "  print(n)#prints the local variable value. Since this call is inside the function test2()\n",
        "\n",
        "test2()\n",
        "print(n)#prints the value of the global variable. Since the local variable scope ended in the function test2() itselft\n"
      ],
      "metadata": {
        "colab": {
          "base_uri": "https://localhost:8080/"
        },
        "id": "d89Jd7FwmTFb",
        "outputId": "ce2761b2-81c6-4a54-dc79-ec6124a517e5"
      },
      "execution_count": null,
      "outputs": [
        {
          "output_type": "stream",
          "name": "stdout",
          "text": [
            "5\n",
            "10\n"
          ]
        }
      ]
    },
    {
      "cell_type": "code",
      "source": [
        "n=20 # global variable\n",
        "def test3():\n",
        "  global n # the glbal keyword lets the funciton call the global variable and make changes to its value.\n",
        "  n=n+1\n",
        "  print(n)\n",
        "\n",
        "test3()\n",
        "test3()\n",
        "print(type(test3)) #shows the type.\n",
        "print(test3) # shows the memory location"
      ],
      "metadata": {
        "colab": {
          "base_uri": "https://localhost:8080/"
        },
        "id": "Og_3SZGun4Wm",
        "outputId": "3c3580cc-1092-4905-cf44-879c59d5bb25"
      },
      "execution_count": null,
      "outputs": [
        {
          "output_type": "stream",
          "name": "stdout",
          "text": [
            "21\n",
            "22\n",
            "<class 'function'>\n",
            "<function test3 at 0x7d5455dae520>\n"
          ]
        }
      ]
    },
    {
      "cell_type": "code",
      "source": [],
      "metadata": {
        "id": "IEdW2RTXVOcX"
      },
      "execution_count": null,
      "outputs": []
    },
    {
      "cell_type": "code",
      "source": [
        "def multiplier_factory(factor):\n",
        "  \"\"\"Returns a function that multiplies its argument by the given factor.\"\"\"\n",
        "  def multiplier(number):\n",
        "    \"\"\"Nested function Multiplies its argument by the given factor.\"\"\"\n",
        "    return number * factor\n",
        "  return multiplier\n",
        "#create a function that multiplies by 2\n",
        "multiply_by_2 = multiplier_factory(2)\n",
        "#create a function that multiplies by 3\n",
        "multiply_by_3 = multiplier_factory(3)\n",
        "#use the created function\n",
        "result1 = multiply_by_2(5)\n",
        "result2 = multiply_by_3(5)\n",
        "print(result1)  # Output: 10\n",
        "print(result2)  # Output: 15\n",
        "print (multiply_by_2(5))  # Output: 10\n",
        "print (multiply_by_3(5))  # Output: 15"
      ],
      "metadata": {
        "colab": {
          "base_uri": "https://localhost:8080/"
        },
        "id": "d7ft8omoq2dR",
        "outputId": "6bd9fe11-3082-4e2a-e22e-5fc5dc2e95af"
      },
      "execution_count": null,
      "outputs": [
        {
          "output_type": "stream",
          "name": "stdout",
          "text": [
            "10\n",
            "15\n",
            "10\n",
            "15\n"
          ]
        }
      ]
    },
    {
      "cell_type": "code",
      "source": [
        "#required arguments\n",
        "#keyword arguments and positional argument\n",
        "#default arguments\n",
        "#variable length arguments -- Variable length positional argument(tuple) and Variable length keyword arguments(dictionary)\n",
        "def fun1(name, age, city):\n",
        "  print('my name is:', name, 'age is ', age,'city is:', city)\n",
        "def power(num,p=2):#Default argument\n",
        "  return num**p\n",
        "\n",
        "def sum(*a): #variable length positional args is referenced with '*' before the argument.\n",
        "  result=0\n",
        "  for i in a:\n",
        "    result=result+i\n",
        "  print(result)\n",
        "\n",
        "def addtion(**a): #variable length keyword args is referenced with '**' before the argument.\n",
        "  s=0\n",
        "  for i in a.values():\n",
        "    s=s+i\n",
        "  print(s)\n",
        "\n",
        "fun1('stanly',40,'chennai')#required arguments\n",
        "fun1(age=40,name='stanly',city='chennai')#Keyword arguments\n",
        "#positional argument and then Keyword argument\n",
        "fun1('stanly',40,city='chennai')#Positional arguments. The order of the positional arguments first and then Keyword arguments should follow.\n",
        "print(power(5)) # the default parameter for the p(power is 2) which is set in the function itself. if the value is not given, it will consider that default value.\n",
        "print(power(5,3)) #here the default value will be overridden by the value given here\n",
        "sum(10,20) #variable length positional args - it is going to loop through the number of arguments and get that calculated as defined.\n",
        "sum(10,20,30,40)\n",
        "addtion(a=10,b=20,c=30) #variable length keyword args\n"
      ],
      "metadata": {
        "colab": {
          "base_uri": "https://localhost:8080/"
        },
        "id": "7la7jXSevp_G",
        "outputId": "2f5bd4c1-1cfe-4719-aa9e-fff6ed73ea6a"
      },
      "execution_count": null,
      "outputs": [
        {
          "output_type": "stream",
          "name": "stdout",
          "text": [
            "my name is: stanly age is  40 city is: chennai\n",
            "my name is: stanly age is  40 city is: chennai\n",
            "my name is: stanly age is  40 city is: chennai\n",
            "25\n",
            "125\n",
            "30\n",
            "100\n",
            "60\n"
          ]
        }
      ]
    },
    {
      "cell_type": "code",
      "source": [
        "#variable argument - variable positional and keyword arguments\n",
        "def add(*tuple_args,**dictionary_args):\n",
        "  #print(sum(tuple_args))\n",
        "  #print(sum(dictionary_args.values()))\n",
        "  print(tuple_args)\n",
        "  print(dictionary_args)\n",
        "  print(type(tuple_args))\n",
        "  print(type(dictionary_args))\n",
        "\n",
        "add(10,20,30,a=100,b=200)"
      ],
      "metadata": {
        "id": "SaN8TsVJf-rA",
        "outputId": "fd174f3c-8779-4052-c553-3e78ea5c34e4",
        "colab": {
          "base_uri": "https://localhost:8080/"
        }
      },
      "execution_count": null,
      "outputs": [
        {
          "output_type": "stream",
          "name": "stdout",
          "text": [
            "(10, 20, 30)\n",
            "{'a': 100, 'b': 200}\n",
            "<class 'tuple'>\n",
            "<class 'dict'>\n"
          ]
        }
      ]
    },
    {
      "cell_type": "code",
      "source": [
        "#arguments and its order\n",
        "def students(name, course, *parents_name, age, school=\"AAC\",**marks):\n",
        "  print('name: ', name)\n",
        "  print('class: ', course)\n",
        "  print('parents_name: ', parents_name)\n",
        "  print('age: ', age)\n",
        "  print('school: ', school)\n",
        "  print('marks: ', marks)\n",
        "  print(type(marks))\n",
        "\n",
        "students('Stanly','MCA','Stephen','Ispirith',age=40,cs=89,maths=75,acc=59,eng=69,tamil=83)\n"
      ],
      "metadata": {
        "id": "LeKXkCievOkf",
        "outputId": "6b1d56be-04fc-4cc4-d497-ddcf6f717523",
        "colab": {
          "base_uri": "https://localhost:8080/"
        }
      },
      "execution_count": null,
      "outputs": [
        {
          "output_type": "stream",
          "name": "stdout",
          "text": [
            "name:  Stanly\n",
            "class:  MCA\n",
            "parents_name:  ('Stephen', 'Ispirith')\n",
            "age:  40\n",
            "school:  AAC\n",
            "marks:  {'cs': 89, 'maths': 75, 'acc': 59, 'eng': 69, 'tamil': 83}\n",
            "<class 'dict'>\n"
          ]
        }
      ]
    },
    {
      "cell_type": "code",
      "source": [
        "#class in Python\n",
        "class calculator:\n",
        "  a=0 #attributes\n",
        "  b=0\n",
        "  result=0\n",
        "  def __init__(self,a,b): #Methods\n",
        "    self.a=a\n",
        "    self.b=b\n",
        "    self.result=0\n",
        "  def add(self,a,b):\n",
        "    self.result=self.a+self.b\n",
        "    print('addition of two numbers a and b is:',self.result)\n",
        "    pass\n",
        "  def sub(self,a,b):\n",
        "    self.result=self.a-self.b\n",
        "    print('subtraction of two numbers a and b is :', self.result)\n",
        "    pass\n",
        "  def mul(self, a, b):\n",
        "    self.result=self.a*self.b\n",
        "    print('multiplication of two numbers a and b is: ', self.result)\n",
        "    pass\n",
        "  def div(self,a,b):\n",
        "    self.result=self.a/self.b\n",
        "    print('division of two numbers a and b is:', self.result)\n",
        "    pass\n",
        "\n",
        "s= calculator(10,20) #object creation.\n",
        "s.add(10,20)\n",
        "s.sub(10,20)\n",
        "s.mul(10,20)\n",
        "s.div(10,20)\n"
      ],
      "metadata": {
        "colab": {
          "base_uri": "https://localhost:8080/"
        },
        "id": "t1QROZCZVQTD",
        "outputId": "fddd339a-bb16-459e-8f1f-781b6120f9d1"
      },
      "execution_count": null,
      "outputs": [
        {
          "output_type": "stream",
          "name": "stdout",
          "text": [
            "addition of two numbers a and b is: 30\n",
            "subtraction of two numbers a and b is : -10\n",
            "multiplication of two numbers a and b is:  200\n",
            "division of two numbers a and b is: 0.5\n"
          ]
        }
      ]
    },
    {
      "cell_type": "code",
      "source": [
        "#sample calculator class in python\n",
        "class calc:\n",
        "  a=0 #attributes\n",
        "  b=0\n",
        "  result=0\n",
        "  def __init__(self): #Methods\n",
        "    self.a=0\n",
        "    self.b=0\n",
        "    self.result=0\n",
        "  \"\"\"def get_integer_input(prompt):\n",
        "  #Prompts the user for input until a valid integer is entered.\n",
        "    while True:\n",
        "      try:\n",
        "        value = int(input(prompt))\n",
        "        return value\n",
        "      except ValueError:\n",
        "        print(\"Invalid input. Please enter an integer.\")\"\"\"\n",
        "  def getnumbers(self):\n",
        "    self.a=int(input(\"enter a number a: \")) #get_integer_input(\"enter number a: \")\n",
        "    self.b=int(input(\"enter a number b: \")) #get_integer_input(\"enter number b: \")\n",
        "  def add(self):\n",
        "    self.result=self.a+self.b\n",
        "    print('addition of two numbers a and b is:',self.result)\n",
        "    pass\n",
        "  def sub(self):\n",
        "    self.result=self.a-self.b\n",
        "    print('subtraction of two numbers a and b is :', self.result)\n",
        "    pass\n",
        "  def mul(self):\n",
        "    self.result=self.a*self.b\n",
        "    print('multiplication of two numbers a and b is: ', self.result)\n",
        "    pass\n",
        "  def div(self):\n",
        "    self.result=self.a/self.b\n",
        "    print('division of two numbers a and b is:', self.result)\n",
        "    pass\n",
        "\n",
        "c= calc() #object creation.\n",
        "c.getnumbers()\n",
        "c.add()\n",
        "c.sub()\n",
        "c.mul()\n",
        "c.div()"
      ],
      "metadata": {
        "colab": {
          "base_uri": "https://localhost:8080/"
        },
        "id": "n9gedM6WgtRh",
        "outputId": "79bb022d-dc59-4d6b-dd7a-acde4b97041f"
      },
      "execution_count": null,
      "outputs": [
        {
          "output_type": "stream",
          "name": "stdout",
          "text": [
            "enter a number a: 43\n",
            "enter a number b: 12\n",
            "addition of two numbers a and b is: 55\n",
            "subtraction of two numbers a and b is : 31\n",
            "multiplication of two numbers a and b is:  516\n",
            "division of two numbers a and b is: 3.5833333333333335\n"
          ]
        }
      ]
    },
    {
      "cell_type": "code",
      "source": [
        "class father:\n",
        "  def __init__(self):\n",
        "    print('father class constructor')\n",
        "    self.vechicle =\"scooter\"\n",
        "class son(father):\n",
        "  self.vechicle=\"bmw\"\n",
        "\n",
        "s= son()\n",
        "print(s.__dict__)"
      ],
      "metadata": {
        "colab": {
          "base_uri": "https://localhost:8080/",
          "height": 332
        },
        "id": "ltq7z_RumYXC",
        "outputId": "fe71e3d1-b09a-4d1e-dcaf-3046d160a0a3"
      },
      "execution_count": null,
      "outputs": [
        {
          "output_type": "error",
          "ename": "NameError",
          "evalue": "name 'self' is not defined",
          "traceback": [
            "\u001b[0;31m---------------------------------------------------------------------------\u001b[0m",
            "\u001b[0;31mNameError\u001b[0m                                 Traceback (most recent call last)",
            "\u001b[0;32m<ipython-input-1-acddd4be698a>\u001b[0m in \u001b[0;36m<cell line: 0>\u001b[0;34m()\u001b[0m\n\u001b[1;32m      3\u001b[0m     \u001b[0mprint\u001b[0m\u001b[0;34m(\u001b[0m\u001b[0;34m'father class constructor'\u001b[0m\u001b[0;34m)\u001b[0m\u001b[0;34m\u001b[0m\u001b[0;34m\u001b[0m\u001b[0m\n\u001b[1;32m      4\u001b[0m     \u001b[0mself\u001b[0m\u001b[0;34m.\u001b[0m\u001b[0mvechicle\u001b[0m \u001b[0;34m=\u001b[0m\u001b[0;34m\"scooter\"\u001b[0m\u001b[0;34m\u001b[0m\u001b[0;34m\u001b[0m\u001b[0m\n\u001b[0;32m----> 5\u001b[0;31m \u001b[0;32mclass\u001b[0m \u001b[0mson\u001b[0m\u001b[0;34m(\u001b[0m\u001b[0mfather\u001b[0m\u001b[0;34m)\u001b[0m\u001b[0;34m:\u001b[0m\u001b[0;34m\u001b[0m\u001b[0;34m\u001b[0m\u001b[0m\n\u001b[0m\u001b[1;32m      6\u001b[0m   \u001b[0mself\u001b[0m\u001b[0;34m.\u001b[0m\u001b[0mvechicle\u001b[0m\u001b[0;34m=\u001b[0m\u001b[0;34m\"bmw\"\u001b[0m\u001b[0;34m\u001b[0m\u001b[0;34m\u001b[0m\u001b[0m\n\u001b[1;32m      7\u001b[0m \u001b[0;34m\u001b[0m\u001b[0m\n",
            "\u001b[0;32m<ipython-input-1-acddd4be698a>\u001b[0m in \u001b[0;36mson\u001b[0;34m()\u001b[0m\n\u001b[1;32m      4\u001b[0m     \u001b[0mself\u001b[0m\u001b[0;34m.\u001b[0m\u001b[0mvechicle\u001b[0m \u001b[0;34m=\u001b[0m\u001b[0;34m\"scooter\"\u001b[0m\u001b[0;34m\u001b[0m\u001b[0;34m\u001b[0m\u001b[0m\n\u001b[1;32m      5\u001b[0m \u001b[0;32mclass\u001b[0m \u001b[0mson\u001b[0m\u001b[0;34m(\u001b[0m\u001b[0mfather\u001b[0m\u001b[0;34m)\u001b[0m\u001b[0;34m:\u001b[0m\u001b[0;34m\u001b[0m\u001b[0;34m\u001b[0m\u001b[0m\n\u001b[0;32m----> 6\u001b[0;31m   \u001b[0mself\u001b[0m\u001b[0;34m.\u001b[0m\u001b[0mvechicle\u001b[0m\u001b[0;34m=\u001b[0m\u001b[0;34m\"bmw\"\u001b[0m\u001b[0;34m\u001b[0m\u001b[0;34m\u001b[0m\u001b[0m\n\u001b[0m\u001b[1;32m      7\u001b[0m \u001b[0;34m\u001b[0m\u001b[0m\n\u001b[1;32m      8\u001b[0m \u001b[0ms\u001b[0m\u001b[0;34m=\u001b[0m \u001b[0mson\u001b[0m\u001b[0;34m(\u001b[0m\u001b[0;34m)\u001b[0m\u001b[0;34m\u001b[0m\u001b[0;34m\u001b[0m\u001b[0m\n",
            "\u001b[0;31mNameError\u001b[0m: name 'self' is not defined"
          ]
        }
      ]
    },
    {
      "cell_type": "code",
      "source": [
        "#parameterized constructor\n",
        "class computer:\n",
        "  def __init__(self, ram,pro):\n",
        "    print(\"computer class constructor\")\n",
        "    self.ram = ram\n",
        "    self.processor = pro\n",
        "class mobile(computer):\n",
        "  #make sure all the parent class parameters are passed and then child class parameters\n",
        "  def __init__(self, ram,pro,model): #Child class parameters\n",
        "    super().__init__(ram,pro)#Parent class parameters\n",
        "    self.model=model\n",
        "    print(\"mobile class constructor called\")\n",
        "\n",
        "m = mobile(\"8gb\",\"snapdragon\",\"Android\")\n",
        "print(m.__dict__)"
      ],
      "metadata": {
        "colab": {
          "base_uri": "https://localhost:8080/"
        },
        "id": "z49nvMHnpcwR",
        "outputId": "752896c4-74b8-49d7-b5fc-42c9fe3ad00e"
      },
      "execution_count": null,
      "outputs": [
        {
          "output_type": "stream",
          "name": "stdout",
          "text": [
            "computer class constructor\n",
            "mobile class constructor called\n",
            "{'ram': '8gb', 'processor': 'snapdragon', 'model': 'Android'}\n"
          ]
        }
      ]
    },
    {
      "cell_type": "code",
      "source": [
        "#multi level inheritence\n",
        "class Grandfather:\n",
        "  gf_attribute =\"GF traits\"\n",
        "\n",
        "  def display_gf(self):\n",
        "    print(self.gf_attribute)\n",
        "\n",
        "class Father(Grandfather):\n",
        "  f_attribute =\"father traits\"\n",
        "\n",
        "  def display_f(self):\n",
        "    print(self.f_attribute)\n",
        "\n",
        "class Son(Father):\n",
        "  s_attribute =\"son traits\"\n",
        "\n",
        "  def display_s(self):\n",
        "    print(self.s_attribute)\n",
        "\n",
        "child1 = Grandfather()\n",
        "child2 = Father()\n",
        "child3 = Son()\n",
        "child1.display_gf()\n",
        "child2.display_f()\n",
        "child3.display_s()\n",
        "print(child1.s_attribute)\n",
        "print(child1.f_attribute)\n",
        "print(child1.gf_attribute)\n"
      ],
      "metadata": {
        "colab": {
          "base_uri": "https://localhost:8080/",
          "height": 263
        },
        "id": "wAjs18gnu5Os",
        "outputId": "13708c83-99eb-43c7-e6f4-6c174c451c1e"
      },
      "execution_count": null,
      "outputs": [
        {
          "output_type": "stream",
          "name": "stdout",
          "text": [
            "GF traits\n",
            "father traits\n",
            "son traits\n"
          ]
        },
        {
          "output_type": "error",
          "ename": "AttributeError",
          "evalue": "'Grandfather' object has no attribute 's_attribute'",
          "traceback": [
            "\u001b[0;31m---------------------------------------------------------------------------\u001b[0m",
            "\u001b[0;31mAttributeError\u001b[0m                            Traceback (most recent call last)",
            "\u001b[0;32m<ipython-input-4-b1de69e11af9>\u001b[0m in \u001b[0;36m<cell line: 0>\u001b[0;34m()\u001b[0m\n\u001b[1;32m     24\u001b[0m \u001b[0mchild2\u001b[0m\u001b[0;34m.\u001b[0m\u001b[0mdisplay_f\u001b[0m\u001b[0;34m(\u001b[0m\u001b[0;34m)\u001b[0m\u001b[0;34m\u001b[0m\u001b[0;34m\u001b[0m\u001b[0m\n\u001b[1;32m     25\u001b[0m \u001b[0mchild3\u001b[0m\u001b[0;34m.\u001b[0m\u001b[0mdisplay_s\u001b[0m\u001b[0;34m(\u001b[0m\u001b[0;34m)\u001b[0m\u001b[0;34m\u001b[0m\u001b[0;34m\u001b[0m\u001b[0m\n\u001b[0;32m---> 26\u001b[0;31m \u001b[0mprint\u001b[0m\u001b[0;34m(\u001b[0m\u001b[0mchild1\u001b[0m\u001b[0;34m.\u001b[0m\u001b[0ms_attribute\u001b[0m\u001b[0;34m)\u001b[0m\u001b[0;34m\u001b[0m\u001b[0;34m\u001b[0m\u001b[0m\n\u001b[0m\u001b[1;32m     27\u001b[0m \u001b[0mprint\u001b[0m\u001b[0;34m(\u001b[0m\u001b[0mchild1\u001b[0m\u001b[0;34m.\u001b[0m\u001b[0mf_attribute\u001b[0m\u001b[0;34m)\u001b[0m\u001b[0;34m\u001b[0m\u001b[0;34m\u001b[0m\u001b[0m\n\u001b[1;32m     28\u001b[0m \u001b[0mprint\u001b[0m\u001b[0;34m(\u001b[0m\u001b[0mchild1\u001b[0m\u001b[0;34m.\u001b[0m\u001b[0mgf_attribute\u001b[0m\u001b[0;34m)\u001b[0m\u001b[0;34m\u001b[0m\u001b[0;34m\u001b[0m\u001b[0m\n",
            "\u001b[0;31mAttributeError\u001b[0m: 'Grandfather' object has no attribute 's_attribute'"
          ]
        }
      ]
    },
    {
      "cell_type": "code",
      "source": [
        "#constructor in multi level inheritence\n",
        "class human():\n",
        "  def __init__(self):\n",
        "    print(\"human class constructor\")\n",
        "    self.name = \"Stephen\"\n",
        "class employee(human):\n",
        "  def __init__(self):\n",
        "    print(\"employee class constructor\")\n",
        "    self.salary = 100000\n",
        "\n",
        "class manager(employee):\n",
        "  def __init__(self):\n",
        "    print(\"Manager class constructor\")\n",
        "    self.bonus=2000\n",
        "\n",
        "m1 = manager()\n",
        "\n",
        "print(m1.__dict__)"
      ],
      "metadata": {
        "colab": {
          "base_uri": "https://localhost:8080/"
        },
        "id": "SU-pIw1XwgzG",
        "outputId": "6ea38a20-ec73-41f6-a490-1648cdeedea7"
      },
      "execution_count": null,
      "outputs": [
        {
          "output_type": "stream",
          "name": "stdout",
          "text": [
            "Manager class constructor\n",
            "{'bonus': 2000}\n"
          ]
        }
      ]
    },
    {
      "cell_type": "code",
      "source": [
        "#constructor in multi level inheritence\n",
        "class human():\n",
        "  def __init__(self):\n",
        "    print(\"human class constructor\")\n",
        "    self.name = \"Stephen\"\n",
        "class employee(human):\n",
        "  def __init__(self):\n",
        "    super().__init__()\n",
        "    print(\"employee class constructor\")\n",
        "    self.salary = 100000\n",
        "\n",
        "class manager(employee):\n",
        "  def __init__(self):\n",
        "    super().__init__()\n",
        "    print(\"Manager class constructor\")\n",
        "    self.bonus=2000\n",
        "\n",
        "m1 = manager()\n",
        "print(m1.__dict__)"
      ],
      "metadata": {
        "colab": {
          "base_uri": "https://localhost:8080/"
        },
        "id": "b7PpPdE9xjJg",
        "outputId": "ddf41b7b-87a7-414c-9e59-fc67b1367335"
      },
      "execution_count": null,
      "outputs": [
        {
          "output_type": "stream",
          "name": "stdout",
          "text": [
            "human class constructor\n",
            "employee class constructor\n",
            "Manager class constructor\n",
            "{'name': 'Stephen', 'salary': 100000, 'bonus': 2000}\n"
          ]
        }
      ]
    },
    {
      "cell_type": "code",
      "source": [
        "# class varibale inheritance\n",
        "\n",
        "# Parent class with a class variable\n",
        "class Parent:\n",
        "  parent_class_variable = \"I am a parent class variable\"\n",
        "\n",
        "  def __init__(self, name):\n",
        "    self.name = name\n",
        "\n",
        "  def display_parent_variable(self):\n",
        "    print(f\"From Parent instance {self.name}: {Parent.parent_class_variable}\")\n",
        "\n",
        "# Child class inheriting from Parent\n",
        "class Child(Parent):\n",
        "  child_class_variable = \"I am a child class variable\"\n",
        "\n",
        "  def __init__(self, name, age):\n",
        "    super().__init__(name) # Initialize the parent class\n",
        "    self.age = age\n",
        "\n",
        "  def display_variables(self):\n",
        "    print(f\"From Child instance {self.name}:\")\n",
        "    print(f\"  Parent class variable: {self.parent_class_variable}\") # Accessing inherited class variable\n",
        "    print(f\"  Child class variable: {self.child_class_variable}\") # Accessing child class variable\n",
        "\n",
        "# Create an instance of the Child class\n",
        "child_instance = Child(\"Alice\", 10)\n",
        "\n",
        "# Access and display the inherited class variable\n",
        "print(\"Accessing class variables:\")\n",
        "print(f\"From Parent class: {Parent.parent_class_variable}\")\n",
        "print(f\"From Child class (accessing inherited): {Child.parent_class_variable}\")\n",
        "print(f\"From Child instance (accessing inherited): {child_instance.parent_class_variable}\")\n",
        "print(f\"From Child class: {Child.child_class_variable}\")\n",
        "\n",
        "# Use the method to display the variables\n",
        "child_instance.display_variables()\n",
        "\n",
        "# Create a Parent instance to show the difference\n",
        "parent_instance = Parent(\"Bob\")\n",
        "parent_instance.display_parent_variable()\n",
        "# print(parent_instance.child_class_variable) # This would cause an error"
      ],
      "metadata": {
        "colab": {
          "base_uri": "https://localhost:8080/"
        },
        "id": "3D1rbRATy2vS",
        "outputId": "e90cde0a-fd06-4131-e629-cd43c4224559"
      },
      "execution_count": null,
      "outputs": [
        {
          "output_type": "stream",
          "name": "stdout",
          "text": [
            "Accessing class variables:\n",
            "From Parent class: I am a parent class variable\n",
            "From Child class (accessing inherited): I am a parent class variable\n",
            "From Child instance (accessing inherited): I am a parent class variable\n",
            "From Child class: I am a child class variable\n",
            "From Child instance Alice:\n",
            "  Parent class variable: I am a parent class variable\n",
            "  Child class variable: I am a child class variable\n",
            "From Parent instance Bob: I am a parent class variable\n"
          ]
        }
      ]
    },
    {
      "cell_type": "code",
      "source": [
        "#interview question\n",
        "#1\n",
        "l =[True, False, 2,3,4,5,\"one\",0]\n",
        "b=0 in l #returns true\n",
        "print(b)\n",
        "\n",
        "\n",
        "\n"
      ],
      "metadata": {
        "id": "X2y9JZUm-SdJ",
        "outputId": "9e5b225a-91b9-4e59-be9d-528c894dfe0b",
        "colab": {
          "base_uri": "https://localhost:8080/"
        }
      },
      "execution_count": null,
      "outputs": [
        {
          "output_type": "stream",
          "name": "stdout",
          "text": [
            "True\n"
          ]
        }
      ]
    },
    {
      "cell_type": "code",
      "source": [
        "#2\n",
        "my_tuple = (1,2,3,4)\n",
        "my_tuple[1] = my_tuple[1] + my_tuple[0] # it is illegal, tuple doesnot support item assignment\n",
        "print(my_tuple)"
      ],
      "metadata": {
        "id": "zYea2opFU09_",
        "outputId": "87cdba63-3d86-4ace-c8b1-b5409620279a",
        "colab": {
          "base_uri": "https://localhost:8080/",
          "height": 193
        }
      },
      "execution_count": null,
      "outputs": [
        {
          "output_type": "error",
          "ename": "TypeError",
          "evalue": "'tuple' object does not support item assignment",
          "traceback": [
            "\u001b[0;31m---------------------------------------------------------------------------\u001b[0m",
            "\u001b[0;31mTypeError\u001b[0m                                 Traceback (most recent call last)",
            "\u001b[0;32m<ipython-input-8-8db4121e748a>\u001b[0m in \u001b[0;36m<cell line: 0>\u001b[0;34m()\u001b[0m\n\u001b[1;32m      1\u001b[0m \u001b[0;31m#2\u001b[0m\u001b[0;34m\u001b[0m\u001b[0;34m\u001b[0m\u001b[0m\n\u001b[1;32m      2\u001b[0m \u001b[0mmy_tuple\u001b[0m \u001b[0;34m=\u001b[0m \u001b[0;34m(\u001b[0m\u001b[0;36m1\u001b[0m\u001b[0;34m,\u001b[0m\u001b[0;36m2\u001b[0m\u001b[0;34m,\u001b[0m\u001b[0;36m3\u001b[0m\u001b[0;34m,\u001b[0m\u001b[0;36m4\u001b[0m\u001b[0;34m)\u001b[0m\u001b[0;34m\u001b[0m\u001b[0;34m\u001b[0m\u001b[0m\n\u001b[0;32m----> 3\u001b[0;31m \u001b[0mmy_tuple\u001b[0m\u001b[0;34m[\u001b[0m\u001b[0;36m1\u001b[0m\u001b[0;34m]\u001b[0m \u001b[0;34m=\u001b[0m \u001b[0mmy_tuple\u001b[0m\u001b[0;34m[\u001b[0m\u001b[0;36m1\u001b[0m\u001b[0;34m]\u001b[0m \u001b[0;34m+\u001b[0m \u001b[0mmy_tuple\u001b[0m\u001b[0;34m[\u001b[0m\u001b[0;36m0\u001b[0m\u001b[0;34m]\u001b[0m\u001b[0;34m\u001b[0m\u001b[0;34m\u001b[0m\u001b[0m\n\u001b[0m\u001b[1;32m      4\u001b[0m \u001b[0mprint\u001b[0m\u001b[0;34m(\u001b[0m\u001b[0mmy_tuple\u001b[0m\u001b[0;34m)\u001b[0m\u001b[0;34m\u001b[0m\u001b[0;34m\u001b[0m\u001b[0m\n",
            "\u001b[0;31mTypeError\u001b[0m: 'tuple' object does not support item assignment"
          ]
        }
      ]
    },
    {
      "cell_type": "code",
      "source": [
        "#what is the expected output\n",
        "x=[0,1,2]\n",
        "x.insert(0,1)\n",
        "del x[0]\n",
        "print(sum(x))"
      ],
      "metadata": {
        "id": "khZt1kuMU9Gi",
        "outputId": "f62d70f2-cacf-4662-e3bc-bdeceafe7fb7",
        "colab": {
          "base_uri": "https://localhost:8080/"
        }
      },
      "execution_count": null,
      "outputs": [
        {
          "output_type": "stream",
          "name": "stdout",
          "text": [
            "3\n"
          ]
        }
      ]
    },
    {
      "cell_type": "code",
      "source": [
        "list1=[1,3]\n",
        "list2=list1\n",
        "list1[0]=4\n",
        "print(list2)\n"
      ],
      "metadata": {
        "id": "F0-9Xa1lVbuT",
        "outputId": "f4cc864c-020b-40f2-d3c4-234745555d22",
        "colab": {
          "base_uri": "https://localhost:8080/"
        }
      },
      "execution_count": null,
      "outputs": [
        {
          "output_type": "stream",
          "name": "stdout",
          "text": [
            "[4, 3]\n"
          ]
        }
      ]
    },
    {
      "cell_type": "code",
      "source": [
        "data=['peter', 404, 3.03,'We',33.3]\n",
        "\n",
        "nums=[1,2,3]\n",
        "vals= nums\n",
        "del vals[1:2]\n",
        "print(nums)"
      ],
      "metadata": {
        "id": "EdSJbQzIVqaA",
        "outputId": "1f0c3d61-07fc-4903-8003-351e996ca7d6",
        "colab": {
          "base_uri": "https://localhost:8080/"
        }
      },
      "execution_count": null,
      "outputs": [
        {
          "output_type": "stream",
          "name": "stdout",
          "text": [
            "[1, 3]\n"
          ]
        }
      ]
    },
    {
      "cell_type": "code",
      "source": [
        "dct ={}\n",
        "dct['1']=(1,2)\n",
        "dct['2']=(2,1)\n",
        "for x in dct.keys():\n",
        "  print(dct[x][1], end='')"
      ],
      "metadata": {
        "id": "yYCZFbz7WCj7",
        "outputId": "20649d10-b146-4d65-b5c1-8f9f28726ca3",
        "colab": {
          "base_uri": "https://localhost:8080/"
        }
      },
      "execution_count": null,
      "outputs": [
        {
          "output_type": "stream",
          "name": "stdout",
          "text": [
            "21"
          ]
        }
      ]
    },
    {
      "cell_type": "code",
      "source": [
        "print(list('hello'))"
      ],
      "metadata": {
        "id": "R5alB852W6yp",
        "outputId": "1c992885-eb01-4bbe-bc69-278c114a49ea",
        "colab": {
          "base_uri": "https://localhost:8080/"
        }
      },
      "execution_count": null,
      "outputs": [
        {
          "output_type": "stream",
          "name": "stdout",
          "text": [
            "['h', 'e', 'l', 'l', 'o']\n"
          ]
        }
      ]
    },
    {
      "cell_type": "code",
      "source": [
        "a=[1,2,3,4,5,6,7,8,9]\n",
        "print(a[::2])\n"
      ],
      "metadata": {
        "id": "5_pHH9OAXDxC",
        "outputId": "c85c7ed7-b5a4-4a2a-8cb6-f9d8ed173f4a",
        "colab": {
          "base_uri": "https://localhost:8080/"
        }
      },
      "execution_count": null,
      "outputs": [
        {
          "output_type": "stream",
          "name": "stdout",
          "text": [
            "[1, 3, 5, 7, 9]\n"
          ]
        }
      ]
    },
    {
      "cell_type": "code",
      "source": [
        "d={}\n",
        "d[1]=1\n",
        "d['1']=2\n",
        "d[1]+=1\n",
        "sum=0\n",
        "for k in d:\n",
        "  sum+=d[k]\n",
        "print(sum)\n"
      ],
      "metadata": {
        "id": "nzNuFH7fXSTR",
        "outputId": "9cab05f1-6bd4-4cf6-b325-403aa4886aae",
        "colab": {
          "base_uri": "https://localhost:8080/"
        }
      },
      "execution_count": null,
      "outputs": [
        {
          "output_type": "stream",
          "name": "stdout",
          "text": [
            "4\n"
          ]
        }
      ]
    },
    {
      "cell_type": "code",
      "source": [
        "dictionary={'one':'two','three':'one','two':'three'}\n",
        "v=dictionary['one']\n",
        "for k in range(len(dictionary)):\n",
        "  v=dictionary[v]\n",
        "print(v)"
      ],
      "metadata": {
        "id": "adH81J_FX2tZ",
        "outputId": "1ad60c10-4d6e-4e55-f2d5-baf9cae5f2bc",
        "colab": {
          "base_uri": "https://localhost:8080/"
        }
      },
      "execution_count": null,
      "outputs": [
        {
          "output_type": "stream",
          "name": "stdout",
          "text": [
            "two\n"
          ]
        }
      ]
    },
    {
      "cell_type": "code",
      "source": [
        "my_list=[3,1,-1]\n",
        "my_list[-1]=my_list[-2]\n",
        "print(my_list)\n"
      ],
      "metadata": {
        "id": "s59S7RZ-Ygnd",
        "outputId": "2524542a-0e6b-4ce5-c4ab-39d4ba830a46",
        "colab": {
          "base_uri": "https://localhost:8080/"
        }
      },
      "execution_count": null,
      "outputs": [
        {
          "output_type": "stream",
          "name": "stdout",
          "text": [
            "[3, 1, 1]\n"
          ]
        }
      ]
    },
    {
      "cell_type": "code",
      "source": [
        "data={'peter': 30,'Paul': 31}\n",
        "print(list(data.keys()))"
      ],
      "metadata": {
        "id": "3eR68dVAZCNR",
        "outputId": "142a7175-68ce-4099-df8b-48cc24703ea1",
        "colab": {
          "base_uri": "https://localhost:8080/"
        }
      },
      "execution_count": null,
      "outputs": [
        {
          "output_type": "stream",
          "name": "stdout",
          "text": [
            "['peter', 'Paul']\n"
          ]
        }
      ]
    },
    {
      "cell_type": "code",
      "source": [
        "tup=(1,) + (1,)\n",
        "tup=tup+tup\n",
        "print(tup)\n",
        "print(len(tup))"
      ],
      "metadata": {
        "id": "JWlztfJhZXII",
        "outputId": "c3f211b6-00be-426b-e51c-fb39b7518be9",
        "colab": {
          "base_uri": "https://localhost:8080/"
        }
      },
      "execution_count": null,
      "outputs": [
        {
          "output_type": "stream",
          "name": "stdout",
          "text": [
            "(1, 1, 1, 1)\n",
            "4\n"
          ]
        }
      ]
    },
    {
      "cell_type": "code",
      "source": [
        "w=[7,3,23,42]\n",
        "x=w[1:]\n",
        "y=w[1:]\n",
        "z=w\n",
        "y[0]=10\n",
        "z[1]=20\n",
        "print(w)"
      ],
      "metadata": {
        "id": "m0-BUyj2ZoCL",
        "outputId": "ea523387-1e48-4397-c16d-5f7789a02f80",
        "colab": {
          "base_uri": "https://localhost:8080/"
        }
      },
      "execution_count": null,
      "outputs": [
        {
          "output_type": "stream",
          "name": "stdout",
          "text": [
            "[7, 20, 23, 42]\n"
          ]
        }
      ]
    },
    {
      "cell_type": "code",
      "source": [
        "#Create a new variable, first_order_remainder and set it equal to 269 modulo 10.\n",
        "first_order_remainder = 269 % 10\n",
        "print(first_order_remainder)"
      ],
      "metadata": {
        "id": "bknJQIHgaUT9",
        "outputId": "7d938242-0bd4-4dc8-caa6-57244bd6d1b3",
        "colab": {
          "base_uri": "https://localhost:8080/"
        }
      },
      "execution_count": null,
      "outputs": [
        {
          "output_type": "stream",
          "name": "stdout",
          "text": [
            "9\n"
          ]
        }
      ]
    },
    {
      "cell_type": "code",
      "source": [
        "num_1 = 10\n",
        "num_2 = 20\n",
        "num_3 = num_1\n",
        "num_1 = 100\n",
        "num_3"
      ],
      "metadata": {
        "id": "OJtZOoxcefe9",
        "outputId": "7fc10121-cae0-406f-f01e-38050b2bb89a",
        "colab": {
          "base_uri": "https://localhost:8080/"
        }
      },
      "execution_count": null,
      "outputs": [
        {
          "output_type": "execute_result",
          "data": {
            "text/plain": [
              "10"
            ]
          },
          "metadata": {},
          "execution_count": 8
        }
      ]
    },
    {
      "cell_type": "code",
      "source": [
        "cool_number = 12 + 30\n",
        "cool_number * 5\n",
        "print(cool_number)"
      ],
      "metadata": {
        "id": "JY56cno6swcT",
        "outputId": "873ad4da-07ab-4f72-f6b9-bd936b240696",
        "colab": {
          "base_uri": "https://localhost:8080/"
        }
      },
      "execution_count": null,
      "outputs": [
        {
          "output_type": "stream",
          "name": "stdout",
          "text": [
            "42\n"
          ]
        }
      ]
    },
    {
      "cell_type": "code",
      "source": [
        "\n",
        "new_list = [\"Red\", \"Blue\", \"White\", \"Green\"]\n",
        "z = sorted(new_list)\n",
        "d = list(z)\n",
        "print(d)\n",
        "print(d[3], d[2], d[1], d[0])\n",
        "d[0], d[1], d[2], d[3] = d[3], d[2], d[1], d[0]\n",
        "print(d[0], d[1], d[2], d[3])"
      ],
      "metadata": {
        "id": "YMicLC7uJL-b",
        "outputId": "d8a6d741-fe5c-4247-ea61-ee93028ead4d",
        "colab": {
          "base_uri": "https://localhost:8080/"
        }
      },
      "execution_count": null,
      "outputs": [
        {
          "output_type": "stream",
          "name": "stdout",
          "text": [
            "['Blue', 'Green', 'Red', 'White']\n",
            "White Red Green Blue\n",
            "White Red Green Blue\n"
          ]
        }
      ]
    },
    {
      "cell_type": "code",
      "source": [
        "'1' + '2' if  '123'.isdigit() else '2'  + '3'"
      ],
      "metadata": {
        "id": "KPZArIsVKnvD",
        "outputId": "a135b79e-edbc-4cb2-a8f0-988d243ec4f6",
        "colab": {
          "base_uri": "https://localhost:8080/",
          "height": 35
        }
      },
      "execution_count": null,
      "outputs": [
        {
          "output_type": "execute_result",
          "data": {
            "text/plain": [
              "'12'"
            ],
            "application/vnd.google.colaboratory.intrinsic+json": {
              "type": "string"
            }
          },
          "metadata": {},
          "execution_count": 9
        }
      ]
    },
    {
      "cell_type": "code",
      "source": [
        "a = 5\n",
        "b = 10\n",
        "c = \"five\"\n",
        "#What are the results of evaluating the conditional expression?\n",
        "print(a == c)\n",
        "print(a >= b)\n",
        "print(not(a < b and a > b))\n"
      ],
      "metadata": {
        "id": "5uJZJNwAKwUz",
        "outputId": "16fbfef0-174f-40ab-a274-a6e795cd320e",
        "colab": {
          "base_uri": "https://localhost:8080/"
        }
      },
      "execution_count": null,
      "outputs": [
        {
          "output_type": "stream",
          "name": "stdout",
          "text": [
            "False\n",
            "False\n",
            "True\n"
          ]
        }
      ]
    },
    {
      "cell_type": "code",
      "source": [
        "if 'bin' in {'float': 1.2, 'bin': 0b010}:\n",
        "     print('a')\n",
        "     print('b')\n",
        "print('c')"
      ],
      "metadata": {
        "id": "Zp-QiY9iLNbE",
        "outputId": "e423cb9d-f89d-4f56-e314-d3360ebd06b1",
        "colab": {
          "base_uri": "https://localhost:8080/"
        }
      },
      "execution_count": null,
      "outputs": [
        {
          "output_type": "stream",
          "name": "stdout",
          "text": [
            "a\n",
            "b\n",
            "c\n"
          ]
        }
      ]
    },
    {
      "cell_type": "code",
      "source": [
        "var = 'hi'\n",
        "if(type(var) == int):\n",
        "    print(\"Type of the variable is Integer\")\n",
        "elif(type(var) == float):\n",
        "    print(\"Type of the variable is Float\")\n",
        "elif(type(var) == complex):\n",
        "    print(\"Type of the variable is Complex\")\n",
        "else:\n",
        "    print(\"Type of the variable is Unknown\")"
      ],
      "metadata": {
        "id": "kVcevSSCL-lJ",
        "outputId": "f48a0ff1-eb1e-432a-b056-9ff70f59bb0e",
        "colab": {
          "base_uri": "https://localhost:8080/"
        }
      },
      "execution_count": null,
      "outputs": [
        {
          "output_type": "stream",
          "name": "stdout",
          "text": [
            "Type of the variable is Unknown\n"
          ]
        }
      ]
    },
    {
      "cell_type": "code",
      "source": [
        "a = [1, 'one', {2: 'two'}, 3]\n",
        "b = len(a)\n",
        "\n",
        "if b == 4:\n",
        "   print('Length of this list is 4')\n",
        "   if b == 5:\n",
        "       print('Length of this list is 5')\n",
        "   else:\n",
        "         print(b)"
      ],
      "metadata": {
        "id": "kGpcF0LoMMoj",
        "outputId": "c48dcdd3-bb0e-4391-f695-1f3a94cb3669",
        "colab": {
          "base_uri": "https://localhost:8080/"
        }
      },
      "execution_count": null,
      "outputs": [
        {
          "output_type": "stream",
          "name": "stdout",
          "text": [
            "Length of this list is 4\n",
            "4\n"
          ]
        }
      ]
    },
    {
      "cell_type": "code",
      "source": [
        "#Which of the following function calls will generate the list below?\n",
        "#[10, 7, 4, 1, -2]\n",
        "#Instruction: Choose the option that best answers the question.\n",
        "\n",
        "print(list(range(10, -3, -3)))\n",
        "\n",
        "print(list(range(-2, 11, -3)))\n",
        "\n",
        "print(list(range(10, -3, 3)))\n",
        "\n",
        "print(list(range(-2, 10, -3)))\n",
        "x = range(2, 14)\n",
        "print(x)"
      ],
      "metadata": {
        "id": "5QlWVRKjMiTz",
        "outputId": "fc0e049a-e439-442d-c941-d4ff9e4258af",
        "colab": {
          "base_uri": "https://localhost:8080/"
        }
      },
      "execution_count": null,
      "outputs": [
        {
          "output_type": "stream",
          "name": "stdout",
          "text": [
            "[10, 7, 4, 1, -2]\n",
            "[]\n",
            "[]\n",
            "[]\n",
            "range(2, 14)\n"
          ]
        }
      ]
    },
    {
      "cell_type": "code",
      "source": [
        "my_list = [['tiger', 'lion', 'leopard'], ['camel', 'llama', 'alpaca'], ['zebra', 'donkey', 'wildebeest']]\n",
        "\n",
        "for x in my_list:\n",
        "    print(type(x))\n",
        "my_dict = {1: 'one', 2: 'two', 3: 'three'}\n",
        "for x in my_dict:\n",
        "    print (x)"
      ],
      "metadata": {
        "id": "EFhf39uENuUF",
        "outputId": "afa65ae3-97f9-421f-c382-5f266c9cce08",
        "colab": {
          "base_uri": "https://localhost:8080/"
        }
      },
      "execution_count": null,
      "outputs": [
        {
          "output_type": "stream",
          "name": "stdout",
          "text": [
            "<class 'list'>\n",
            "<class 'list'>\n",
            "<class 'list'>\n",
            "1\n",
            "2\n",
            "3\n"
          ]
        }
      ]
    },
    {
      "cell_type": "code",
      "source": [
        "x = list(range(-17, -7, 2))\n",
        "print(x)"
      ],
      "metadata": {
        "id": "bXjNd4bhOdQG",
        "outputId": "97925749-f2ef-4f93-f184-a801df40b0dc",
        "colab": {
          "base_uri": "https://localhost:8080/"
        }
      },
      "execution_count": null,
      "outputs": [
        {
          "output_type": "stream",
          "name": "stdout",
          "text": [
            "[-17, -15, -13, -11, -9]\n"
          ]
        }
      ]
    },
    {
      "cell_type": "code",
      "source": [
        "#The following code takes the sum of all the scores in grades and averages them. The correct answer should be 80.8, however, we get a different answer – 23.22. Can you explain why?\n",
        "#Code\n",
        "grades = [99, 83, 57, 65, 100]\n",
        "average = 0\n",
        "for grade in grades:\n",
        "  average += grade\n",
        "  average = average / len(grades)\n",
        "print(average)"
      ],
      "metadata": {
        "colab": {
          "base_uri": "https://localhost:8080/"
        },
        "id": "CYjC84zMfGss",
        "outputId": "8a287600-c883-4b9a-87d1-d6464b7c0213"
      },
      "execution_count": null,
      "outputs": [
        {
          "output_type": "stream",
          "name": "stdout",
          "text": [
            "23.220480000000002\n"
          ]
        }
      ]
    },
    {
      "cell_type": "code",
      "source": [
        "x = 0\n",
        "\n",
        "if x = 0:\n",
        "  print(\"x is equal to zero\")\n",
        "elif x >= 0:\n",
        "  print(\"x is greater than zero\")\n",
        "else:\n",
        "  print(\"x is less than zero\")"
      ],
      "metadata": {
        "colab": {
          "base_uri": "https://localhost:8080/",
          "height": 106
        },
        "id": "gKqaJgkqvTB5",
        "outputId": "1fc47ba6-db99-4ff2-82bc-5953e2d8cef6"
      },
      "execution_count": null,
      "outputs": [
        {
          "output_type": "error",
          "ename": "SyntaxError",
          "evalue": "invalid syntax. Maybe you meant '==' or ':=' instead of '='? (<ipython-input-13-ab6783250c96>, line 3)",
          "traceback": [
            "\u001b[0;36m  File \u001b[0;32m\"<ipython-input-13-ab6783250c96>\"\u001b[0;36m, line \u001b[0;32m3\u001b[0m\n\u001b[0;31m    if x = 0:\u001b[0m\n\u001b[0m       ^\u001b[0m\n\u001b[0;31mSyntaxError\u001b[0m\u001b[0;31m:\u001b[0m invalid syntax. Maybe you meant '==' or ':=' instead of '='?\n"
          ]
        }
      ]
    },
    {
      "cell_type": "code",
      "source": [
        "x = 5\n",
        "\n",
        "if x <= 2:\n",
        "  print(\"This is printed\")\n",
        "if x <= 4:\n",
        "  print(\"This is also printed\")\n",
        "if x <= 6:\n",
        "  print(\"Is this printed?\")\n",
        "if x <= 8:\n",
        "  print(\"This might be printed.\")"
      ],
      "metadata": {
        "colab": {
          "base_uri": "https://localhost:8080/"
        },
        "id": "QNK4hZPuv3Cl",
        "outputId": "b3034eb4-b89a-49b7-ff3b-81b087610497"
      },
      "execution_count": null,
      "outputs": [
        {
          "output_type": "stream",
          "name": "stdout",
          "text": [
            "Is this printed?\n",
            "This might be printed.\n"
          ]
        }
      ]
    },
    {
      "cell_type": "code",
      "source": [
        "(4 <= 2 * 3) and (7 + 1 == 8)"
      ],
      "metadata": {
        "colab": {
          "base_uri": "https://localhost:8080/"
        },
        "id": "eXy4se_ow3W8",
        "outputId": "59aa15a7-5f82-4499-c0d7-44b706e20b8b"
      },
      "execution_count": null,
      "outputs": [
        {
          "output_type": "execute_result",
          "data": {
            "text/plain": [
              "True"
            ]
          },
          "metadata": {},
          "execution_count": 19
        }
      ]
    },
    {
      "cell_type": "code",
      "source": [
        "#block1\n",
        "print(\"block1\")\n",
        "for i in range(0,10,2):\n",
        "    print (i)\n",
        "\n",
        "#block2\n",
        "print(\"block2\")\n",
        "x = 0\n",
        "while x <10:\n",
        "  print(x)\n",
        "  x += 2\n",
        "\n",
        "#block3\n",
        "print(\"block3\")\n",
        "endloop = False\n",
        "x = 0\n",
        "while endloop != True:\n",
        "  x += 2\n",
        "  if x == 9:\n",
        "    endloop = True\n",
        "\n",
        "\n",
        "#block4\n",
        "print(\"block4\")\n",
        "endloop = False\n",
        "x = 0\n",
        "while endloop != True:\n",
        "  x += 2\n",
        "  if x == 8:\n",
        "    endloop = True\n"
      ],
      "metadata": {
        "colab": {
          "base_uri": "https://localhost:8080/",
          "height": 436
        },
        "id": "eXH1nVg5xvq7",
        "outputId": "10690844-1906-489d-cb42-3d3861f17719"
      },
      "execution_count": null,
      "outputs": [
        {
          "output_type": "stream",
          "name": "stdout",
          "text": [
            "block1\n",
            "0\n",
            "2\n",
            "4\n",
            "6\n",
            "8\n",
            "block2\n",
            "0\n",
            "2\n",
            "4\n",
            "6\n",
            "8\n",
            "block3\n"
          ]
        },
        {
          "output_type": "error",
          "ename": "KeyboardInterrupt",
          "evalue": "",
          "traceback": [
            "\u001b[0;31m---------------------------------------------------------------------------\u001b[0m",
            "\u001b[0;31mKeyboardInterrupt\u001b[0m                         Traceback (most recent call last)",
            "\u001b[0;32m<ipython-input-22-67798abc3577>\u001b[0m in \u001b[0;36m<cell line: 0>\u001b[0;34m()\u001b[0m\n\u001b[1;32m     15\u001b[0m \u001b[0mendloop\u001b[0m \u001b[0;34m=\u001b[0m \u001b[0;32mFalse\u001b[0m\u001b[0;34m\u001b[0m\u001b[0;34m\u001b[0m\u001b[0m\n\u001b[1;32m     16\u001b[0m \u001b[0mx\u001b[0m \u001b[0;34m=\u001b[0m \u001b[0;36m0\u001b[0m\u001b[0;34m\u001b[0m\u001b[0;34m\u001b[0m\u001b[0m\n\u001b[0;32m---> 17\u001b[0;31m \u001b[0;32mwhile\u001b[0m \u001b[0mendloop\u001b[0m \u001b[0;34m!=\u001b[0m \u001b[0;32mTrue\u001b[0m\u001b[0;34m:\u001b[0m\u001b[0;34m\u001b[0m\u001b[0;34m\u001b[0m\u001b[0m\n\u001b[0m\u001b[1;32m     18\u001b[0m   \u001b[0mx\u001b[0m \u001b[0;34m+=\u001b[0m \u001b[0;36m2\u001b[0m\u001b[0;34m\u001b[0m\u001b[0;34m\u001b[0m\u001b[0m\n\u001b[1;32m     19\u001b[0m   \u001b[0;32mif\u001b[0m \u001b[0mx\u001b[0m \u001b[0;34m==\u001b[0m \u001b[0;36m9\u001b[0m\u001b[0;34m:\u001b[0m\u001b[0;34m\u001b[0m\u001b[0;34m\u001b[0m\u001b[0m\n",
            "\u001b[0;31mKeyboardInterrupt\u001b[0m: "
          ]
        }
      ]
    },
    {
      "cell_type": "code",
      "source": [
        "for i in range(45):\n",
        "  if i >=13:\n",
        "    break\n",
        "  print(i)"
      ],
      "metadata": {
        "colab": {
          "base_uri": "https://localhost:8080/"
        },
        "id": "e_RLFHrHyg4G",
        "outputId": "0a36dd44-8616-416d-d3a1-a53a56845c3c"
      },
      "execution_count": null,
      "outputs": [
        {
          "output_type": "stream",
          "name": "stdout",
          "text": [
            "0\n",
            "1\n",
            "2\n",
            "3\n",
            "4\n",
            "5\n",
            "6\n",
            "7\n",
            "8\n",
            "9\n",
            "10\n",
            "11\n",
            "12\n"
          ]
        }
      ]
    },
    {
      "cell_type": "code",
      "source": [
        "old = 0\n",
        "list1 = [0, 1, 2, 3, 4, 5, 6, 7, 8, 9, 10]\n",
        "list2 = []\n",
        "for i in list1:\n",
        "    list2.append(i + old)\n",
        "    old = i\n",
        "print(list2)"
      ],
      "metadata": {
        "colab": {
          "base_uri": "https://localhost:8080/"
        },
        "id": "vzEK-hGTF8qz",
        "outputId": "92b0fd29-3408-47c0-a94f-8854bdca4ee0"
      },
      "execution_count": null,
      "outputs": [
        {
          "output_type": "stream",
          "name": "stdout",
          "text": [
            "[0, 1, 3, 5, 7, 9, 11, 13, 15, 17, 19]\n"
          ]
        }
      ]
    },
    {
      "cell_type": "code",
      "source": [
        "#from important_data import data_list\n",
        "\n",
        "data_list = [1,2,3,4,5,6,7,8,9,10]\n",
        "aggregated_sum = 0\n",
        "count_data = 0\n",
        "\n",
        "for number in data_list:\n",
        "  if number.omit == True:\n",
        "    # Update this line so that\n",
        "    # We omit this number\n",
        "    continue\n",
        "\n",
        "  aggregated_sum += number\n",
        "  count_data += 1\n",
        "\n",
        "averaged_data = aggregated_sum / count_data\n",
        "\n",
        "print(\"Total average for our important data is {}\".format(averaged_data))"
      ],
      "metadata": {
        "colab": {
          "base_uri": "https://localhost:8080/",
          "height": 211
        },
        "id": "esT7inT6GfMi",
        "outputId": "1605fa9f-1ab2-4c9a-d3f1-91f53d15a8e8"
      },
      "execution_count": null,
      "outputs": [
        {
          "output_type": "error",
          "ename": "AttributeError",
          "evalue": "'int' object has no attribute 'omit'",
          "traceback": [
            "\u001b[0;31m---------------------------------------------------------------------------\u001b[0m",
            "\u001b[0;31mAttributeError\u001b[0m                            Traceback (most recent call last)",
            "\u001b[0;32m<ipython-input-28-7fedd40f3059>\u001b[0m in \u001b[0;36m<cell line: 0>\u001b[0;34m()\u001b[0m\n\u001b[1;32m      6\u001b[0m \u001b[0;34m\u001b[0m\u001b[0m\n\u001b[1;32m      7\u001b[0m \u001b[0;32mfor\u001b[0m \u001b[0mnumber\u001b[0m \u001b[0;32min\u001b[0m \u001b[0mdata_list\u001b[0m\u001b[0;34m:\u001b[0m\u001b[0;34m\u001b[0m\u001b[0;34m\u001b[0m\u001b[0m\n\u001b[0;32m----> 8\u001b[0;31m   \u001b[0;32mif\u001b[0m \u001b[0mnumber\u001b[0m\u001b[0;34m.\u001b[0m\u001b[0momit\u001b[0m \u001b[0;34m==\u001b[0m \u001b[0;32mTrue\u001b[0m\u001b[0;34m:\u001b[0m\u001b[0;34m\u001b[0m\u001b[0;34m\u001b[0m\u001b[0m\n\u001b[0m\u001b[1;32m      9\u001b[0m     \u001b[0;31m# Update this line so that\u001b[0m\u001b[0;34m\u001b[0m\u001b[0;34m\u001b[0m\u001b[0m\n\u001b[1;32m     10\u001b[0m     \u001b[0;31m# We omit this number\u001b[0m\u001b[0;34m\u001b[0m\u001b[0;34m\u001b[0m\u001b[0m\n",
            "\u001b[0;31mAttributeError\u001b[0m: 'int' object has no attribute 'omit'"
          ]
        }
      ]
    },
    {
      "cell_type": "code",
      "source": [
        "for i in range(1,3):\n",
        "  for j in range(2):\n",
        "    print(\"I have \" + str(j) + \" egg(s)!\")\n",
        "  print(\"She has \" + str(i) + \" egg(s)!\")"
      ],
      "metadata": {
        "colab": {
          "base_uri": "https://localhost:8080/"
        },
        "id": "mIAPxWjHKdB5",
        "outputId": "3f7649ea-2276-44cb-deff-4a3d821531d8"
      },
      "execution_count": null,
      "outputs": [
        {
          "output_type": "stream",
          "name": "stdout",
          "text": [
            "I have 0 egg(s)!\n",
            "I have 1 egg(s)!\n",
            "She has 1 egg(s)!\n",
            "I have 0 egg(s)!\n",
            "I have 1 egg(s)!\n",
            "She has 2 egg(s)!\n"
          ]
        }
      ]
    },
    {
      "cell_type": "code",
      "source": [
        "vacation_gear = [\"camera\", \"headphone\", \"torch\", \"hat\", \"scarf\"]\n",
        "for item in vacation_gear:\n",
        "  print(item)\n",
        "  # Put the line of code here.\n",
        "    break"
      ],
      "metadata": {
        "id": "bimJXfhHKxgI"
      },
      "execution_count": null,
      "outputs": []
    },
    {
      "cell_type": "code",
      "source": [
        "result = 0\n",
        "for count in range(4):\n",
        "  result = result + count\n",
        "\n",
        "print(result)"
      ],
      "metadata": {
        "colab": {
          "base_uri": "https://localhost:8080/"
        },
        "id": "shNePN2JLL2L",
        "outputId": "33c057a7-1429-4c67-8670-98e341aa6751"
      },
      "execution_count": null,
      "outputs": [
        {
          "output_type": "stream",
          "name": "stdout",
          "text": [
            "6\n"
          ]
        }
      ]
    },
    {
      "cell_type": "code",
      "source": [
        "scores = [\n",
        "  ['mary', [19, 17, 18]],\n",
        "  ['john', [15, 20, 16]],\n",
        "  ['mark', [14, 19, 19]]\n",
        "]\n",
        "\n",
        "for person in scores:\n",
        "  sum = 0\n",
        "  for score in person[1]:\n",
        "    for score in person[1]:\n",
        "      sum += score\n",
        "  print(\"{}'s average is {:0.2f}\".format(name, sum / 3))"
      ],
      "metadata": {
        "colab": {
          "base_uri": "https://localhost:8080/"
        },
        "id": "EhaWYlafLr43",
        "outputId": "afa737c4-8ed8-41ae-d008-3dec092203ef"
      },
      "execution_count": null,
      "outputs": [
        {
          "output_type": "stream",
          "name": "stdout",
          "text": [
            "19's average is 54.00\n",
            "19's average is 51.00\n",
            "19's average is 52.00\n"
          ]
        }
      ]
    },
    {
      "cell_type": "code",
      "source": [
        "fruits = [\"orange\", \"apple\", \"banana\"]\n",
        "for fruit in fruits:\n",
        "  fruit += 's'\n",
        "print(fruit)"
      ],
      "metadata": {
        "colab": {
          "base_uri": "https://localhost:8080/"
        },
        "id": "uzYD-R-_MrN5",
        "outputId": "fcb4d155-7618-410a-9ca9-9db60c8516e1"
      },
      "execution_count": null,
      "outputs": [
        {
          "output_type": "stream",
          "name": "stdout",
          "text": [
            "bananas\n"
          ]
        }
      ]
    },
    {
      "cell_type": "code",
      "source": [
        "students_age = [7, 8, 9, 11, 9, 8]\n",
        "summation = 0\n",
        "index = 0\n",
        "while index < 4:\n",
        "  summation += students_age[index]\n",
        "  index += 1\n",
        "\n",
        "print(summation)"
      ],
      "metadata": {
        "colab": {
          "base_uri": "https://localhost:8080/"
        },
        "id": "V6mWZCt_OiCX",
        "outputId": "da54a87b-425f-4d9d-fbd6-a7695cbf9e27"
      },
      "execution_count": null,
      "outputs": [
        {
          "output_type": "stream",
          "name": "stdout",
          "text": [
            "35\n"
          ]
        }
      ]
    },
    {
      "cell_type": "code",
      "source": [
        "aircraft_companies = ['Boeing', 'Cessna', 'Airbus']\n",
        "print(\"Aircraft Companies\")\n",
        "for c in aircraft_companies:\n",
        "  if c == \"Boeing\":\n",
        "    continue\n",
        "  print(c)\n",
        "\n",
        "for r in range(10):\n",
        "  print(\"hello\")"
      ],
      "metadata": {
        "colab": {
          "base_uri": "https://localhost:8080/"
        },
        "id": "6pm5q8GCtn4U",
        "outputId": "6c8e04c9-7397-4f14-96f2-1fbbd88bd84a"
      },
      "execution_count": null,
      "outputs": [
        {
          "output_type": "stream",
          "name": "stdout",
          "text": [
            "Aircraft Companies\n",
            "Cessna\n",
            "Airbus\n",
            "hello\n",
            "hello\n",
            "hello\n",
            "hello\n",
            "hello\n",
            "hello\n",
            "hello\n",
            "hello\n",
            "hello\n",
            "hello\n"
          ]
        }
      ]
    },
    {
      "cell_type": "code",
      "source": [
        "count = 5\n",
        "while count != 20:\n",
        "  count += 5\n",
        "  print(count)"
      ],
      "metadata": {
        "colab": {
          "base_uri": "https://localhost:8080/"
        },
        "id": "WN9aJugBudXo",
        "outputId": "73442dbf-7329-4cd9-d06c-31a5ef6dfdf3"
      },
      "execution_count": null,
      "outputs": [
        {
          "output_type": "stream",
          "name": "stdout",
          "text": [
            "10\n",
            "15\n",
            "20\n"
          ]
        }
      ]
    },
    {
      "cell_type": "code",
      "source": [
        "number = 4\n",
        "for i in range(3):\n",
        "  number = number - 1\n",
        "  print(number)"
      ],
      "metadata": {
        "colab": {
          "base_uri": "https://localhost:8080/"
        },
        "id": "foUzBX0PwWjF",
        "outputId": "61f07a41-4e51-4f3a-8ae3-663885399a13"
      },
      "execution_count": null,
      "outputs": [
        {
          "output_type": "stream",
          "name": "stdout",
          "text": [
            "3\n",
            "2\n",
            "1\n"
          ]
        }
      ]
    },
    {
      "cell_type": "code",
      "source": [
        "names = [\"Zara\", \"Saba\", \"Gigi\", \"Brea\", \"Abby\", \"Loki\"]\n",
        "short_list = [name for name in names if name[3] == \"a\"]\n",
        "print(short_list)"
      ],
      "metadata": {
        "colab": {
          "base_uri": "https://localhost:8080/"
        },
        "id": "ro-AnNepxIKF",
        "outputId": "8bec3325-08bd-4948-9ec7-fc6768a23d17"
      },
      "execution_count": null,
      "outputs": [
        {
          "output_type": "stream",
          "name": "stdout",
          "text": [
            "['Zara', 'Saba', 'Brea']\n"
          ]
        }
      ]
    },
    {
      "cell_type": "code",
      "source": [
        "containers = [[2, 2], [3, 3], [4, 4], [5, 5]]\n",
        "index = 0\n",
        "for container in containers:\n",
        "  for item in container:\n",
        "    if index == 3:\n",
        "      print(item)\n",
        "  index = index +1"
      ],
      "metadata": {
        "colab": {
          "base_uri": "https://localhost:8080/"
        },
        "id": "Ut7BP3E2xp2X",
        "outputId": "49a2c24c-ea10-4a41-ee09-3f766e1c0e16"
      },
      "execution_count": null,
      "outputs": [
        {
          "output_type": "stream",
          "name": "stdout",
          "text": [
            "5\n",
            "5\n"
          ]
        }
      ]
    },
    {
      "cell_type": "code",
      "source": [
        "city = 'Los Angeles'\n",
        "city.find('x')\n",
        "#To insert an element at index 2 in a particular list named names_list\n",
        "names_list = ['Johny', 'James', 'Lily','Emily','Nina']\n",
        "#names_list.insert(2, 'John')\n",
        "print(names_list)\n",
        "#to count the number of times the name 'John' appears in the names_list\n",
        "#names_list.count('John')\n",
        "#names_list = sorted(names_list)\n",
        "#print(names_list)\n",
        "print(names_list[::2])"
      ],
      "metadata": {
        "colab": {
          "base_uri": "https://localhost:8080/"
        },
        "id": "Axkm_vHBy915",
        "outputId": "8e2f4933-919f-41b4-f62a-4fcedfdb6a55"
      },
      "execution_count": null,
      "outputs": [
        {
          "output_type": "stream",
          "name": "stdout",
          "text": [
            "['Johny', 'James', 'Lily', 'Emily', 'Nina']\n",
            "['Johny', 'Lily', 'Nina']\n"
          ]
        }
      ]
    },
    {
      "cell_type": "code",
      "source": [
        "some_string ='Python'\n",
        "some_string[::-1]\n",
        "#a,b,c,d = some_string\n",
        "#print(a,b,c,d)"
      ],
      "metadata": {
        "colab": {
          "base_uri": "https://localhost:8080/",
          "height": 35
        },
        "id": "hM153aSO001G",
        "outputId": "c97e21b5-d96c-49f3-d413-df6642f4a15f"
      },
      "execution_count": null,
      "outputs": [
        {
          "output_type": "execute_result",
          "data": {
            "text/plain": [
              "'nohtyP'"
            ],
            "application/vnd.google.colaboratory.intrinsic+json": {
              "type": "string"
            }
          },
          "metadata": {},
          "execution_count": 18
        }
      ]
    },
    {
      "cell_type": "code",
      "source": [
        "names_ages = {'John': 35, 'Jim': 45, 'Alice': 25}\n",
        "updated_names_ages = {'Ella': 29, 'John': 36}\n",
        "#What would the output be if you were to run this code?\n",
        "\n",
        "#names_ages['Tim']\n",
        "#How would you update the names_ages dictionary with the values in updated_names_ages dictionary?\n",
        "names_ages.update(updated_names_ages)\n",
        "print(names_ages)"
      ],
      "metadata": {
        "colab": {
          "base_uri": "https://localhost:8080/"
        },
        "id": "bUBZ2n2H3lTa",
        "outputId": "0d7cb53e-9eeb-419d-da38-d9ba75f9b238"
      },
      "execution_count": null,
      "outputs": [
        {
          "output_type": "stream",
          "name": "stdout",
          "text": [
            "{'John': 36, 'Jim': 45, 'Alice': 25, 'Ella': 29}\n"
          ]
        }
      ]
    },
    {
      "cell_type": "code",
      "source": [
        "names_ages = [['John', 35], ['Jill', 38], ['Tim', 27]]\n",
        "#How would you access Tim’s age in this nested list?\n",
        "names_ages[2][1]\n",
        "set_1 = {2, 4, 6, 8}\n",
        "set_2 = {1, 2, 5, 6, 7, 8}\n",
        "\n",
        "#What operation would I run to get a result set with all of the elements from both sets?\n",
        "set_1.union(set_2)\n",
        "names_ages = {'John': 35, 'Jim': 45, 'Alice': 25}\n",
        "names_ages['Alice']\n",
        "dict(names_ages)\n",
        "print(type(names_ages))"
      ],
      "metadata": {
        "colab": {
          "base_uri": "https://localhost:8080/"
        },
        "id": "SloZbK9-4_ty",
        "outputId": "281b90d8-d645-41d7-9e1a-be02776333f8"
      },
      "execution_count": null,
      "outputs": [
        {
          "output_type": "stream",
          "name": "stdout",
          "text": [
            "<class 'dict'>\n"
          ]
        }
      ]
    },
    {
      "cell_type": "code",
      "source": [
        "old_str = 'Hello'\n",
        "new_str = old_str\n",
        "new_str = 'World'\n",
        "print(old_str)\n",
        "print(new_str)\n"
      ],
      "metadata": {
        "colab": {
          "base_uri": "https://localhost:8080/"
        },
        "id": "kIGECoMERaWU",
        "outputId": "cf16b118-5fd7-42db-f004-1e23d16b01a9"
      },
      "execution_count": null,
      "outputs": [
        {
          "output_type": "stream",
          "name": "stdout",
          "text": [
            "Hello\n",
            "World\n"
          ]
        }
      ]
    },
    {
      "cell_type": "code",
      "source": [
        "import copy\n",
        "tuple_a = (\"John\", \"Amy\", \"Jules\", [\"Jim\", \"Ana\"])\n",
        "deep_copy = copy.deepcopy(tuple_a)\n",
        "print(deep_copy)"
      ],
      "metadata": {
        "colab": {
          "base_uri": "https://localhost:8080/"
        },
        "id": "mqjUh5ihTJqz",
        "outputId": "41b04c85-ed24-4cca-d01b-e25a6b5b77c3"
      },
      "execution_count": null,
      "outputs": [
        {
          "output_type": "stream",
          "name": "stdout",
          "text": [
            "('John', 'Amy', 'Jules', ['Jim', 'Ana'])\n"
          ]
        }
      ]
    },
    {
      "cell_type": "code",
      "source": [
        "dict_a = {'John': 35, 'Jim': 22, 'Jill': 44}\n",
        "dict_copy = dict_a.copy()\n",
        "dict_copy['John'] = 40\n",
        "print(dict_a)\n",
        "print(dict_copy)"
      ],
      "metadata": {
        "colab": {
          "base_uri": "https://localhost:8080/"
        },
        "id": "5UaZ4qgnTn51",
        "outputId": "259f559c-d3e6-49c4-b026-43142066cc46"
      },
      "execution_count": null,
      "outputs": [
        {
          "output_type": "stream",
          "name": "stdout",
          "text": [
            "{'John': 35, 'Jim': 22, 'Jill': 44}\n",
            "{'John': 40, 'Jim': 22, 'Jill': 44}\n"
          ]
        }
      ]
    },
    {
      "cell_type": "code",
      "source": [],
      "metadata": {
        "id": "RvSwIiQXUOTL"
      },
      "execution_count": null,
      "outputs": []
    },
    {
      "cell_type": "code",
      "source": [
        "old_list = [\"John\", \"Amy\", \"Jules\"]\n",
        "new_list = old_list.copy()\n",
        "new_list.append('Emily')\n",
        "print(old_list)\n",
        "print(new_list)"
      ],
      "metadata": {
        "colab": {
          "base_uri": "https://localhost:8080/"
        },
        "id": "2om9m5xDUL7W",
        "outputId": "1b8d0fb0-c999-45ca-fc4d-2e28a3328567"
      },
      "execution_count": null,
      "outputs": [
        {
          "output_type": "stream",
          "name": "stdout",
          "text": [
            "['John', 'Amy', 'Jules']\n",
            "['John', 'Amy', 'Jules', 'Emily']\n"
          ]
        }
      ]
    },
    {
      "cell_type": "code",
      "source": [
        "dict_a = {'John': 35, 'Jim': 22, 'Jill': 44}\n",
        "dict_copy = dict_a\n",
        "dict_copy['John'] = 40\n",
        "del dict_copy['John']\n",
        "print(dict_a)"
      ],
      "metadata": {
        "colab": {
          "base_uri": "https://localhost:8080/"
        },
        "id": "EvUqxH2iUwZs",
        "outputId": "6f66f635-13b3-4d2c-df4c-e76611d22c42"
      },
      "execution_count": null,
      "outputs": [
        {
          "output_type": "stream",
          "name": "stdout",
          "text": [
            "{'Jim': 22, 'Jill': 44}\n"
          ]
        }
      ]
    },
    {
      "cell_type": "code",
      "source": [
        "old_list = [\"John\", \"Amy\", \"Jules\"]\n",
        "new_list = old_list\n",
        "new_list.append('Emily')\n",
        "print(old_list)\n",
        "print(new_list)"
      ],
      "metadata": {
        "colab": {
          "base_uri": "https://localhost:8080/"
        },
        "id": "99P4AexsXEai",
        "outputId": "73b01fd7-9529-470d-f4c1-49755ef7c99a"
      },
      "execution_count": null,
      "outputs": [
        {
          "output_type": "stream",
          "name": "stdout",
          "text": [
            "['John', 'Amy', 'Jules', 'Emily']\n",
            "['John', 'Amy', 'Jules', 'Emily']\n"
          ]
        }
      ]
    },
    {
      "cell_type": "code",
      "source": [
        "#Given a list my_list = ['a', 'b', 'c', 'd', 'e'], how would you remove the string 'b' from the list and store it in a variable named my_letter?\n",
        "my_list = ['a', 'b', 'c', 'd', 'e']\n",
        "my_letter = my_list.pop(1)\n",
        "print(my_list)\n",
        "print(my_letter)"
      ],
      "metadata": {
        "colab": {
          "base_uri": "https://localhost:8080/"
        },
        "id": "occBilh_ftQD",
        "outputId": "11c7917f-a9ab-425f-c992-b1b380dedd83"
      },
      "execution_count": null,
      "outputs": [
        {
          "output_type": "stream",
          "name": "stdout",
          "text": [
            "['a', 'c', 'd', 'e']\n",
            "b\n"
          ]
        }
      ]
    },
    {
      "cell_type": "code",
      "source": [
        "#Would the following code block correctly print out the list tricky with its elements sorted? Why or why not?\n",
        "tricky = [\"c\", \"C\",  65, 197]\n",
        "#how to sort tricky list\n",
        "tricky.sort()\n",
        "print(tricky.sort())"
      ],
      "metadata": {
        "colab": {
          "base_uri": "https://localhost:8080/",
          "height": 193
        },
        "id": "qXatCePJgPkg",
        "outputId": "b5ff9104-7b28-4e04-a05e-c2928e030aa3"
      },
      "execution_count": null,
      "outputs": [
        {
          "output_type": "error",
          "ename": "TypeError",
          "evalue": "'<' not supported between instances of 'int' and 'str'",
          "traceback": [
            "\u001b[0;31m---------------------------------------------------------------------------\u001b[0m",
            "\u001b[0;31mTypeError\u001b[0m                                 Traceback (most recent call last)",
            "\u001b[0;32m<ipython-input-19-411f7dd89962>\u001b[0m in \u001b[0;36m<cell line: 0>\u001b[0;34m()\u001b[0m\n\u001b[1;32m      2\u001b[0m \u001b[0mtricky\u001b[0m \u001b[0;34m=\u001b[0m \u001b[0;34m[\u001b[0m\u001b[0;34m\"c\"\u001b[0m\u001b[0;34m,\u001b[0m \u001b[0;34m\"C\"\u001b[0m\u001b[0;34m,\u001b[0m  \u001b[0;36m65\u001b[0m\u001b[0;34m,\u001b[0m \u001b[0;36m197\u001b[0m\u001b[0;34m]\u001b[0m\u001b[0;34m\u001b[0m\u001b[0;34m\u001b[0m\u001b[0m\n\u001b[1;32m      3\u001b[0m \u001b[0;31m#how to sort tricky list\u001b[0m\u001b[0;34m\u001b[0m\u001b[0;34m\u001b[0m\u001b[0m\n\u001b[0;32m----> 4\u001b[0;31m \u001b[0mtricky\u001b[0m\u001b[0;34m.\u001b[0m\u001b[0msort\u001b[0m\u001b[0;34m(\u001b[0m\u001b[0;34m)\u001b[0m\u001b[0;34m\u001b[0m\u001b[0;34m\u001b[0m\u001b[0m\n\u001b[0m\u001b[1;32m      5\u001b[0m \u001b[0mprint\u001b[0m\u001b[0;34m(\u001b[0m\u001b[0mtricky\u001b[0m\u001b[0;34m.\u001b[0m\u001b[0msort\u001b[0m\u001b[0;34m(\u001b[0m\u001b[0;34m)\u001b[0m\u001b[0;34m)\u001b[0m\u001b[0;34m\u001b[0m\u001b[0;34m\u001b[0m\u001b[0m\n",
            "\u001b[0;31mTypeError\u001b[0m: '<' not supported between instances of 'int' and 'str'"
          ]
        }
      ]
    },
    {
      "cell_type": "code",
      "source": [
        "drinks = ['smoothie', 'coffee', 'water']\n",
        "additional_drinks = ['juice', 'tea', 'slushie']\n",
        "print(additional_drinks + drinks)"
      ],
      "metadata": {
        "colab": {
          "base_uri": "https://localhost:8080/"
        },
        "id": "KwdivfzbhpOM",
        "outputId": "64b76c55-bd2b-4bce-b262-091a25ad072a"
      },
      "execution_count": null,
      "outputs": [
        {
          "output_type": "stream",
          "name": "stdout",
          "text": [
            "['juice', 'tea', 'slushie', 'smoothie', 'coffee', 'water']\n"
          ]
        }
      ]
    },
    {
      "cell_type": "code",
      "source": [
        "# add an item to an existing list\n",
        "heights=[64,62,63,71]\n",
        "#add an item to the list heights\n",
        "heights.append(61)\n",
        "print(heights)\n"
      ],
      "metadata": {
        "colab": {
          "base_uri": "https://localhost:8080/"
        },
        "id": "N1iwSs7-iP6K",
        "outputId": "17e3fb3e-a529-4b5a-e748-8f885ff3b4a5"
      },
      "execution_count": null,
      "outputs": [
        {
          "output_type": "stream",
          "name": "stdout",
          "text": [
            "[64, 62, 63, 71, 61]\n"
          ]
        }
      ]
    },
    {
      "cell_type": "code",
      "source": [
        "# Write your function here\n",
        "def append_sum(my_list):\n",
        "  # This loop will run three times as required\n",
        "  for _ in range(3):\n",
        "    # Get the last two elements\n",
        "    #last_element = my_list[-1]\n",
        "    #second_last_element = my_list[-2]\n",
        "    # Calculate their sum\n",
        "    #sum_of_last_two = last_element + second_last_element\n",
        "\n",
        "    # Append the sum to the list\n",
        "    #my_list.append(sum_of_last_two)\n",
        "    print(my_list[-1])\n",
        "    my_list.append(my_list[-1]+my_list[-2])\n",
        "  # Return the modified list\n",
        "  return my_list\n",
        "\n",
        "# Uncomment the tests below when you're ready to test your function\n",
        "print(append_sum([1, 1, 2]))"
      ],
      "metadata": {
        "colab": {
          "base_uri": "https://localhost:8080/"
        },
        "id": "0k7adxzDPtrC",
        "outputId": "397be35b-e482-4e95-d6a4-b556de495c90"
      },
      "execution_count": null,
      "outputs": [
        {
          "output_type": "stream",
          "name": "stdout",
          "text": [
            "2\n",
            "3\n",
            "5\n",
            "[1, 1, 2, 3, 5, 8]\n"
          ]
        }
      ]
    },
    {
      "cell_type": "code",
      "source": [
        "animals=['cat','cow','lion','tiger','cheetah']\n",
        "animals.insert(4,'buffalo')\n",
        "print(animals)\n",
        "mylist = [\"a\", \"b\", \"c\", \"d\", \"e\", \"f\"]\n",
        "print(mylist[2:5])\n",
        "olympic_sports = [\"Hockey\", \"Swimming\", \"Fencing\", \"Volleyball\", \"Breakdancing\"]\n",
        "olympic_sports.count('Volleyball')\n",
        "olympic_sports.pop()\n",
        "list(range(2, 14, 4))\n",
        "pizza_toppings = [\"Cheese\", \"Pepperoni\", \"Garlic\", \"Pineapple\", \"Mushroom\", \"Prosciutto\"]\n",
        "pizza_toppings.pop(4)\n",
        "friends = [\"Annabelle\", \"Greg\", \"Katya\", \"Sol\"]\n",
        "friends.insert(-2,\"Gus\")\n",
        "print(friends)\n",
        "lst =range(3,15,4)\n",
        "print(lst)\n",
        "mylist[-3:]\n"
      ],
      "metadata": {
        "colab": {
          "base_uri": "https://localhost:8080/"
        },
        "id": "vbmInWbKW2W3",
        "outputId": "1c173621-1ecd-49d0-895b-3f623c7eec1a"
      },
      "execution_count": null,
      "outputs": [
        {
          "output_type": "stream",
          "name": "stdout",
          "text": [
            "['cat', 'cow', 'lion', 'tiger', 'buffalo', 'cheetah']\n",
            "['c', 'd', 'e']\n",
            "['Annabelle', 'Greg', 'Gus', 'Katya', 'Sol']\n",
            "range(3, 15, 4)\n"
          ]
        },
        {
          "output_type": "execute_result",
          "data": {
            "text/plain": [
              "['d', 'e', 'f']"
            ]
          },
          "metadata": {},
          "execution_count": 13
        }
      ]
    },
    {
      "cell_type": "code",
      "source": [
        "my_dict ={}\n",
        "print(my_dict)\n",
        "inventory = {\"iron spear\": 12, \"invisible knife\": 30, \"needle of ambition\": 10, \"stone glove\": 20}\n",
        "\n",
        "inventory[\"invisible knife\"] = 40\n",
        "inventory[\"mithril shield\"] = 25\n",
        "print(inventory)\n",
        "\n",
        "book = {\n",
        "  \"name\": \"Goodnight Moon\",\n",
        "  \"author\": \"Margaret Wise Brown\"\n",
        "}\n",
        "book.update({\"year\":\"1947\"})\n",
        "print(book)\n",
        "\n",
        "dic_sample_1 = {\"item1\": \"cloud\", 12: \"A number\", \"members\": [\"Alex\", \"Joey\"]}\n",
        "dic_sample_2 = {1: \"a\", 26: \"z\"}\n",
        "dic_sample_3 = {\"item1\": \"cloud\"}\n"
      ],
      "metadata": {
        "colab": {
          "base_uri": "https://localhost:8080/"
        },
        "id": "9J5qk_AVaDPN",
        "outputId": "be36d15b-7c86-47be-b084-be9076f6306c"
      },
      "execution_count": null,
      "outputs": [
        {
          "output_type": "stream",
          "name": "stdout",
          "text": [
            "{}\n",
            "{'iron spear': 12, 'invisible knife': 40, 'needle of ambition': 10, 'stone glove': 20, 'mithril shield': 25}\n",
            "{'name': 'Goodnight Moon', 'author': 'Margaret Wise Brown', 'year': '1947'}\n"
          ]
        }
      ]
    },
    {
      "cell_type": "code",
      "source": [
        "family = { 'dad': 'Steve',\n",
        "    'mom': 'Susan',\n",
        "    'brother': 'Sam',\n",
        "    'sister': 'Sue'\n",
        "  }\n",
        "\n",
        "print(family.get('dad'),family.get('mother'),family.get('brother'),family.get('sis','not found'))"
      ],
      "metadata": {
        "colab": {
          "base_uri": "https://localhost:8080/"
        },
        "id": "q83cfpsbhGsS",
        "outputId": "f4afae12-e41a-487d-d40b-03bbb6c86f43"
      },
      "execution_count": null,
      "outputs": [
        {
          "output_type": "stream",
          "name": "stdout",
          "text": [
            "Steve None Sam not found\n"
          ]
        }
      ]
    },
    {
      "cell_type": "code",
      "source": [
        "fruit = {\n",
        "  \"Name\"   : \"Apple\",\n",
        "  \"Texture\": \"Smooth\",\n",
        "  \"Weight\" : 150\n",
        "}\n",
        "\n",
        "print(fruit)\n",
        "# {'Weight': 150, 'Name': 'Apple', 'Texture': 'Smooth'}\n",
        "\n",
        "fruit.pop(\"Texture\")\n",
        "\n",
        "print(fruit)\n",
        "my_dict = {'dog':'woof'}.update({'cat':'meow'})\n",
        "print(my_dict)\n",
        "animal = {'cat':'meow'}\n",
        "{'dog':'woof'}.update(animal)\n",
        "print(animal)"
      ],
      "metadata": {
        "colab": {
          "base_uri": "https://localhost:8080/"
        },
        "id": "RGm5NTzehi6d",
        "outputId": "062688fd-ba47-4a19-8887-477428e9be44"
      },
      "execution_count": null,
      "outputs": [
        {
          "output_type": "stream",
          "name": "stdout",
          "text": [
            "{'Name': 'Apple', 'Texture': 'Smooth', 'Weight': 150}\n",
            "{'Name': 'Apple', 'Weight': 150}\n",
            "None\n",
            "{'cat': 'meow'}\n"
          ]
        }
      ]
    },
    {
      "cell_type": "code",
      "source": [
        "cool_fruit = \"watermelon\"\n",
        "cool_fruit[len(cool_fruit) - 2]\n",
        "line = '+---+'\n",
        "ident = 'NASA'\n",
        "print(line)\n",
        "for char in ident:\n",
        "  print('| ' + char + ' |')\n",
        "print(line)"
      ],
      "metadata": {
        "colab": {
          "base_uri": "https://localhost:8080/"
        },
        "id": "C2gP5VwOoBtg",
        "outputId": "ae7a97f8-c372-4d29-d02a-4c80c7f68b45"
      },
      "execution_count": null,
      "outputs": [
        {
          "output_type": "stream",
          "name": "stdout",
          "text": [
            "+---+\n",
            "| N |\n",
            "| A |\n",
            "| S |\n",
            "| A |\n",
            "+---+\n"
          ]
        }
      ]
    },
    {
      "cell_type": "code",
      "source": [
        "word = \"horn\"\n",
        "word[0] + \"b\"\n",
        "\n",
        "txt = \"As a gesture of goodwill, we agreed to do the work free of charge.\"\n",
        "results = txt.split(',')\n",
        "len(results)\n",
        "\n",
        "text = \"Pineapple Pizza\"\n",
        "print(text.upper())"
      ],
      "metadata": {
        "colab": {
          "base_uri": "https://localhost:8080/"
        },
        "id": "uzyBLhGzo0ut",
        "outputId": "62c85944-b4e3-4f7d-aba1-a05491e1189b"
      },
      "execution_count": null,
      "outputs": [
        {
          "output_type": "stream",
          "name": "stdout",
          "text": [
            "PINEAPPLE PIZZA\n"
          ]
        }
      ]
    },
    {
      "cell_type": "code",
      "source": [
        "day = 23\n",
        "month = 8\n",
        "year = 19\n",
        "\n",
        "print('American: {m}/{d}/{y}'.format(d=day, m=month, y=year))\n",
        "# 8/23/19\n",
        "print('European: {d}/{m}/{y}'.format(d=day, m=month, y=year))\n",
        "# 23/8/19"
      ],
      "metadata": {
        "colab": {
          "base_uri": "https://localhost:8080/"
        },
        "id": "WSw0DRU0tQji",
        "outputId": "5eb43868-e3f5-458b-d832-ea0fbef9861e"
      },
      "execution_count": null,
      "outputs": [
        {
          "output_type": "stream",
          "name": "stdout",
          "text": [
            "American: 8/23/19\n",
            "European: 23/8/19\n"
          ]
        }
      ]
    },
    {
      "cell_type": "code",
      "source": [
        "light = ['Han', 'Leia', 'Luke']\n",
        "dark = ['Vader', 'Palpatine']\n",
        "\n",
        "light_str = '+'.join(light)\n",
        "dark_str = '-'.join(dark)\n",
        "\n",
        "result = '\\n'.join([light_str, dark_str])\n",
        "\n",
        "print(result)"
      ],
      "metadata": {
        "colab": {
          "base_uri": "https://localhost:8080/"
        },
        "id": "E-TjXfC-v5d4",
        "outputId": "fa945eec-ffd3-499f-c6bf-6569b1b0591a"
      },
      "execution_count": null,
      "outputs": [
        {
          "output_type": "stream",
          "name": "stdout",
          "text": [
            "Han+Leia+Luke\n",
            "Vader-Palpatine\n"
          ]
        }
      ]
    },
    {
      "cell_type": "code",
      "source": [
        "galaxy = \"ANDROMEDA\"\n",
        "lowercase_word = galaxy.lower()\n",
        "print(lowercase_word)"
      ],
      "metadata": {
        "colab": {
          "base_uri": "https://localhost:8080/"
        },
        "id": "DttTPRFGxBCT",
        "outputId": "f3d33d11-874e-4a71-e5b6-a48aa0608e5a"
      },
      "execution_count": null,
      "outputs": [
        {
          "output_type": "stream",
          "name": "stdout",
          "text": [
            "andromeda\n"
          ]
        }
      ]
    },
    {
      "cell_type": "code",
      "source": [
        "#Complete the code so that all the % symbols in the initial pattern are replaced with @ symbols.\n",
        "pattern = '#%%#-%%-#-##%%%'\n",
        "\n",
        "# replace '%' symbols with '@' symbols\n",
        "while '%' in pattern:\n",
        "  pattern = pattern.replace('%','@')\n",
        "print(pattern)\n",
        "\n",
        "str = \"  .hello world.  \"\n",
        "str.strip(\" .\")\n",
        "print(str)\n",
        "\n",
        "novel=\"ATOMIC HABIT\"\n",
        "print(novel.title())"
      ],
      "metadata": {
        "colab": {
          "base_uri": "https://localhost:8080/"
        },
        "id": "_rKCF8fKxxnU",
        "outputId": "3fa75359-4ced-4c3e-f1dd-ee48f6aa2316"
      },
      "execution_count": null,
      "outputs": [
        {
          "output_type": "stream",
          "name": "stdout",
          "text": [
            "#@@#-@@-#-##@@@\n",
            "  .hello world.  \n",
            "Atomic Habit\n"
          ]
        }
      ]
    },
    {
      "cell_type": "code",
      "source": [
        "msg = \"One fish, two fish, red fish, blue fish.\"\n",
        "a = msg.find('One')\n",
        "b = msg.find('tw')\n",
        "print(a, b)\n",
        "# 0 10"
      ],
      "metadata": {
        "colab": {
          "base_uri": "https://localhost:8080/"
        },
        "id": "F3Albek8zPHs",
        "outputId": "cd821354-0f90-4578-b8bf-3270dd135626"
      },
      "execution_count": null,
      "outputs": [
        {
          "output_type": "stream",
          "name": "stdout",
          "text": [
            "0 10\n"
          ]
        }
      ]
    },
    {
      "cell_type": "code",
      "source": [
        "txt1 = \"affect\"\n",
        "txt2 = txt1.replace(\"a\", \"e\")\n",
        "txt3 = txt2.replace(\"ef\", \"\")\n",
        "print(txt3.replace(\"e\", \"a\"))\n",
        "\n",
        "dict = {\"1\":{1:\"1\"}}\n",
        "dict1 ={\"1\":\"1\"}\n",
        "dict2 ={\"1\":\"1\"}\n",
        "\n",
        "print(dict)\n",
        "print(dict1)\n",
        "print(dict2)\n",
        "dic = {\"option1\": \"Ice Cream\", \"option2\": \"Chocolate\"}\n",
        "print(dic)"
      ],
      "metadata": {
        "colab": {
          "base_uri": "https://localhost:8080/"
        },
        "id": "Orq2C4Yw2nXz",
        "outputId": "1426197e-fd86-421e-a718-a863838ab46f"
      },
      "execution_count": null,
      "outputs": [
        {
          "output_type": "stream",
          "name": "stdout",
          "text": [
            "fact\n",
            "{'1': {1: '1'}}\n",
            "{'1': '1'}\n",
            "{'1': '1'}\n",
            "{'option1': 'Ice Cream', 'option2': 'Chocolate'}\n"
          ]
        }
      ]
    },
    {
      "cell_type": "code",
      "source": [
        "dict1 = {c: \"do\", d: \"re\", e: \"mi\"}\n",
        "dict2 = {f: \"fa\", g: \"sol\", a: \"la\", b: \"ti\"}\n",
        "\n",
        "# desired dict1{c: \"do\", d: \"re\", e: \"mi\", f: \"fa\", g: \"sol\", a: \"la\", b: \"ti\"}\n",
        "\n",
        "dict1.update(dict2)\n"
      ],
      "metadata": {
        "colab": {
          "base_uri": "https://localhost:8080/",
          "height": 211
        },
        "id": "c6TYwr3_IaWH",
        "outputId": "083b3a6b-772d-4e6e-8fbd-ed0110fad470"
      },
      "execution_count": null,
      "outputs": [
        {
          "output_type": "error",
          "ename": "NameError",
          "evalue": "name 'c' is not defined",
          "traceback": [
            "\u001b[0;31m---------------------------------------------------------------------------\u001b[0m",
            "\u001b[0;31mNameError\u001b[0m                                 Traceback (most recent call last)",
            "\u001b[0;32m<ipython-input-69-133e4a466a56>\u001b[0m in \u001b[0;36m<cell line: 0>\u001b[0;34m()\u001b[0m\n\u001b[0;32m----> 1\u001b[0;31m \u001b[0mdict1\u001b[0m \u001b[0;34m=\u001b[0m \u001b[0;34m{\u001b[0m\u001b[0mc\u001b[0m\u001b[0;34m:\u001b[0m \u001b[0;34m\"do\"\u001b[0m\u001b[0;34m,\u001b[0m \u001b[0md\u001b[0m\u001b[0;34m:\u001b[0m \u001b[0;34m\"re\"\u001b[0m\u001b[0;34m,\u001b[0m \u001b[0me\u001b[0m\u001b[0;34m:\u001b[0m \u001b[0;34m\"mi\"\u001b[0m\u001b[0;34m}\u001b[0m\u001b[0;34m\u001b[0m\u001b[0;34m\u001b[0m\u001b[0m\n\u001b[0m\u001b[1;32m      2\u001b[0m \u001b[0mdict2\u001b[0m \u001b[0;34m=\u001b[0m \u001b[0;34m{\u001b[0m\u001b[0mf\u001b[0m\u001b[0;34m:\u001b[0m \u001b[0;34m\"fa\"\u001b[0m\u001b[0;34m,\u001b[0m \u001b[0mg\u001b[0m\u001b[0;34m:\u001b[0m \u001b[0;34m\"sol\"\u001b[0m\u001b[0;34m,\u001b[0m \u001b[0ma\u001b[0m\u001b[0;34m:\u001b[0m \u001b[0;34m\"la\"\u001b[0m\u001b[0;34m,\u001b[0m \u001b[0mb\u001b[0m\u001b[0;34m:\u001b[0m \u001b[0;34m\"ti\"\u001b[0m\u001b[0;34m}\u001b[0m\u001b[0;34m\u001b[0m\u001b[0;34m\u001b[0m\u001b[0m\n\u001b[1;32m      3\u001b[0m \u001b[0;34m\u001b[0m\u001b[0m\n\u001b[1;32m      4\u001b[0m \u001b[0;31m# desired dict1{c: \"do\", d: \"re\", e: \"mi\", f: \"fa\", g: \"sol\", a: \"la\", b: \"ti\"}\u001b[0m\u001b[0;34m\u001b[0m\u001b[0;34m\u001b[0m\u001b[0m\n\u001b[1;32m      5\u001b[0m \u001b[0;34m\u001b[0m\u001b[0m\n",
            "\u001b[0;31mNameError\u001b[0m: name 'c' is not defined"
          ]
        }
      ]
    },
    {
      "cell_type": "code",
      "source": [
        "#Select the correct option that can be used to access the value with the key \"winter\".\n",
        "\n",
        "thermostat_settings = {\"summer\": \"18 Degree\", \"autumn\": \"20 Degree\", \"winter\": \"24 Degree\"}\n",
        "print(thermostat_settings[\"winter\"])"
      ],
      "metadata": {
        "colab": {
          "base_uri": "https://localhost:8080/"
        },
        "id": "6MrpmugpIxGK",
        "outputId": "c5e83313-124a-4786-a879-11b80ce19068"
      },
      "execution_count": null,
      "outputs": [
        {
          "output_type": "stream",
          "name": "stdout",
          "text": [
            "24 Degree\n"
          ]
        }
      ]
    },
    {
      "cell_type": "markdown",
      "source": [],
      "metadata": {
        "id": "F3bbcmWMxDHs"
      }
    },
    {
      "cell_type": "code",
      "source": [
        "\n",
        "#Which of these is an invalid dictionary (will result in a TypeError when trying to run)?\n",
        "\n",
        "my_dic1={2: [\"apple\", \"orange\"], 1: [\"broccoli\"], 3: [\"salt\", \"paprika\", \"saffron\"]}\n",
        "\n",
        "my_dic2={\"fruit\": \"apple\", \"vegetable\": 100, \"spice\": [\"salt\", \"paprika\", \"saffron\"]}\n",
        "\n",
        "my_dic3={[\"apple\", \"orange\"]: \"fruit\", [\"broccoli\"]: \"vegetable\", [\"salt\", \"paprika\", \"saffron\"]: \"spice\"}\n",
        "#print(my_dic1)\n",
        "#print(my_dic2)\n",
        "#print(my_dic3)\n",
        "\n"
      ],
      "metadata": {
        "colab": {
          "base_uri": "https://localhost:8080/",
          "height": 245
        },
        "id": "L_KM2N8AW-f5",
        "outputId": "80a97b03-0141-400c-a0c0-903ded4ddb7e"
      },
      "execution_count": null,
      "outputs": [
        {
          "output_type": "error",
          "ename": "TypeError",
          "evalue": "unhashable type: 'list'",
          "traceback": [
            "\u001b[0;31m---------------------------------------------------------------------------\u001b[0m",
            "\u001b[0;31mTypeError\u001b[0m                                 Traceback (most recent call last)",
            "\u001b[0;32m<ipython-input-75-e79e15ce5620>\u001b[0m in \u001b[0;36m<cell line: 0>\u001b[0;34m()\u001b[0m\n\u001b[1;32m      5\u001b[0m \u001b[0mmy_dic2\u001b[0m\u001b[0;34m=\u001b[0m\u001b[0;34m{\u001b[0m\u001b[0;34m\"fruit\"\u001b[0m\u001b[0;34m:\u001b[0m \u001b[0;34m\"apple\"\u001b[0m\u001b[0;34m,\u001b[0m \u001b[0;34m\"vegetable\"\u001b[0m\u001b[0;34m:\u001b[0m \u001b[0;36m100\u001b[0m\u001b[0;34m,\u001b[0m \u001b[0;34m\"spice\"\u001b[0m\u001b[0;34m:\u001b[0m \u001b[0;34m[\u001b[0m\u001b[0;34m\"salt\"\u001b[0m\u001b[0;34m,\u001b[0m \u001b[0;34m\"paprika\"\u001b[0m\u001b[0;34m,\u001b[0m \u001b[0;34m\"saffron\"\u001b[0m\u001b[0;34m]\u001b[0m\u001b[0;34m}\u001b[0m\u001b[0;34m\u001b[0m\u001b[0;34m\u001b[0m\u001b[0m\n\u001b[1;32m      6\u001b[0m \u001b[0;34m\u001b[0m\u001b[0m\n\u001b[0;32m----> 7\u001b[0;31m \u001b[0mmy_dic3\u001b[0m\u001b[0;34m=\u001b[0m\u001b[0;34m{\u001b[0m\u001b[0;34m[\u001b[0m\u001b[0;34m\"apple\"\u001b[0m\u001b[0;34m,\u001b[0m \u001b[0;34m\"orange\"\u001b[0m\u001b[0;34m]\u001b[0m\u001b[0;34m:\u001b[0m \u001b[0;34m\"fruit\"\u001b[0m\u001b[0;34m,\u001b[0m \u001b[0;34m[\u001b[0m\u001b[0;34m\"broccoli\"\u001b[0m\u001b[0;34m]\u001b[0m\u001b[0;34m:\u001b[0m \u001b[0;34m\"vegetable\"\u001b[0m\u001b[0;34m,\u001b[0m \u001b[0;34m[\u001b[0m\u001b[0;34m\"salt\"\u001b[0m\u001b[0;34m,\u001b[0m \u001b[0;34m\"paprika\"\u001b[0m\u001b[0;34m,\u001b[0m \u001b[0;34m\"saffron\"\u001b[0m\u001b[0;34m]\u001b[0m\u001b[0;34m:\u001b[0m \u001b[0;34m\"spice\"\u001b[0m\u001b[0;34m}\u001b[0m\u001b[0;34m\u001b[0m\u001b[0;34m\u001b[0m\u001b[0m\n\u001b[0m\u001b[1;32m      8\u001b[0m \u001b[0;31m#print(my_dic1)\u001b[0m\u001b[0;34m\u001b[0m\u001b[0;34m\u001b[0m\u001b[0m\n\u001b[1;32m      9\u001b[0m \u001b[0;31m#print(my_dic2)\u001b[0m\u001b[0;34m\u001b[0m\u001b[0;34m\u001b[0m\u001b[0m\n",
            "\u001b[0;31mTypeError\u001b[0m: unhashable type: 'list'"
          ]
        }
      ]
    },
    {
      "cell_type": "code",
      "source": [
        "inventory = {\"iron spear\": 12, \"invisible knife\": 30, \"needle of ambition\": 10, \"stone glove\": 20}\n",
        "\n",
        "inventory[\"invisible knife\"] = 40\n",
        "inventory[\"mithril shield\"] = 25\n",
        "print(inventory)\n",
        "conference_rooms = [\"executive\", \"hopper\", \"lovelace\", \"pod\", \"snooze booth\"]\n",
        "capacity = [7, 20, 6, 2, 1]\n",
        "room_dict = {key:value for key, value in zip(conference_rooms, capacity)}\n",
        "\n",
        "print(room_dict)"
      ],
      "metadata": {
        "colab": {
          "base_uri": "https://localhost:8080/"
        },
        "id": "6mcfLuL0Xzi0",
        "outputId": "18616d03-77fb-4ce2-aacf-afb78ff8c9d3"
      },
      "execution_count": null,
      "outputs": [
        {
          "output_type": "stream",
          "name": "stdout",
          "text": [
            "{'iron spear': 12, 'invisible knife': 40, 'needle of ambition': 10, 'stone glove': 20, 'mithril shield': 25}\n",
            "{'executive': 7, 'hopper': 20, 'lovelace': 6, 'pod': 2, 'snooze booth': 1}\n"
          ]
        }
      ]
    },
    {
      "cell_type": "code",
      "source": [
        "saying =  \"An apple a day keeps the doctor away.         \"\n",
        "print(saying.strip())#to remove white spaces at start and end of the given string\n",
        "\n",
        "product = \"Headphone\"\n",
        "price = 15\n",
        "house_no = \"38/A\"\n",
        "city = \"LA\"\n",
        "country = \"USA\"\n",
        "\n",
        "new_product = product.upper()\n",
        "#new_price = price.upper()\n",
        "new_house_no = house_no.upper()\n",
        "new_city = city.upper()\n",
        "new_country = country.upper()\n",
        "print(new_product)\n",
        "#print(new_price)\n",
        "print(new_house_no)\n",
        "print(new_city)\n",
        "print(new_country)\n",
        "\n",
        "txt1 = \"affect\"\n",
        "txt2 = txt1.replace(\"a\", \"e\")\n",
        "txt3 = txt2.replace(\"ef\", \"\")\n",
        "print(txt3.replace(\"e\", \"a\"))\n",
        "\n",
        "old_text_1 = \"all lower\"\n",
        "old_text_2 = \"camelCase\"\n",
        "new_text_1 = old_text_1.upper()\n",
        "new_text_2 = old_text_2.upper()\n",
        "\n",
        "txt1 = '{who} had no {what}'.format(what='tea',who='Authur')\n",
        "txt2 = '{} had no {}'.format('Authur','tea')\n",
        "txt3 = '{} {} {} {}.'.format('author','had','no','tea')\n",
        "txt4 = '{y} hand no {x}'.format(x='tea',y='Authur')\n",
        "print(txt1)\n",
        "print(txt2)\n",
        "print(txt3)\n",
        "print(txt4)"
      ],
      "metadata": {
        "id": "QWN4Zjm8a46_",
        "outputId": "917c4122-c7fc-4a1b-9c5a-6e3b13564703",
        "colab": {
          "base_uri": "https://localhost:8080/"
        }
      },
      "execution_count": null,
      "outputs": [
        {
          "output_type": "stream",
          "name": "stdout",
          "text": [
            "An apple a day keeps the doctor away.\n",
            "HEADPHONE\n",
            "38/A\n",
            "LA\n",
            "USA\n",
            "fact\n",
            "Authur had no tea\n",
            "Authur had no tea\n",
            "author had no tea.\n",
            "Authur hand no tea\n"
          ]
        }
      ]
    },
    {
      "cell_type": "code",
      "source": [
        "#Dictionary\n",
        "#to remove all the items in the given dictionary\n",
        "dic = {'rank1': 'Havana', 'rank2': 'Bora Bora', 'rank3': 'Maldives'}\n",
        "dic.pop('rank1')\n",
        "dic.pop('rank2')\n",
        "dic.pop('rank3')\n",
        "print(dic)\n",
        "\n",
        "#Complete the code block to get a list containing all the existing keys from the given Python dictionary.\n",
        "ride_sharing_apps ={\"lyft\": \"car\", \"sam\": \"bike\", \"mobycy\": \"cycle\"}\n",
        "print(ride_sharing_apps.keys())\n",
        "\n",
        "#Fill in the code block so that the following output is displayed: Toyota None not found\n",
        "\n",
        "car = { 'make': 'Toyota',\n",
        "    'model': 'corolla',\n",
        "    'year': '1995'\n",
        "  }\n",
        "\n",
        "print(car.get('make'),car.get('brand'),car.get('date','not found'))\n",
        "\n",
        "#Use the appropriate method to add a key/value pair indicating what year book was published into the book dictionary.\n",
        "\n",
        "book = {\n",
        "  \"name\": \"Goodnight Moon\",\n",
        "  \"author\": \"Margaret Wise Brown\"\n",
        "}\n",
        "\n",
        "book.update({\"year\": \"1947\"})\n",
        "print(book)\n",
        "\n",
        "#What will the following code output?\n",
        "\n",
        "inventory = {\"iron spear\": 12, \"invisible knife\": 30, \"needle of ambition\": 10, \"stone glove\": 20, \"the peacemaker\": 65, \"demonslayer\": 50}\n",
        "print(inventory.get(\"stone glove\", 30))\n",
        "\n",
        "#Fill in the blanks in the included Python code in order to remove the \"Texture\" key-value from the fruit dictionary.\n",
        "\n",
        "fruit = {\n",
        "  \"Name\"   : \"Apple\",\n",
        "  \"Texture\": \"Smooth\",\n",
        "  \"Weight\" : 150\n",
        "}\n",
        "\n",
        "print(fruit)\n",
        "# {'Weight': 150, 'Name': 'Apple', 'Texture': 'Smooth'}\n",
        "\n",
        "fruit.pop(\"Texture\")\n",
        "\n",
        "print(fruit)\n",
        "# {'Weight': 150, 'Name': 'Apple'}"
      ],
      "metadata": {
        "id": "vTPRD9Ddf0Vz",
        "outputId": "405593da-9035-438a-e03d-f8378ae2b2d0",
        "colab": {
          "base_uri": "https://localhost:8080/"
        }
      },
      "execution_count": null,
      "outputs": [
        {
          "output_type": "stream",
          "name": "stdout",
          "text": [
            "{}\n",
            "dict_keys(['lyft', 'sam', 'mobycy'])\n",
            "Toyota None not found\n",
            "{'name': 'Goodnight Moon', 'author': 'Margaret Wise Brown', 'year': '1947'}\n",
            "20\n",
            "{'Name': 'Apple', 'Texture': 'Smooth', 'Weight': 150}\n",
            "{'Name': 'Apple', 'Weight': 150}\n"
          ]
        }
      ]
    },
    {
      "cell_type": "code",
      "source": [
        "#String\n",
        "#Complete the code block to demonstrate raising an IndexError while attempting to access a nonexistent index of a string.\n",
        "random_word = \"Starfish\"\n",
        "character = random_word[7]\n",
        "\n",
        "\"\"\"Arrange the code so that the following output is achieved:\n",
        "F\n",
        "i\n",
        "s\n",
        "h\n",
        "\"\"\"\n",
        "\n",
        "food =\"Fish\"\n",
        "for letter in food:\n",
        "  print(letter)\n",
        "\n",
        "#Select the option that re-writes the last line of the given Python code block to prevent raising an IndexError.\n",
        "\n",
        "science_fact = \"A pH less than 7 is acidic.\"\n",
        "print(science_fact[23])\n",
        "\n",
        "#Fill in the blanks to produce Dr. Lamarr said, \"Water expands when freezes.\" in the console using the given Python code snippet.\n",
        "\n",
        "lecture = \"Dr. Lamarr said, \\\"Water expands when freezes.\\\"\"\n",
        "print(lecture)\n",
        "\n",
        "string1 = \"Hello\"\n",
        "print(string1[1:3])\n",
        "string1 = \"It's going to snow.\"\n",
        "print(len(string1))"
      ],
      "metadata": {
        "id": "0dV0VU6fmx4E",
        "outputId": "3f373139-e428-4c02-aca1-17e845839a3e",
        "colab": {
          "base_uri": "https://localhost:8080/"
        }
      },
      "execution_count": null,
      "outputs": [
        {
          "output_type": "stream",
          "name": "stdout",
          "text": [
            "F\n",
            "i\n",
            "s\n",
            "h\n",
            "d\n",
            "Dr. Lamarr said, \"Water expands when freezes.\"\n",
            "el\n",
            "19\n"
          ]
        }
      ]
    },
    {
      "cell_type": "code",
      "source": [
        "#Write a function called vowel_counter that takes a string as an argument and counts the number of vowels (\"a\", \"e\", \"i\", \"o\", \"u\") in it.\n",
        "\n",
        "\n",
        "# Write your function here\n",
        "def vowel_counter(string):\n",
        "  vowels = [\"a\", \"e\", \"i\", \"o\", \"u\"]\n",
        "  count =0\n",
        "  for letter in string:\n",
        "    if letter in vowels:\n",
        "      count+=1\n",
        "  return count\n",
        "total_count = vowel_counter(\"A pH less than 7 is acidic.\")\n",
        "print(total_count)\n"
      ],
      "metadata": {
        "id": "0511-oxZpZXL",
        "outputId": "946a7381-92be-49dd-bebc-d1aa7e10cad8",
        "colab": {
          "base_uri": "https://localhost:8080/"
        }
      },
      "execution_count": null,
      "outputs": [
        {
          "output_type": "stream",
          "name": "stdout",
          "text": [
            "6\n"
          ]
        }
      ]
    },
    {
      "cell_type": "code",
      "source": [
        "def account_generator(first_name, last_name):\n",
        "  account_name=first_name[0:3]+last_name[0:3]\n",
        "  return account_name\n",
        "\n",
        "first_name = \"Julie\"\n",
        "last_name = \"Blevins\"\n",
        "new_account = account_generator(first_name, last_name)\n",
        "print(new_account)"
      ],
      "metadata": {
        "id": "daw6d2Ojr9sH",
        "outputId": "f7f7ea8c-2b25-457d-a3cc-56a071aa8203",
        "colab": {
          "base_uri": "https://localhost:8080/"
        }
      },
      "execution_count": null,
      "outputs": [
        {
          "output_type": "stream",
          "name": "stdout",
          "text": [
            "JulBle\n"
          ]
        }
      ]
    },
    {
      "cell_type": "code",
      "source": [
        "#ikouki\n",
        "def password_generator(first_name,last_name):\n",
        "  pass_word = first_name[len(first_name)-3:]+last_name[len(last_name)-3:]\n",
        "  return pass_word\n",
        "\n",
        "first_name = \"Reiko\"\n",
        "last_name = \"Matsuki\"\n",
        "temp_password = password_generator(first_name, last_name)\n",
        "print(temp_password)"
      ],
      "metadata": {
        "id": "rjET0lDitycX",
        "outputId": "5efd7cfe-36f7-47e4-b08a-4a6d2841cfbb",
        "colab": {
          "base_uri": "https://localhost:8080/"
        }
      },
      "execution_count": null,
      "outputs": [
        {
          "output_type": "stream",
          "name": "stdout",
          "text": [
            "ikouki\n"
          ]
        }
      ]
    },
    {
      "cell_type": "code",
      "source": [
        "\"\"\"Write a function called letter_check that takes two inputs, word and letter.\n",
        "This function should return True if the word contains the letter and False if it does not.\"\"\"\n",
        "def letter_check(word, letter):\n",
        "  cnt = 0\n",
        "  for char in word:\n",
        "    if letter == char:\n",
        "      cnt +=1\n",
        "  return cnt\n",
        "\n",
        "cnt = letter_check(\"stanly jose reyan\",\"a\")\n",
        "print(cnt)"
      ],
      "metadata": {
        "id": "6N1MXj0BxpNf",
        "outputId": "ef7658e2-f68a-41a2-dea8-40649bcfe8e9",
        "colab": {
          "base_uri": "https://localhost:8080/"
        }
      },
      "execution_count": null,
      "outputs": [
        {
          "output_type": "stream",
          "name": "stdout",
          "text": [
            "2\n"
          ]
        }
      ]
    },
    {
      "cell_type": "code",
      "source": [
        "\"\"\" Write a function called contains that takes two arguments, big_string and little_string and returns True if big_string contains little_string.\n",
        "For example contains(\"watermelon\", \"melon\") should return True and contains(\"watermelon\", \"berry\") should return False.\n",
        "\n",
        "Write a function called common_letters that takes two arguments, string_one and string_two and then returns a list with all of the letters they have in common.\n",
        "The letters in the returned list should be unique. For example,\n",
        "common_letters(\"banana\", \"cream\")\n",
        "should return ['a'].\n",
        "\"\"\"\n",
        "def contains(big_string, little_string):\n",
        "  return little_string in big_string\n",
        "\n",
        "def common_letters(string_one, string_two):\n",
        "  common = []\n",
        "  for letter in string_one:\n",
        "    if (letter in string_two) and not (letter in common):\n",
        "      common.append(letter)\n",
        "  return common\n",
        "\n",
        "contain = contains(\"watermelon\", \"melon\")\n",
        "common = common_letters(\"Manhatten\", \"San Fransisco\")\n",
        "print(contain)\n",
        "print(common)\n",
        "#my code\n",
        "def contains(big_string,little_string):\n",
        "  if little_string in big_string:\n",
        "    return True\n",
        "  else:\n",
        "    return False\n",
        "def common_letters(string_one,string_two):\n",
        "  letters=[]\n",
        "  for letter1 in string_one:\n",
        "    for letter2 in string_two:\n",
        "      if letter1 in letter2 and not (letter1 in letters):\n",
        "        letters += letter1\n",
        "  return letters\n",
        "\n",
        "\n",
        "rtn = contains(\"watermelon\", \"melon\")\n",
        "common_letter = common_letters('manhattan', 'san francisco')\n",
        "print (rtn)\n",
        "print (common_letter)"
      ],
      "metadata": {
        "id": "A9PkoqRZ0bf1",
        "outputId": "b716ef02-597b-429d-b6ca-d09a252fcbad",
        "colab": {
          "base_uri": "https://localhost:8080/"
        }
      },
      "execution_count": null,
      "outputs": [
        {
          "output_type": "stream",
          "name": "stdout",
          "text": [
            "True\n",
            "['a', 'n']\n",
            "True\n",
            "['a', 'n']\n"
          ]
        }
      ]
    },
    {
      "cell_type": "code",
      "source": [
        "#Strip and Join\n",
        "love_maybe_lines = ['Always    ', '     in the middle of our bloodiest battles  ', 'you lay down your arms', '           like flowering mines    ','\\n' ,'   to conquer me home.    ']\n",
        "love_maybe_lines_stripped = []\n",
        "for line in love_maybe_lines:\n",
        "  love_maybe_lines_stripped.append(line.strip())\n",
        "\n",
        "love_maybe_full = '\\n'.join(love_maybe_lines_stripped)\n",
        "\n",
        "print(love_maybe_full)"
      ],
      "metadata": {
        "id": "KYQysqMlR28j",
        "outputId": "5e913d49-f482-42c6-f422-37b1e49edf67",
        "colab": {
          "base_uri": "https://localhost:8080/"
        }
      },
      "execution_count": null,
      "outputs": [
        {
          "output_type": "stream",
          "name": "stdout",
          "text": [
            "Always\n",
            "in the middle of our bloodiest battles\n",
            "you lay down your arms\n",
            "like flowering mines\n",
            "\n",
            "to conquer me home.\n"
          ]
        }
      ]
    },
    {
      "cell_type": "code",
      "source": [
        "dirty_harry = \"Go ahead, make my day.\"\n",
        "split_hairs = dirty_harry.split(\"a\")\n",
        "print(split_hairs)"
      ],
      "metadata": {
        "id": "AIJMkgTHFsnL",
        "outputId": "eb1756e7-2a68-420b-cf57-8ac037000222",
        "colab": {
          "base_uri": "https://localhost:8080/"
        }
      },
      "execution_count": 70,
      "outputs": [
        {
          "output_type": "stream",
          "name": "stdout",
          "text": [
            "['Go ', 'he', 'd, m', 'ke my d', 'y.']\n"
          ]
        }
      ]
    },
    {
      "cell_type": "code",
      "source": [
        "pct_women_in_occupation = {\"CEO\": 28, \"Engineering Manager\": 9, \"Pharmacist\": 58, \"Physician\": 40, \"Lawyer\": 37, \"Aerospace Engineer\": 9}\n",
        "for key,value in pct_women_in_occupation.items():\n",
        "  print((\"Women make up {value} percent of {key}s.\").format(key=key, value=value))"
      ],
      "metadata": {
        "colab": {
          "base_uri": "https://localhost:8080/"
        },
        "id": "l2sjRaUM-Gx2",
        "outputId": "889abcb5-fde9-46df-87b9-d31cf4807229"
      },
      "execution_count": 59,
      "outputs": [
        {
          "output_type": "stream",
          "name": "stdout",
          "text": [
            "Women make up 28 percent of CEOs.\n",
            "Women make up 9 percent of Engineering Managers.\n",
            "Women make up 58 percent of Pharmacists.\n",
            "Women make up 40 percent of Physicians.\n",
            "Women make up 37 percent of Lawyers.\n",
            "Women make up 9 percent of Aerospace Engineers.\n"
          ]
        }
      ]
    },
    {
      "cell_type": "code",
      "source": [
        "combo_meals = {1: [\"hamburger\", \"fries\"], 2: [\"hamburger\", \"fries\", \"soda\"], 4: [\"veggie burger\", \"salad\", \"soda\"], 6: [\"hot dog\", \"apple slices\", \"orange juice\"]}\n",
        "print(combo_meals.get(3, [\"hamburger\", \"fries\"]))"
      ],
      "metadata": {
        "id": "njrejc-vC44d",
        "outputId": "3560c2f1-3d14-42e1-c49b-48afe5495959",
        "colab": {
          "base_uri": "https://localhost:8080/"
        }
      },
      "execution_count": 60,
      "outputs": [
        {
          "output_type": "stream",
          "name": "stdout",
          "text": [
            "['hamburger', 'fries']\n"
          ]
        }
      ]
    },
    {
      "cell_type": "code",
      "source": [
        "oscars = {\"Best Picture\": \"Moonlight\", \"Best Actor\": \"Casey Affleck\", \"Best Actress\": \"Emma Stone\", \"Animated Feature\": \"Zootopia\"}\n",
        "\n",
        "for element in oscars.values():\n",
        "  print(element)\n",
        "\n",
        "inventory = {\"iron spear\": 12, \"invisible knife\": 30, \"needle of ambition\": 10, \"stone glove\": 20, \"the peacemaker\": 65, \"demonslayer\": 50}\n",
        "print(\"the peacemaker\" in inventory)\n",
        "\n",
        "raffle = {223842: \"Teddy Bear\", 872921: \"Concert Tickets\", 320291: \"Gift Basket\", 412123: \"Necklace\", 298787: \"Pasta Maker\"}\n",
        "raffle.pop(561721, \"No Value\")\n",
        "print(raffle)\n",
        "\n",
        "inventory = {\"iron spear\": 12, \"invisible knife\": 30, \"needle of ambition\": 10, \"stone glove\": 20, \"the peacemaker\": 65, \"demonslayer\": 50}\n",
        "print(inventory.get(\"stone glove\", 30))\n",
        "\n",
        "combo_meals = {1: [\"hamburger\", \"fries\"], 2: [\"hamburger\", \"fries\", \"soda\"], 4: [\"veggie burger\", \"salad\", \"soda\"], 6: [\"hot dog\", \"apple slices\", \"orange juice\"]}\n",
        "print(combo_meals.get(3, [\"hamburger\", \"fries\"]))\n",
        "\n",
        "combo_meals = {1: [\"hamburger\", \"fries\"], 2: [\"hamburger\", \"fries\", \"soda\"], 4: [\"veggie burger\", \"salad\", \"soda\"], 6: [\"hot dog\", \"apple slices\", \"orange juice\"]}\n",
        "print(combo_meals[2])\n",
        "\n",
        "combo_meals = {1: [\"hamburger\", \"fries\"], 2: [\"hamburger\", \"fries\", \"soda\"], 4: [\"veggie burger\", \"salad\", \"soda\"], 6: [\"hot dog\", \"apple slices\", \"orange juice\"]}\n",
        "print(combo_meals[1]) #Key Error on missing key\n",
        "\n",
        "inventory = {\"iron spear\": 12, \"invisible knife\": 30, \"needle of ambition\": 10, \"stone glove\": 20, \"the peacemaker\": 65, \"demonslayer\": 50}\n",
        "print(12 in inventory)\n",
        "\n",
        "oscars = {\"Best Picture\": \"Moonlight\", \"Best Actor\": \"Casey Affleck\", \"Best Actress\": \"Emma Stone\", \"Animated Feature\": \"Zootopia\"}\n",
        "for element in oscars:\n",
        "  print(element)"
      ],
      "metadata": {
        "id": "QLoAJi1lD-d4",
        "outputId": "d6d4057b-2069-4888-a3d0-a450548382c4",
        "colab": {
          "base_uri": "https://localhost:8080/"
        }
      },
      "execution_count": 69,
      "outputs": [
        {
          "output_type": "stream",
          "name": "stdout",
          "text": [
            "Moonlight\n",
            "Casey Affleck\n",
            "Emma Stone\n",
            "Zootopia\n",
            "True\n",
            "{223842: 'Teddy Bear', 872921: 'Concert Tickets', 320291: 'Gift Basket', 412123: 'Necklace', 298787: 'Pasta Maker'}\n",
            "20\n",
            "['hamburger', 'fries']\n",
            "['hamburger', 'fries', 'soda']\n",
            "['hamburger', 'fries']\n",
            "False\n",
            "Best Picture\n",
            "Best Actor\n",
            "Best Actress\n",
            "Animated Feature\n"
          ]
        }
      ]
    }
  ],
  "metadata": {
    "colab": {
      "provenance": []
    },
    "kernelspec": {
      "display_name": "Python 3",
      "name": "python3"
    },
    "language_info": {
      "name": "python"
    }
  },
  "nbformat": 4,
  "nbformat_minor": 0
}