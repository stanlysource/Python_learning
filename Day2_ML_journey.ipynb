{
  "cells": [
    {
      "cell_type": "code",
      "execution_count": null,
      "metadata": {
        "colab": {
          "base_uri": "https://localhost:8080/"
        },
        "id": "HpmbKqI7jltH",
        "outputId": "0ec1bf68-5f68-4ec7-f746-ea081ec8cab5"
      },
      "outputs": [
        {
          "name": "stdout",
          "output_type": "stream",
          "text": [
            "hello world\n"
          ]
        }
      ],
      "source": [
        "print(\"hello world\")"
      ]
    },
    {
      "cell_type": "code",
      "execution_count": 1,
      "metadata": {
        "id": "34ZbDQBAxLWX",
        "colab": {
          "base_uri": "https://localhost:8080/",
          "height": 52
        },
        "outputId": "4af1ee92-ed35-45da-a7b6-81b8ca670677"
      },
      "outputs": [
        {
          "name": "stdout",
          "output_type": "stream",
          "text": [
            "enter a number12\n"
          ]
        },
        {
          "output_type": "execute_result",
          "data": {
            "text/plain": [
              "'12'"
            ],
            "application/vnd.google.colaboratory.intrinsic+json": {
              "type": "string"
            }
          },
          "metadata": {},
          "execution_count": 1
        }
      ],
      "source": [
        "input(\"enter a number\")"
      ]
    },
    {
      "cell_type": "code",
      "source": [
        "#Day 9 COPY--> 1. Shallow COPY and 2. DEEP COPY\n",
        "#l2 is referencing l1\n",
        "l1=[10,20,30,40]\n",
        "l2=l1\n",
        "print(l1)\n",
        "print(l2)\n",
        "l1[0]=100\n",
        "print(l1)\n",
        "print(l2)"
      ],
      "metadata": {
        "colab": {
          "base_uri": "https://localhost:8080/"
        },
        "id": "nSqt3ZpUTU3G",
        "outputId": "b3965fb1-7bea-4741-a2bd-a5bb14e12175"
      },
      "execution_count": 24,
      "outputs": [
        {
          "output_type": "stream",
          "name": "stdout",
          "text": [
            "[10, 20, 30, 40]\n",
            "[10, 20, 30, 40]\n",
            "[100, 20, 30, 40]\n",
            "[100, 20, 30, 40]\n"
          ]
        }
      ]
    },
    {
      "cell_type": "code",
      "source": [
        "#shallow copy\n",
        "\"\"\"A shallow copy constructs a new compound object and then (to the\n",
        "  extent possible) inserts *the same objects* into it that the\n",
        "  original contains.\n",
        "\n",
        "\"\"\"\n",
        "import copy\n",
        "l1=[[10,20,30,40],[100,200],[1000,'a']]\n",
        "print('print l1 :' + str(l1))\n",
        "print('print id(l1) : ' + str(id(l1)))\n",
        "l2=copy.copy(l1)\n",
        "print('print l2 : '+ str(l2))\n",
        "print('print id(l2)'+ str(id(l2)))\n",
        "print('print id(l1) '+ str(id(l1)))\n",
        "print('print id(l2[0])'+ str(id(l2[0])))\n",
        "print('print id(l1[0])' + str(id(l1[0])))\n",
        "\n",
        "l1[0]=50\n",
        "print('print l1 '+ str(l1))\n",
        "print('print l2: ' + str(l2))"
      ],
      "metadata": {
        "colab": {
          "base_uri": "https://localhost:8080/"
        },
        "id": "RNvd6Tg7VIiC",
        "outputId": "9bc894e4-b651-42a3-eed4-5745e87f8b51"
      },
      "execution_count": 31,
      "outputs": [
        {
          "output_type": "stream",
          "name": "stdout",
          "text": [
            "print l1 :[[10, 20, 30, 40], [100, 200], [1000, 'a']]\n",
            "print id(l1) : 139123673592192\n",
            "print l2 : [[10, 20, 30, 40], [100, 200], [1000, 'a']]\n",
            "print id(l2)139123673687168\n",
            "print id(l1) 139123673592192\n",
            "print id(l2[0])139123673824576\n",
            "print id(l1[0])139123673824576\n",
            "print l1 [50, [100, 200], [1000, 'a']]\n",
            "print l2: [[10, 20, 30, 40], [100, 200], [1000, 'a']]\n"
          ]
        }
      ]
    },
    {
      "cell_type": "code",
      "source": [],
      "metadata": {
        "id": "TxJo_p2tcJcK"
      },
      "execution_count": null,
      "outputs": []
    },
    {
      "cell_type": "code",
      "source": [
        "#Deep copy\n",
        "\"\"\"- A deep copy constructs a new compound object and then, recursively,\n",
        "  inserts *copies* into it of the objects found in the original.\n",
        "\n",
        "Two problems often exist with deep copy operations that don't exist\n",
        "with shallow copy operations:\n",
        "\n",
        " a) recursive objects (compound objects that, directly or indirectly,\n",
        "    contain a reference to themselves) may cause a recursive loop\n",
        "\n",
        " b) because deep copy copies *everything* it may copy too much, e.g.\n",
        "    administrative data structures that should be shared even between\n",
        "    copies\n",
        "\n",
        "Python's deep copy operation avoids these problems by:\n",
        "\n",
        " a) keeping a table of objects already copied during the current\n",
        "    copying pass\n",
        "\n",
        " b) letting user-defined classes override the copying operation or the\n",
        "    set of components copied\n",
        "\n",
        "This version does not copy types like module, class, function, method,\n",
        "nor stack trace, stack frame, nor file, socket, window, nor any\n",
        "similar types.\n",
        "\n",
        "Classes can use the same interfaces to control copying that they use\n",
        "to control pickling: they can define methods called __getinitargs__(),\n",
        "__getstate__() and __setstate__().  See the documentation for module\n",
        "\"pickle\" for information on these methods. \"\"\"\n",
        "\n",
        "import copy\n",
        "x1=[[10,20,30,40],[100,200],[1000,'a']]\n",
        "print('print x1 :'+ str(x1))\n",
        "print('print id(x1) :'+ str(id(x1)))\n",
        "x2=copy.deepcopy(x1)\n",
        "print('print x2 :'+ str(x2))\n",
        "print('print id(x2) :'+ str(id(x2)))\n",
        "print('print id(x1) :'+ str(id(x1)))\n",
        "print('print id(x2[0]) :'+ str(id(x2[0])))\n",
        "print('print id(x1[0]) :'+ str(id(x1[0])))"
      ],
      "metadata": {
        "colab": {
          "base_uri": "https://localhost:8080/"
        },
        "id": "uWQeTplgTWXR",
        "outputId": "bacdcc7e-f448-4b91-f743-4d55e100eb6e"
      },
      "execution_count": 30,
      "outputs": [
        {
          "output_type": "stream",
          "name": "stdout",
          "text": [
            "print x1 :[[10, 20, 30, 40], [100, 200], [1000, 'a']]\n",
            "print id(x1) :139123673583232\n",
            "print x2 :[[10, 20, 30, 40], [100, 200], [1000, 'a']]\n",
            "print id(x2) :139123673683072\n",
            "print id(x1) :139123673583232\n",
            "print id(x2[0]) :139123673583296\n",
            "print id(x1[0]) :139123673589952\n"
          ]
        }
      ]
    },
    {
      "cell_type": "code",
      "source": [
        "#create a function with parameters and with return value\n",
        "def add(a, b):\n",
        "  c=int(a)+int(b)\n",
        "  return c\n",
        "print(\"Call a parametered function\")\n",
        "a= int(input(\"enter number a \"))\n",
        "b= int(input(\"enter number b \"))\n",
        "c= add(a, b)\n",
        "print(\"Sum of number a \"+str(a)+\" and b \"+str(b)+\" is \"+str(c))\n"
      ],
      "metadata": {
        "colab": {
          "base_uri": "https://localhost:8080/"
        },
        "id": "rOhqpjqDEb0n",
        "outputId": "a6ccf17d-a34f-485d-9f76-192bc13040e4"
      },
      "execution_count": 5,
      "outputs": [
        {
          "output_type": "stream",
          "name": "stdout",
          "text": [
            "Call a parametered function\n",
            "enter number a 10\n",
            "enter number b 20\n",
            "Sum of number a 10 and b 20 is 30\n"
          ]
        }
      ]
    },
    {
      "cell_type": "code",
      "source": [
        "#validate is the input is an integer\n",
        "def get_integer_input(prompt):\n",
        "  \"\"\"Prompts the user for input until a valid integer is entered.\"\"\"\n",
        "  while True:\n",
        "    try:\n",
        "      value = int(input(prompt))\n",
        "      return value\n",
        "    except ValueError:\n",
        "      print(\"Invalid input. Please enter an integer.\")\n",
        "#an add function to sum two numbers\n",
        "def add(a, b):\n",
        "  c=int(a)+int(b)\n",
        "  return c\n",
        "\n",
        "def test(a, b, c, d):\n",
        "  return a, b, c, d\n",
        "\n",
        "a = get_integer_input(\"Please enter a number a: \")\n",
        "print(f\"You entered: {a}\")\n",
        "b = get_integer_input(\"Please enter a number b: \")\n",
        "print(f\"You entered: {b}\")\n",
        "c= add(a, b)\n",
        "print(\"Sum of number a \"+str(a)+\" and b \"+str(b)+\" is \"+str(c))\n",
        "\n",
        "#mutiple values are returned in a tuple\n",
        "x = test(1, 2, 3, 4)\n",
        "print(x)\n",
        "print(type(x))\n"
      ],
      "metadata": {
        "colab": {
          "base_uri": "https://localhost:8080/"
        },
        "id": "C1k5bLu4Ggwu",
        "outputId": "04d74f84-5a5b-472d-eb24-9cb902e5b4de"
      },
      "execution_count": 17,
      "outputs": [
        {
          "output_type": "stream",
          "name": "stdout",
          "text": [
            "Please enter a number a: 12\n",
            "You entered: 12\n",
            "Please enter a number b: 45\n",
            "You entered: 45\n",
            "Sum of number a 12 and b 45 is 57\n",
            "(1, 2, 3, 4)\n",
            "<class 'tuple'>\n"
          ]
        }
      ]
    },
    {
      "cell_type": "code",
      "source": [
        "#create a function with parameters and without return value\n",
        "def add(a, b):\n",
        "  c=int(a)+int(b)\n",
        "  print(\"Sum of number a \"+str(a)+\" and b \"+str(b)+\" is \"+str(c))\n",
        "a= input(\"enter number a \")\n",
        "b= input(\"enter number b \")\n",
        "add(a,b)"
      ],
      "metadata": {
        "colab": {
          "base_uri": "https://localhost:8080/"
        },
        "id": "YZkLSyzuHh--",
        "outputId": "9a8f8d05-2872-409b-a3d8-6416c8a5f670"
      },
      "execution_count": 9,
      "outputs": [
        {
          "output_type": "stream",
          "name": "stdout",
          "text": [
            "enter number a 12\n",
            "enter number b 14\n",
            "Sum of number a 12 and b 14 is 26\n"
          ]
        }
      ]
    },
    {
      "cell_type": "code",
      "source": [
        "#create a function without parameters and with return value\n",
        "def add():\n",
        "  a= int(input(\"enter number a \"))\n",
        "  b= int(input(\"enter number b \"))\n",
        "  c=a+b\n",
        "  return c\n",
        "c= add()\n",
        "print(\"Sum of number a \"+str(a)+\" and b \"+str(b)+\" is \"+str(c))\n",
        "\n",
        "def test1():\n",
        "  l1= (10,20,30,40)\n",
        "  t1= (100,200,300,400)\n",
        "  return l1, t1\n",
        "x = test1()\n",
        "print(x)\n",
        "print(type(x))"
      ],
      "metadata": {
        "colab": {
          "base_uri": "https://localhost:8080/"
        },
        "id": "r7ZgQuz5H4zN",
        "outputId": "33915c67-1184-46bd-e9ba-cdfc046c0a1d"
      },
      "execution_count": 18,
      "outputs": [
        {
          "output_type": "stream",
          "name": "stdout",
          "text": [
            "enter number a 23\n",
            "enter number b 53\n",
            "Sum of number a 12 and b 45 is 76\n",
            "((10, 20, 30, 40), (100, 200, 300, 400))\n",
            "<class 'tuple'>\n"
          ]
        }
      ]
    },
    {
      "cell_type": "code",
      "source": [
        "#create a function without parameters and without return value\n",
        "def add():\n",
        "  a= int(input(\"enter number a \"))\n",
        "  b= int(input(\"enter number b \"))\n",
        "  c=a+b\n",
        "  print(\"Sum of number a \"+str(a)+\" and b \"+str(b)+\" is \"+str(c))\n",
        "  print(type(c))\n",
        "add()\n"
      ],
      "metadata": {
        "colab": {
          "base_uri": "https://localhost:8080/"
        },
        "id": "X4swON-KINCF",
        "outputId": "cd424a11-fee6-46a1-8703-8f40c7aaf1e5"
      },
      "execution_count": 14,
      "outputs": [
        {
          "output_type": "stream",
          "name": "stdout",
          "text": [
            "enter number a 23\n",
            "enter number b 34\n",
            "Sum of number a 23 and b 34 is 57\n",
            "<class 'int'>\n"
          ]
        }
      ]
    },
    {
      "cell_type": "code",
      "source": [
        "def test2(a,b,c,d):\n",
        "  return a,b,c,d\n",
        "x,y= test2(1,2,3,4)[1:3]\n",
        "print(x)\n",
        "print(type(x))\n",
        "print(y)\n",
        "print(type(y))"
      ],
      "metadata": {
        "colab": {
          "base_uri": "https://localhost:8080/"
        },
        "id": "YjPbYStcJ0Mn",
        "outputId": "77c61ee2-703f-48bd-dbf3-7b593f9c0ab6"
      },
      "execution_count": 21,
      "outputs": [
        {
          "output_type": "stream",
          "name": "stdout",
          "text": [
            "2\n",
            "<class 'int'>\n",
            "3\n",
            "<class 'int'>\n"
          ]
        }
      ]
    },
    {
      "cell_type": "code",
      "source": [
        "def test3(a,b,c,d):\n",
        "  return a,b,c,d\n",
        "_,val2,_,val4=(10,20,30,40)\n",
        "print(val2,val4)"
      ],
      "metadata": {
        "colab": {
          "base_uri": "https://localhost:8080/"
        },
        "id": "_fy7-_veLp8B",
        "outputId": "24db5c54-2adb-45a9-c0cc-d64723360b2d"
      },
      "execution_count": 22,
      "outputs": [
        {
          "output_type": "stream",
          "name": "stdout",
          "text": [
            "20 40\n"
          ]
        }
      ]
    }
  ],
  "metadata": {
    "colab": {
      "provenance": []
    },
    "kernelspec": {
      "display_name": "Python 3",
      "name": "python3"
    },
    "language_info": {
      "name": "python"
    }
  },
  "nbformat": 4,
  "nbformat_minor": 0
}