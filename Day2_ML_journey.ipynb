{
  "cells": [
    {
      "cell_type": "code",
      "execution_count": null,
      "metadata": {
        "colab": {
          "base_uri": "https://localhost:8080/"
        },
        "id": "HpmbKqI7jltH",
        "outputId": "0ec1bf68-5f68-4ec7-f746-ea081ec8cab5"
      },
      "outputs": [
        {
          "name": "stdout",
          "output_type": "stream",
          "text": [
            "hello world\n"
          ]
        }
      ],
      "source": [
        "print(\"hello world\")"
      ]
    },
    {
      "cell_type": "code",
      "execution_count": 1,
      "metadata": {
        "id": "34ZbDQBAxLWX",
        "outputId": "4af1ee92-ed35-45da-a7b6-81b8ca670677",
        "colab": {
          "base_uri": "https://localhost:8080/",
          "height": 52
        }
      },
      "outputs": [
        {
          "name": "stdout",
          "output_type": "stream",
          "text": [
            "enter a number12\n"
          ]
        },
        {
          "output_type": "execute_result",
          "data": {
            "text/plain": [
              "'12'"
            ],
            "application/vnd.google.colaboratory.intrinsic+json": {
              "type": "string"
            }
          },
          "metadata": {},
          "execution_count": 1
        }
      ],
      "source": [
        "input(\"enter a number\")"
      ]
    },
    {
      "cell_type": "code",
      "source": [
        "#create a function with parameters and with return value\n",
        "def add(a, b):\n",
        "  c=int(a)+int(b)\n",
        "  return c\n",
        "print(\"Call a parametered function\")\n",
        "a= int(input(\"enter number a \"))\n",
        "b= int(input(\"enter number b \"))\n",
        "c= add(a, b)\n",
        "print(\"Sum of number a \"+str(a)+\" and b \"+str(b)+\" is \"+str(c))\n"
      ],
      "metadata": {
        "id": "rOhqpjqDEb0n",
        "outputId": "a6ccf17d-a34f-485d-9f76-192bc13040e4",
        "colab": {
          "base_uri": "https://localhost:8080/"
        }
      },
      "execution_count": 5,
      "outputs": [
        {
          "output_type": "stream",
          "name": "stdout",
          "text": [
            "Call a parametered function\n",
            "enter number a 10\n",
            "enter number b 20\n",
            "Sum of number a 10 and b 20 is 30\n"
          ]
        }
      ]
    },
    {
      "cell_type": "code",
      "source": [
        "#validate is the input is an integer\n",
        "def get_integer_input(prompt):\n",
        "  \"\"\"Prompts the user for input until a valid integer is entered.\"\"\"\n",
        "  while True:\n",
        "    try:\n",
        "      value = int(input(prompt))\n",
        "      return value\n",
        "    except ValueError:\n",
        "      print(\"Invalid input. Please enter an integer.\")\n",
        "#an add function to sum two numbers\n",
        "def add(a, b):\n",
        "  c=int(a)+int(b)\n",
        "  return c\n",
        "\n",
        "a = get_integer_input(\"Please enter a number a: \")\n",
        "print(f\"You entered: {a}\")\n",
        "b = get_integer_input(\"Please enter a number b: \")\n",
        "print(f\"You entered: {b}\")\n",
        "c= add(a, b)\n",
        "print(\"Sum of number a \"+str(a)+\" and b \"+str(b)+\" is \"+str(c))\n"
      ],
      "metadata": {
        "id": "C1k5bLu4Ggwu",
        "outputId": "f80764bb-bbbe-43a8-a877-deffdcf6680e",
        "colab": {
          "base_uri": "https://localhost:8080/"
        }
      },
      "execution_count": 7,
      "outputs": [
        {
          "output_type": "stream",
          "name": "stdout",
          "text": [
            "Please enter a number a: 25\n",
            "You entered: 25\n",
            "Please enter a number b: 54\n",
            "You entered: 54\n",
            "Sum of number a 25 and b 54 is 79\n"
          ]
        }
      ]
    }
  ],
  "metadata": {
    "colab": {
      "provenance": []
    },
    "kernelspec": {
      "display_name": "Python 3",
      "name": "python3"
    },
    "language_info": {
      "name": "python"
    }
  },
  "nbformat": 4,
  "nbformat_minor": 0
}