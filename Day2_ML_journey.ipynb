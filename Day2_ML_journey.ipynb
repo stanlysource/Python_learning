{
  "cells": [
    {
      "cell_type": "code",
      "execution_count": null,
      "metadata": {
        "colab": {
          "base_uri": "https://localhost:8080/"
        },
        "id": "HpmbKqI7jltH",
        "outputId": "0ec1bf68-5f68-4ec7-f746-ea081ec8cab5"
      },
      "outputs": [
        {
          "name": "stdout",
          "output_type": "stream",
          "text": [
            "hello world\n"
          ]
        }
      ],
      "source": [
        "print(\"hello world\")"
      ]
    },
    {
      "cell_type": "code",
      "execution_count": null,
      "metadata": {
        "id": "34ZbDQBAxLWX",
        "colab": {
          "base_uri": "https://localhost:8080/",
          "height": 52
        },
        "outputId": "4af1ee92-ed35-45da-a7b6-81b8ca670677"
      },
      "outputs": [
        {
          "name": "stdout",
          "output_type": "stream",
          "text": [
            "enter a number12\n"
          ]
        },
        {
          "output_type": "execute_result",
          "data": {
            "text/plain": [
              "'12'"
            ],
            "application/vnd.google.colaboratory.intrinsic+json": {
              "type": "string"
            }
          },
          "metadata": {},
          "execution_count": 1
        }
      ],
      "source": [
        "input(\"enter a number\")"
      ]
    },
    {
      "cell_type": "code",
      "source": [
        "#Day 9 COPY--> 1. Shallow COPY and 2. DEEP COPY\n",
        "#l2 is referencing l1\n",
        "l1=[10,20,30,40]\n",
        "l2=l1\n",
        "print(l1)\n",
        "print(l2)\n",
        "l1[0]=100\n",
        "print(l1)\n",
        "print(l2)"
      ],
      "metadata": {
        "colab": {
          "base_uri": "https://localhost:8080/"
        },
        "id": "nSqt3ZpUTU3G",
        "outputId": "b3965fb1-7bea-4741-a2bd-a5bb14e12175"
      },
      "execution_count": null,
      "outputs": [
        {
          "output_type": "stream",
          "name": "stdout",
          "text": [
            "[10, 20, 30, 40]\n",
            "[10, 20, 30, 40]\n",
            "[100, 20, 30, 40]\n",
            "[100, 20, 30, 40]\n"
          ]
        }
      ]
    },
    {
      "cell_type": "code",
      "source": [
        "#shallow copy\n",
        "\"\"\"A shallow copy constructs a new compound object and then (to the\n",
        "  extent possible) inserts *the same objects* into it that the\n",
        "  original contains.\n",
        "\n",
        "\"\"\"\n",
        "import copy\n",
        "l1=[[10,20,30,40],[100,200],[1000,'a']]\n",
        "print('print l1 :' + str(l1))\n",
        "print('print id(l1) : ' + str(id(l1)))\n",
        "l2=copy.copy(l1)\n",
        "print('print l2 : '+ str(l2))\n",
        "print('print id(l2)'+ str(id(l2)))\n",
        "print('print id(l1) '+ str(id(l1)))\n",
        "print('print id(l2[0])'+ str(id(l2[0])))\n",
        "print('print id(l1[0])' + str(id(l1[0])))\n",
        "\n",
        "l1[0]=50\n",
        "print('print l1 '+ str(l1))\n",
        "print('print l2: ' + str(l2))"
      ],
      "metadata": {
        "colab": {
          "base_uri": "https://localhost:8080/"
        },
        "id": "RNvd6Tg7VIiC",
        "outputId": "9bc894e4-b651-42a3-eed4-5745e87f8b51"
      },
      "execution_count": null,
      "outputs": [
        {
          "output_type": "stream",
          "name": "stdout",
          "text": [
            "print l1 :[[10, 20, 30, 40], [100, 200], [1000, 'a']]\n",
            "print id(l1) : 139123673592192\n",
            "print l2 : [[10, 20, 30, 40], [100, 200], [1000, 'a']]\n",
            "print id(l2)139123673687168\n",
            "print id(l1) 139123673592192\n",
            "print id(l2[0])139123673824576\n",
            "print id(l1[0])139123673824576\n",
            "print l1 [50, [100, 200], [1000, 'a']]\n",
            "print l2: [[10, 20, 30, 40], [100, 200], [1000, 'a']]\n"
          ]
        }
      ]
    },
    {
      "cell_type": "code",
      "source": [],
      "metadata": {
        "id": "TxJo_p2tcJcK"
      },
      "execution_count": null,
      "outputs": []
    },
    {
      "cell_type": "code",
      "source": [
        "#Deep copy\n",
        "\"\"\"- A deep copy constructs a new compound object and then, recursively,\n",
        "  inserts *copies* into it of the objects found in the original.\n",
        "\n",
        "Two problems often exist with deep copy operations that don't exist\n",
        "with shallow copy operations:\n",
        "\n",
        " a) recursive objects (compound objects that, directly or indirectly,\n",
        "    contain a reference to themselves) may cause a recursive loop\n",
        "\n",
        " b) because deep copy copies *everything* it may copy too much, e.g.\n",
        "    administrative data structures that should be shared even between\n",
        "    copies\n",
        "\n",
        "Python's deep copy operation avoids these problems by:\n",
        "\n",
        " a) keeping a table of objects already copied during the current\n",
        "    copying pass\n",
        "\n",
        " b) letting user-defined classes override the copying operation or the\n",
        "    set of components copied\n",
        "\n",
        "This version does not copy types like module, class, function, method,\n",
        "nor stack trace, stack frame, nor file, socket, window, nor any\n",
        "similar types.\n",
        "\n",
        "Classes can use the same interfaces to control copying that they use\n",
        "to control pickling: they can define methods called __getinitargs__(),\n",
        "__getstate__() and __setstate__().  See the documentation for module\n",
        "\"pickle\" for information on these methods. \"\"\"\n",
        "\n",
        "import copy\n",
        "x1=[[10,20,30,40],[100,200],[1000,'a']]\n",
        "print('print x1 :'+ str(x1))\n",
        "print('print id(x1) :'+ str(id(x1)))\n",
        "x2=copy.deepcopy(x1)\n",
        "print('print x2 :'+ str(x2))\n",
        "print('print id(x2) :'+ str(id(x2)))\n",
        "print('print id(x1) :'+ str(id(x1)))\n",
        "print('print id(x2[0]) :'+ str(id(x2[0])))\n",
        "print('print id(x1[0]) :'+ str(id(x1[0])))"
      ],
      "metadata": {
        "colab": {
          "base_uri": "https://localhost:8080/"
        },
        "id": "uWQeTplgTWXR",
        "outputId": "bacdcc7e-f448-4b91-f743-4d55e100eb6e"
      },
      "execution_count": null,
      "outputs": [
        {
          "output_type": "stream",
          "name": "stdout",
          "text": [
            "print x1 :[[10, 20, 30, 40], [100, 200], [1000, 'a']]\n",
            "print id(x1) :139123673583232\n",
            "print x2 :[[10, 20, 30, 40], [100, 200], [1000, 'a']]\n",
            "print id(x2) :139123673683072\n",
            "print id(x1) :139123673583232\n",
            "print id(x2[0]) :139123673583296\n",
            "print id(x1[0]) :139123673589952\n"
          ]
        }
      ]
    },
    {
      "cell_type": "code",
      "source": [
        "#Union of Sets\n",
        "s1={10,20,30,40}\n",
        "s2={30,40,50,60}\n",
        "print(s1|s2)\n",
        "s3=s1.union(s2)\n",
        "print(s3)\n"
      ],
      "metadata": {
        "id": "QtCb3fdP7BXz",
        "outputId": "26b73c9d-0f55-410b-90da-c41e46f4a642",
        "colab": {
          "base_uri": "https://localhost:8080/"
        }
      },
      "execution_count": null,
      "outputs": [
        {
          "output_type": "stream",
          "name": "stdout",
          "text": [
            "{40, 10, 50, 20, 60, 30}\n",
            "{40, 10, 50, 20, 60, 30}\n"
          ]
        }
      ]
    },
    {
      "cell_type": "code",
      "source": [
        "#Intersection of Sets\n",
        "s1={10,20,30,40}\n",
        "s2={30,40,50,60}\n",
        "print(s1&s2)\n",
        "s3=s1.intersection(s2)\n",
        "print(s3)"
      ],
      "metadata": {
        "id": "rSx1rNc_7PxG",
        "outputId": "2a0e7771-a5e5-47a2-89c0-3e36b9a82f9e",
        "colab": {
          "base_uri": "https://localhost:8080/"
        }
      },
      "execution_count": null,
      "outputs": [
        {
          "output_type": "stream",
          "name": "stdout",
          "text": [
            "{40, 30}\n",
            "{40, 30}\n"
          ]
        }
      ]
    },
    {
      "cell_type": "code",
      "source": [
        "#Difference of sets\n",
        "s1={10,20,30,40}\n",
        "s2={30,40,50,60}\n",
        "print(s1-s2)\n",
        "s3=s1.difference(s2)\n",
        "print(s3)"
      ],
      "metadata": {
        "id": "K9BX-gRo7zlg",
        "outputId": "42495e04-de7c-47d0-a7c9-718f4afaf8cb",
        "colab": {
          "base_uri": "https://localhost:8080/"
        }
      },
      "execution_count": null,
      "outputs": [
        {
          "output_type": "stream",
          "name": "stdout",
          "text": [
            "{10, 20}\n",
            "{10, 20}\n"
          ]
        }
      ]
    },
    {
      "cell_type": "code",
      "source": [
        "#frozen set - The set becomes immutable, you will not be able to add / update the frosen set.\n",
        "s1={10,20,30,40}\n",
        "s2={30,40,50,60}\n",
        "s3=frozenset(s1)\n",
        "s4=frozenset(s2)\n",
        "print(s3)\n",
        "print(type(s3))"
      ],
      "metadata": {
        "id": "PJecJ8zU8BnY",
        "outputId": "da9512fd-46a9-42d8-c4fc-2a0e7cddd7f7",
        "colab": {
          "base_uri": "https://localhost:8080/"
        }
      },
      "execution_count": null,
      "outputs": [
        {
          "output_type": "stream",
          "name": "stdout",
          "text": [
            "frozenset({40, 10, 20, 30})\n",
            "<class 'frozenset'>\n"
          ]
        }
      ]
    },
    {
      "cell_type": "code",
      "source": [
        "#Extent list\n",
        "my_list=[10,20,30,40]\n",
        "my_list.extend([50,60])\n",
        "print(my_list)\n",
        "print(my_list[1:3])\n",
        "#Append list\n",
        "my_list.append([70,80])\n",
        "print(my_list)\n",
        "#Pop - to remove a value from a list by its index\n",
        "my_list.pop(3)\n",
        "print(my_list)\n",
        "#Insert - To add value to a list at a specific Index\n",
        "#syntaxt list.insert(index,value)\n",
        "my_list.insert(3,100)\n",
        "print(my_list)\n",
        "#To remove a value from a list\n",
        "my_list.remove(100)\n",
        "print(my_list)\n",
        "#To sort the list\n",
        "#my_list.sort()\n",
        "#print(my_list)\n",
        "#\n",
        "print('the list')\n",
        "print(my_list[::-1])\n",
        "\n",
        "\n",
        "#To reverse the list elements\n",
        "my_list.reverse()\n",
        "print(my_list)\n",
        "#To clear the list elements\n",
        "my_list.clear()\n",
        "print(my_list)"
      ],
      "metadata": {
        "id": "81tTYsWJ80Cv",
        "outputId": "786079ba-d98c-4e36-e3f7-1c6e00ea2cdb",
        "colab": {
          "base_uri": "https://localhost:8080/"
        }
      },
      "execution_count": null,
      "outputs": [
        {
          "output_type": "stream",
          "name": "stdout",
          "text": [
            "[10, 20, 30, 40, 50, 60]\n",
            "[20, 30]\n",
            "[10, 20, 30, 40, 50, 60, [70, 80]]\n",
            "[10, 20, 30, 50, 60, [70, 80]]\n",
            "[10, 20, 30, 100, 50, 60, [70, 80]]\n",
            "[10, 20, 30, 50, 60, [70, 80]]\n",
            "the list\n",
            "[[70, 80], 60, 50, 30, 20, 10]\n",
            "[[70, 80], 60, 50, 30, 20, 10]\n",
            "[]\n"
          ]
        }
      ]
    },
    {
      "cell_type": "code",
      "source": [
        "#create a function with parameters and with return value\n",
        "def add(a, b):\n",
        "  c=int(a)+int(b)\n",
        "  return c\n",
        "print(\"Call a parametered function\")\n",
        "a= int(input(\"enter number a \"))\n",
        "b= int(input(\"enter number b \"))\n",
        "c= add(a, b)\n",
        "print(\"Sum of number a \"+str(a)+\" and b \"+str(b)+\" is \"+str(c))\n"
      ],
      "metadata": {
        "colab": {
          "base_uri": "https://localhost:8080/"
        },
        "id": "rOhqpjqDEb0n",
        "outputId": "a6ccf17d-a34f-485d-9f76-192bc13040e4"
      },
      "execution_count": null,
      "outputs": [
        {
          "output_type": "stream",
          "name": "stdout",
          "text": [
            "Call a parametered function\n",
            "enter number a 10\n",
            "enter number b 20\n",
            "Sum of number a 10 and b 20 is 30\n"
          ]
        }
      ]
    },
    {
      "cell_type": "code",
      "source": [
        "#validate is the input is an integer\n",
        "def get_integer_input(prompt):\n",
        "  \"\"\"Prompts the user for input until a valid integer is entered.\"\"\"\n",
        "  while True:\n",
        "    try:\n",
        "      value = int(input(prompt))\n",
        "      return value\n",
        "    except ValueError:\n",
        "      print(\"Invalid input. Please enter an integer.\")\n",
        "#an add function to sum two numbers\n",
        "def add(a, b):\n",
        "  c=int(a)+int(b)\n",
        "  return c\n",
        "\n",
        "def test(a, b, c, d):\n",
        "  return a, b, c, d\n",
        "\n",
        "a = get_integer_input(\"Please enter a number a: \")\n",
        "print(f\"You entered: {a}\")\n",
        "b = get_integer_input(\"Please enter a number b: \")\n",
        "print(f\"You entered: {b}\")\n",
        "c= add(a, b)\n",
        "print(\"Sum of number a \"+str(a)+\" and b \"+str(b)+\" is \"+str(c))\n",
        "\n",
        "#mutiple values are returned in a tuple\n",
        "x = test(1, 2, 3, 4)\n",
        "print(x)\n",
        "print(type(x))\n"
      ],
      "metadata": {
        "colab": {
          "base_uri": "https://localhost:8080/"
        },
        "id": "C1k5bLu4Ggwu",
        "outputId": "04d74f84-5a5b-472d-eb24-9cb902e5b4de"
      },
      "execution_count": null,
      "outputs": [
        {
          "output_type": "stream",
          "name": "stdout",
          "text": [
            "Please enter a number a: 12\n",
            "You entered: 12\n",
            "Please enter a number b: 45\n",
            "You entered: 45\n",
            "Sum of number a 12 and b 45 is 57\n",
            "(1, 2, 3, 4)\n",
            "<class 'tuple'>\n"
          ]
        }
      ]
    },
    {
      "cell_type": "code",
      "source": [
        "#create a function with parameters and without return value\n",
        "def add(a, b):\n",
        "  c=int(a)+int(b)\n",
        "  print(\"Sum of number a \"+str(a)+\" and b \"+str(b)+\" is \"+str(c))\n",
        "a= input(\"enter number a \")\n",
        "b= input(\"enter number b \")\n",
        "add(a,b)"
      ],
      "metadata": {
        "colab": {
          "base_uri": "https://localhost:8080/"
        },
        "id": "YZkLSyzuHh--",
        "outputId": "9a8f8d05-2872-409b-a3d8-6416c8a5f670"
      },
      "execution_count": null,
      "outputs": [
        {
          "output_type": "stream",
          "name": "stdout",
          "text": [
            "enter number a 12\n",
            "enter number b 14\n",
            "Sum of number a 12 and b 14 is 26\n"
          ]
        }
      ]
    },
    {
      "cell_type": "code",
      "source": [
        "#create a function without parameters and with return value\n",
        "def add():\n",
        "  a= int(input(\"enter number a \"))\n",
        "  b= int(input(\"enter number b \"))\n",
        "  c=a+b\n",
        "  return c\n",
        "c= add()\n",
        "print(\"Sum of number a \"+str(a)+\" and b \"+str(b)+\" is \"+str(c))\n",
        "\n",
        "def test1():\n",
        "  l1= (10,20,30,40)\n",
        "  t1= (100,200,300,400)\n",
        "  return l1, t1\n",
        "x = test1()\n",
        "print(x)\n",
        "print(type(x))"
      ],
      "metadata": {
        "colab": {
          "base_uri": "https://localhost:8080/"
        },
        "id": "r7ZgQuz5H4zN",
        "outputId": "33915c67-1184-46bd-e9ba-cdfc046c0a1d"
      },
      "execution_count": null,
      "outputs": [
        {
          "output_type": "stream",
          "name": "stdout",
          "text": [
            "enter number a 23\n",
            "enter number b 53\n",
            "Sum of number a 12 and b 45 is 76\n",
            "((10, 20, 30, 40), (100, 200, 300, 400))\n",
            "<class 'tuple'>\n"
          ]
        }
      ]
    },
    {
      "cell_type": "code",
      "source": [
        "#create a function without parameters and without return value\n",
        "def add():\n",
        "  a= int(input(\"enter number a \"))\n",
        "  b= int(input(\"enter number b \"))\n",
        "  c=a+b\n",
        "  print(\"Sum of number a \"+str(a)+\" and b \"+str(b)+\" is \"+str(c))\n",
        "  print(type(c))\n",
        "add()\n"
      ],
      "metadata": {
        "colab": {
          "base_uri": "https://localhost:8080/"
        },
        "id": "X4swON-KINCF",
        "outputId": "cd424a11-fee6-46a1-8703-8f40c7aaf1e5"
      },
      "execution_count": null,
      "outputs": [
        {
          "output_type": "stream",
          "name": "stdout",
          "text": [
            "enter number a 23\n",
            "enter number b 34\n",
            "Sum of number a 23 and b 34 is 57\n",
            "<class 'int'>\n"
          ]
        }
      ]
    },
    {
      "cell_type": "code",
      "source": [
        "def test2(a,b,c,d):\n",
        "  return a,b,c,d\n",
        "x,y= test2(1,2,3,4)[1:3]\n",
        "print(x)\n",
        "print(type(x))\n",
        "print(y)\n",
        "print(type(y))"
      ],
      "metadata": {
        "colab": {
          "base_uri": "https://localhost:8080/"
        },
        "id": "YjPbYStcJ0Mn",
        "outputId": "77c61ee2-703f-48bd-dbf3-7b593f9c0ab6"
      },
      "execution_count": null,
      "outputs": [
        {
          "output_type": "stream",
          "name": "stdout",
          "text": [
            "2\n",
            "<class 'int'>\n",
            "3\n",
            "<class 'int'>\n"
          ]
        }
      ]
    },
    {
      "cell_type": "code",
      "source": [
        "def test3(a,b,c,d):\n",
        "  return a,b,c,d\n",
        "_,val2,_,val4=(10,20,30,40)\n",
        "print(val2,val4)"
      ],
      "metadata": {
        "colab": {
          "base_uri": "https://localhost:8080/"
        },
        "id": "_fy7-_veLp8B",
        "outputId": "24db5c54-2adb-45a9-c0cc-d64723360b2d"
      },
      "execution_count": null,
      "outputs": [
        {
          "output_type": "stream",
          "name": "stdout",
          "text": [
            "20 40\n"
          ]
        }
      ]
    },
    {
      "cell_type": "code",
      "source": [
        "#create a function without parameters and with return value\n",
        "def add():\n",
        "  a= int(input(\"enter number a \"))\n",
        "  b= int(input(\"enter number b \"))\n",
        "  c=a+b\n",
        "  return c\n",
        "c= add()\n",
        "print('sum of the numbers:' +str(c))1"
      ],
      "metadata": {
        "colab": {
          "base_uri": "https://localhost:8080/"
        },
        "id": "v7GAv0ibaI8P",
        "outputId": "acffeb0e-e4f3-420e-d5e9-ec9369584c9c"
      },
      "execution_count": null,
      "outputs": [
        {
          "output_type": "stream",
          "name": "stdout",
          "text": [
            "enter number a 12\n",
            "enter number b 4\n",
            "sum of the numbers:16\n"
          ]
        }
      ]
    },
    {
      "cell_type": "code",
      "source": [
        "def test1():\n",
        "  print('test1 start')\n",
        "  test2()\n",
        "  print('test1 end')\n",
        "def test2():\n",
        "  print('test2 start')\n",
        "  print('test 2 end')\n",
        "\n",
        "test1()"
      ],
      "metadata": {
        "colab": {
          "base_uri": "https://localhost:8080/"
        },
        "id": "hi9wYJ3naY82",
        "outputId": "916e1999-7e38-469d-d461-92c8014bbe82"
      },
      "execution_count": null,
      "outputs": [
        {
          "output_type": "stream",
          "name": "stdout",
          "text": [
            "test1 start\n",
            "test2 start\n",
            "test 2 end\n",
            "test1 end\n"
          ]
        }
      ]
    },
    {
      "cell_type": "code",
      "source": [
        "#Local Variable and its scope\n",
        "def test1():\n",
        "  x=10\n",
        "  x=x+1\n",
        "  print(x)\n",
        "#Since it is local variable, for both the function callings, the x will bear the value (10+1) = 11.\n",
        "test1()\n",
        "test1()"
      ],
      "metadata": {
        "colab": {
          "base_uri": "https://localhost:8080/"
        },
        "id": "JKM094s9kpMk",
        "outputId": "71ac8e4f-75df-4d05-94bc-83de16e633dc"
      },
      "execution_count": null,
      "outputs": [
        {
          "output_type": "stream",
          "name": "stdout",
          "text": [
            "11\n",
            "11\n"
          ]
        }
      ]
    },
    {
      "cell_type": "code",
      "source": [
        "#global variable\n",
        "n=10\n",
        "def test2():\n",
        "  n=5\n",
        "  print(n)#prints the local variable value. Since this call is inside the function test2()\n",
        "\n",
        "test2()\n",
        "print(n)#prints the value of the global variable. Since the local variable scope ended in the function test2() itselft\n"
      ],
      "metadata": {
        "colab": {
          "base_uri": "https://localhost:8080/"
        },
        "id": "d89Jd7FwmTFb",
        "outputId": "ce2761b2-81c6-4a54-dc79-ec6124a517e5"
      },
      "execution_count": null,
      "outputs": [
        {
          "output_type": "stream",
          "name": "stdout",
          "text": [
            "5\n",
            "10\n"
          ]
        }
      ]
    },
    {
      "cell_type": "code",
      "source": [
        "n=20 # global variable\n",
        "def test3():\n",
        "  global n # the glbal keyword lets the funciton call the global variable and make changes to its value.\n",
        "  n=n+1\n",
        "  print(n)\n",
        "\n",
        "test3()\n",
        "test3()\n",
        "print(type(test3)) #shows the type.\n",
        "print(test3) # shows the memory location"
      ],
      "metadata": {
        "colab": {
          "base_uri": "https://localhost:8080/"
        },
        "id": "Og_3SZGun4Wm",
        "outputId": "3c3580cc-1092-4905-cf44-879c59d5bb25"
      },
      "execution_count": null,
      "outputs": [
        {
          "output_type": "stream",
          "name": "stdout",
          "text": [
            "21\n",
            "22\n",
            "<class 'function'>\n",
            "<function test3 at 0x7d5455dae520>\n"
          ]
        }
      ]
    },
    {
      "cell_type": "code",
      "source": [],
      "metadata": {
        "id": "IEdW2RTXVOcX"
      },
      "execution_count": null,
      "outputs": []
    },
    {
      "cell_type": "code",
      "source": [
        "def multiplier_factory(factor):\n",
        "  \"\"\"Returns a function that multiplies its argument by the given factor.\"\"\"\n",
        "  def multiplier(number):\n",
        "    \"\"\"Nested function Multiplies its argument by the given factor.\"\"\"\n",
        "    return number * factor\n",
        "  return multiplier\n",
        "#create a function that multiplies by 2\n",
        "multiply_by_2 = multiplier_factory(2)\n",
        "#create a function that multiplies by 3\n",
        "multiply_by_3 = multiplier_factory(3)\n",
        "#use the created function\n",
        "result1 = multiply_by_2(5)\n",
        "result2 = multiply_by_3(5)\n",
        "print(result1)  # Output: 10\n",
        "print(result2)  # Output: 15\n",
        "print (multiply_by_2(5))  # Output: 10\n",
        "print (multiply_by_3(5))  # Output: 15"
      ],
      "metadata": {
        "colab": {
          "base_uri": "https://localhost:8080/"
        },
        "id": "d7ft8omoq2dR",
        "outputId": "6bd9fe11-3082-4e2a-e22e-5fc5dc2e95af"
      },
      "execution_count": null,
      "outputs": [
        {
          "output_type": "stream",
          "name": "stdout",
          "text": [
            "10\n",
            "15\n",
            "10\n",
            "15\n"
          ]
        }
      ]
    },
    {
      "cell_type": "code",
      "source": [
        "#required arguments\n",
        "#keyword arguments and positional argument\n",
        "#default arguments\n",
        "#variable length arguments -- Variable length positional argument(tuple) and Variable length keyword arguments(dictionary)\n",
        "def fun1(name, age, city):\n",
        "  print('my name is:', name, 'age is ', age,'city is:', city)\n",
        "def power(num,p=2):#Default argument\n",
        "  return num**p\n",
        "\n",
        "def sum(*a): #variable length positional args is referenced with '*' before the argument.\n",
        "  result=0\n",
        "  for i in a:\n",
        "    result=result+i\n",
        "  print(result)\n",
        "\n",
        "def addtion(**a): #variable length keyword args is referenced with '**' before the argument.\n",
        "  s=0\n",
        "  for i in a.values():\n",
        "    s=s+i\n",
        "  print(s)\n",
        "\n",
        "fun1('stanly',40,'chennai')#required arguments\n",
        "fun1(age=40,name='stanly',city='chennai')#Keyword arguments\n",
        "#positional argument and then Keyword argument\n",
        "fun1('stanly',40,city='chennai')#Positional arguments. The order of the positional arguments first and then Keyword arguments should follow.\n",
        "print(power(5)) # the default parameter for the p(power is 2) which is set in the function itself. if the value is not given, it will consider that default value.\n",
        "print(power(5,3)) #here the default value will be overridden by the value given here\n",
        "sum(10,20) #variable length positional args - it is going to loop through the number of arguments and get that calculated as defined.\n",
        "sum(10,20,30,40)\n",
        "addtion(a=10,b=20,c=30) #variable length keyword args\n"
      ],
      "metadata": {
        "colab": {
          "base_uri": "https://localhost:8080/"
        },
        "id": "7la7jXSevp_G",
        "outputId": "2f5bd4c1-1cfe-4719-aa9e-fff6ed73ea6a"
      },
      "execution_count": null,
      "outputs": [
        {
          "output_type": "stream",
          "name": "stdout",
          "text": [
            "my name is: stanly age is  40 city is: chennai\n",
            "my name is: stanly age is  40 city is: chennai\n",
            "my name is: stanly age is  40 city is: chennai\n",
            "25\n",
            "125\n",
            "30\n",
            "100\n",
            "60\n"
          ]
        }
      ]
    },
    {
      "cell_type": "code",
      "source": [
        "#variable argument - variable positional and keyword arguments\n",
        "def add(*tuple_args,**dictionary_args):\n",
        "  #print(sum(tuple_args))\n",
        "  #print(sum(dictionary_args.values()))\n",
        "  print(tuple_args)\n",
        "  print(dictionary_args)\n",
        "  print(type(tuple_args))\n",
        "  print(type(dictionary_args))\n",
        "\n",
        "add(10,20,30,a=100,b=200)"
      ],
      "metadata": {
        "id": "SaN8TsVJf-rA",
        "outputId": "fd174f3c-8779-4052-c553-3e78ea5c34e4",
        "colab": {
          "base_uri": "https://localhost:8080/"
        }
      },
      "execution_count": null,
      "outputs": [
        {
          "output_type": "stream",
          "name": "stdout",
          "text": [
            "(10, 20, 30)\n",
            "{'a': 100, 'b': 200}\n",
            "<class 'tuple'>\n",
            "<class 'dict'>\n"
          ]
        }
      ]
    },
    {
      "cell_type": "code",
      "source": [
        "#arguments and its order\n",
        "def students(name, course, *parents_name, age, school=\"AAC\",**marks):\n",
        "  print('name: ', name)\n",
        "  print('class: ', course)\n",
        "  print('parents_name: ', parents_name)\n",
        "  print('age: ', age)\n",
        "  print('school: ', school)\n",
        "  print('marks: ', marks)\n",
        "  print(type(marks))\n",
        "\n",
        "students('Stanly','MCA','Stephen','Ispirith',age=40,cs=89,maths=75,acc=59,eng=69,tamil=83)\n"
      ],
      "metadata": {
        "id": "LeKXkCievOkf",
        "outputId": "6b1d56be-04fc-4cc4-d497-ddcf6f717523",
        "colab": {
          "base_uri": "https://localhost:8080/"
        }
      },
      "execution_count": null,
      "outputs": [
        {
          "output_type": "stream",
          "name": "stdout",
          "text": [
            "name:  Stanly\n",
            "class:  MCA\n",
            "parents_name:  ('Stephen', 'Ispirith')\n",
            "age:  40\n",
            "school:  AAC\n",
            "marks:  {'cs': 89, 'maths': 75, 'acc': 59, 'eng': 69, 'tamil': 83}\n",
            "<class 'dict'>\n"
          ]
        }
      ]
    },
    {
      "cell_type": "code",
      "source": [
        "#class in Python\n",
        "class calculator:\n",
        "  a=0 #attributes\n",
        "  b=0\n",
        "  result=0\n",
        "  def __init__(self,a,b): #Methods\n",
        "    self.a=a\n",
        "    self.b=b\n",
        "    self.result=0\n",
        "  def add(self,a,b):\n",
        "    self.result=self.a+self.b\n",
        "    print('addition of two numbers a and b is:',self.result)\n",
        "    pass\n",
        "  def sub(self,a,b):\n",
        "    self.result=self.a-self.b\n",
        "    print('subtraction of two numbers a and b is :', self.result)\n",
        "    pass\n",
        "  def mul(self, a, b):\n",
        "    self.result=self.a*self.b\n",
        "    print('multiplication of two numbers a and b is: ', self.result)\n",
        "    pass\n",
        "  def div(self,a,b):\n",
        "    self.result=self.a/self.b\n",
        "    print('division of two numbers a and b is:', self.result)\n",
        "    pass\n",
        "\n",
        "s= calculator(10,20) #object creation.\n",
        "s.add(10,20)\n",
        "s.sub(10,20)\n",
        "s.mul(10,20)\n",
        "s.div(10,20)\n"
      ],
      "metadata": {
        "colab": {
          "base_uri": "https://localhost:8080/"
        },
        "id": "t1QROZCZVQTD",
        "outputId": "fddd339a-bb16-459e-8f1f-781b6120f9d1"
      },
      "execution_count": null,
      "outputs": [
        {
          "output_type": "stream",
          "name": "stdout",
          "text": [
            "addition of two numbers a and b is: 30\n",
            "subtraction of two numbers a and b is : -10\n",
            "multiplication of two numbers a and b is:  200\n",
            "division of two numbers a and b is: 0.5\n"
          ]
        }
      ]
    },
    {
      "cell_type": "code",
      "source": [
        "#sample calculator class in python\n",
        "class calc:\n",
        "  a=0 #attributes\n",
        "  b=0\n",
        "  result=0\n",
        "  def __init__(self): #Methods\n",
        "    self.a=0\n",
        "    self.b=0\n",
        "    self.result=0\n",
        "  \"\"\"def get_integer_input(prompt):\n",
        "  #Prompts the user for input until a valid integer is entered.\n",
        "    while True:\n",
        "      try:\n",
        "        value = int(input(prompt))\n",
        "        return value\n",
        "      except ValueError:\n",
        "        print(\"Invalid input. Please enter an integer.\")\"\"\"\n",
        "  def getnumbers(self):\n",
        "    self.a=int(input(\"enter a number a: \")) #get_integer_input(\"enter number a: \")\n",
        "    self.b=int(input(\"enter a number b: \")) #get_integer_input(\"enter number b: \")\n",
        "  def add(self):\n",
        "    self.result=self.a+self.b\n",
        "    print('addition of two numbers a and b is:',self.result)\n",
        "    pass\n",
        "  def sub(self):\n",
        "    self.result=self.a-self.b\n",
        "    print('subtraction of two numbers a and b is :', self.result)\n",
        "    pass\n",
        "  def mul(self):\n",
        "    self.result=self.a*self.b\n",
        "    print('multiplication of two numbers a and b is: ', self.result)\n",
        "    pass\n",
        "  def div(self):\n",
        "    self.result=self.a/self.b\n",
        "    print('division of two numbers a and b is:', self.result)\n",
        "    pass\n",
        "\n",
        "c= calc() #object creation.\n",
        "c.getnumbers()\n",
        "c.add()\n",
        "c.sub()\n",
        "c.mul()\n",
        "c.div()"
      ],
      "metadata": {
        "colab": {
          "base_uri": "https://localhost:8080/"
        },
        "id": "n9gedM6WgtRh",
        "outputId": "79bb022d-dc59-4d6b-dd7a-acde4b97041f"
      },
      "execution_count": null,
      "outputs": [
        {
          "output_type": "stream",
          "name": "stdout",
          "text": [
            "enter a number a: 43\n",
            "enter a number b: 12\n",
            "addition of two numbers a and b is: 55\n",
            "subtraction of two numbers a and b is : 31\n",
            "multiplication of two numbers a and b is:  516\n",
            "division of two numbers a and b is: 3.5833333333333335\n"
          ]
        }
      ]
    },
    {
      "cell_type": "code",
      "source": [
        "class father:\n",
        "  def __init__(self):\n",
        "    print('father class constructor')\n",
        "    self.vechicle =\"scooter\"\n",
        "class son(father):\n",
        "  self.vechicle=\"bmw\"\n",
        "\n",
        "s= son()\n",
        "print(s.__dict__)"
      ],
      "metadata": {
        "colab": {
          "base_uri": "https://localhost:8080/",
          "height": 332
        },
        "id": "ltq7z_RumYXC",
        "outputId": "fe71e3d1-b09a-4d1e-dcaf-3046d160a0a3"
      },
      "execution_count": null,
      "outputs": [
        {
          "output_type": "error",
          "ename": "NameError",
          "evalue": "name 'self' is not defined",
          "traceback": [
            "\u001b[0;31m---------------------------------------------------------------------------\u001b[0m",
            "\u001b[0;31mNameError\u001b[0m                                 Traceback (most recent call last)",
            "\u001b[0;32m<ipython-input-1-acddd4be698a>\u001b[0m in \u001b[0;36m<cell line: 0>\u001b[0;34m()\u001b[0m\n\u001b[1;32m      3\u001b[0m     \u001b[0mprint\u001b[0m\u001b[0;34m(\u001b[0m\u001b[0;34m'father class constructor'\u001b[0m\u001b[0;34m)\u001b[0m\u001b[0;34m\u001b[0m\u001b[0;34m\u001b[0m\u001b[0m\n\u001b[1;32m      4\u001b[0m     \u001b[0mself\u001b[0m\u001b[0;34m.\u001b[0m\u001b[0mvechicle\u001b[0m \u001b[0;34m=\u001b[0m\u001b[0;34m\"scooter\"\u001b[0m\u001b[0;34m\u001b[0m\u001b[0;34m\u001b[0m\u001b[0m\n\u001b[0;32m----> 5\u001b[0;31m \u001b[0;32mclass\u001b[0m \u001b[0mson\u001b[0m\u001b[0;34m(\u001b[0m\u001b[0mfather\u001b[0m\u001b[0;34m)\u001b[0m\u001b[0;34m:\u001b[0m\u001b[0;34m\u001b[0m\u001b[0;34m\u001b[0m\u001b[0m\n\u001b[0m\u001b[1;32m      6\u001b[0m   \u001b[0mself\u001b[0m\u001b[0;34m.\u001b[0m\u001b[0mvechicle\u001b[0m\u001b[0;34m=\u001b[0m\u001b[0;34m\"bmw\"\u001b[0m\u001b[0;34m\u001b[0m\u001b[0;34m\u001b[0m\u001b[0m\n\u001b[1;32m      7\u001b[0m \u001b[0;34m\u001b[0m\u001b[0m\n",
            "\u001b[0;32m<ipython-input-1-acddd4be698a>\u001b[0m in \u001b[0;36mson\u001b[0;34m()\u001b[0m\n\u001b[1;32m      4\u001b[0m     \u001b[0mself\u001b[0m\u001b[0;34m.\u001b[0m\u001b[0mvechicle\u001b[0m \u001b[0;34m=\u001b[0m\u001b[0;34m\"scooter\"\u001b[0m\u001b[0;34m\u001b[0m\u001b[0;34m\u001b[0m\u001b[0m\n\u001b[1;32m      5\u001b[0m \u001b[0;32mclass\u001b[0m \u001b[0mson\u001b[0m\u001b[0;34m(\u001b[0m\u001b[0mfather\u001b[0m\u001b[0;34m)\u001b[0m\u001b[0;34m:\u001b[0m\u001b[0;34m\u001b[0m\u001b[0;34m\u001b[0m\u001b[0m\n\u001b[0;32m----> 6\u001b[0;31m   \u001b[0mself\u001b[0m\u001b[0;34m.\u001b[0m\u001b[0mvechicle\u001b[0m\u001b[0;34m=\u001b[0m\u001b[0;34m\"bmw\"\u001b[0m\u001b[0;34m\u001b[0m\u001b[0;34m\u001b[0m\u001b[0m\n\u001b[0m\u001b[1;32m      7\u001b[0m \u001b[0;34m\u001b[0m\u001b[0m\n\u001b[1;32m      8\u001b[0m \u001b[0ms\u001b[0m\u001b[0;34m=\u001b[0m \u001b[0mson\u001b[0m\u001b[0;34m(\u001b[0m\u001b[0;34m)\u001b[0m\u001b[0;34m\u001b[0m\u001b[0;34m\u001b[0m\u001b[0m\n",
            "\u001b[0;31mNameError\u001b[0m: name 'self' is not defined"
          ]
        }
      ]
    },
    {
      "cell_type": "code",
      "source": [
        "#parameterized constructor\n",
        "class computer:\n",
        "  def __init__(self, ram,pro):\n",
        "    print(\"computer class constructor\")\n",
        "    self.ram = ram\n",
        "    self.processor = pro\n",
        "class mobile(computer):\n",
        "  #make sure all the parent class parameters are passed and then child class parameters\n",
        "  def __init__(self, ram,pro,model): #Child class parameters\n",
        "    super().__init__(ram,pro)#Parent class parameters\n",
        "    self.model=model\n",
        "    print(\"mobile class constructor called\")\n",
        "\n",
        "m = mobile(\"8gb\",\"snapdragon\",\"Android\")\n",
        "print(m.__dict__)"
      ],
      "metadata": {
        "colab": {
          "base_uri": "https://localhost:8080/"
        },
        "id": "z49nvMHnpcwR",
        "outputId": "752896c4-74b8-49d7-b5fc-42c9fe3ad00e"
      },
      "execution_count": null,
      "outputs": [
        {
          "output_type": "stream",
          "name": "stdout",
          "text": [
            "computer class constructor\n",
            "mobile class constructor called\n",
            "{'ram': '8gb', 'processor': 'snapdragon', 'model': 'Android'}\n"
          ]
        }
      ]
    },
    {
      "cell_type": "code",
      "source": [
        "#multi level inheritence\n",
        "class Grandfather:\n",
        "  gf_attribute =\"GF traits\"\n",
        "\n",
        "  def display_gf(self):\n",
        "    print(self.gf_attribute)\n",
        "\n",
        "class Father(Grandfather):\n",
        "  f_attribute =\"father traits\"\n",
        "\n",
        "  def display_f(self):\n",
        "    print(self.f_attribute)\n",
        "\n",
        "class Son(Father):\n",
        "  s_attribute =\"son traits\"\n",
        "\n",
        "  def display_s(self):\n",
        "    print(self.s_attribute)\n",
        "\n",
        "child1 = Grandfather()\n",
        "child2 = Father()\n",
        "child3 = Son()\n",
        "child1.display_gf()\n",
        "child2.display_f()\n",
        "child3.display_s()\n",
        "print(child1.s_attribute)\n",
        "print(child1.f_attribute)\n",
        "print(child1.gf_attribute)\n"
      ],
      "metadata": {
        "colab": {
          "base_uri": "https://localhost:8080/",
          "height": 263
        },
        "id": "wAjs18gnu5Os",
        "outputId": "13708c83-99eb-43c7-e6f4-6c174c451c1e"
      },
      "execution_count": null,
      "outputs": [
        {
          "output_type": "stream",
          "name": "stdout",
          "text": [
            "GF traits\n",
            "father traits\n",
            "son traits\n"
          ]
        },
        {
          "output_type": "error",
          "ename": "AttributeError",
          "evalue": "'Grandfather' object has no attribute 's_attribute'",
          "traceback": [
            "\u001b[0;31m---------------------------------------------------------------------------\u001b[0m",
            "\u001b[0;31mAttributeError\u001b[0m                            Traceback (most recent call last)",
            "\u001b[0;32m<ipython-input-4-b1de69e11af9>\u001b[0m in \u001b[0;36m<cell line: 0>\u001b[0;34m()\u001b[0m\n\u001b[1;32m     24\u001b[0m \u001b[0mchild2\u001b[0m\u001b[0;34m.\u001b[0m\u001b[0mdisplay_f\u001b[0m\u001b[0;34m(\u001b[0m\u001b[0;34m)\u001b[0m\u001b[0;34m\u001b[0m\u001b[0;34m\u001b[0m\u001b[0m\n\u001b[1;32m     25\u001b[0m \u001b[0mchild3\u001b[0m\u001b[0;34m.\u001b[0m\u001b[0mdisplay_s\u001b[0m\u001b[0;34m(\u001b[0m\u001b[0;34m)\u001b[0m\u001b[0;34m\u001b[0m\u001b[0;34m\u001b[0m\u001b[0m\n\u001b[0;32m---> 26\u001b[0;31m \u001b[0mprint\u001b[0m\u001b[0;34m(\u001b[0m\u001b[0mchild1\u001b[0m\u001b[0;34m.\u001b[0m\u001b[0ms_attribute\u001b[0m\u001b[0;34m)\u001b[0m\u001b[0;34m\u001b[0m\u001b[0;34m\u001b[0m\u001b[0m\n\u001b[0m\u001b[1;32m     27\u001b[0m \u001b[0mprint\u001b[0m\u001b[0;34m(\u001b[0m\u001b[0mchild1\u001b[0m\u001b[0;34m.\u001b[0m\u001b[0mf_attribute\u001b[0m\u001b[0;34m)\u001b[0m\u001b[0;34m\u001b[0m\u001b[0;34m\u001b[0m\u001b[0m\n\u001b[1;32m     28\u001b[0m \u001b[0mprint\u001b[0m\u001b[0;34m(\u001b[0m\u001b[0mchild1\u001b[0m\u001b[0;34m.\u001b[0m\u001b[0mgf_attribute\u001b[0m\u001b[0;34m)\u001b[0m\u001b[0;34m\u001b[0m\u001b[0;34m\u001b[0m\u001b[0m\n",
            "\u001b[0;31mAttributeError\u001b[0m: 'Grandfather' object has no attribute 's_attribute'"
          ]
        }
      ]
    },
    {
      "cell_type": "code",
      "source": [
        "#constructor in multi level inheritence\n",
        "class human():\n",
        "  def __init__(self):\n",
        "    print(\"human class constructor\")\n",
        "    self.name = \"Stephen\"\n",
        "class employee(human):\n",
        "  def __init__(self):\n",
        "    print(\"employee class constructor\")\n",
        "    self.salary = 100000\n",
        "\n",
        "class manager(employee):\n",
        "  def __init__(self):\n",
        "    print(\"Manager class constructor\")\n",
        "    self.bonus=2000\n",
        "\n",
        "m1 = manager()\n",
        "\n",
        "print(m1.__dict__)"
      ],
      "metadata": {
        "colab": {
          "base_uri": "https://localhost:8080/"
        },
        "id": "SU-pIw1XwgzG",
        "outputId": "6ea38a20-ec73-41f6-a490-1648cdeedea7"
      },
      "execution_count": null,
      "outputs": [
        {
          "output_type": "stream",
          "name": "stdout",
          "text": [
            "Manager class constructor\n",
            "{'bonus': 2000}\n"
          ]
        }
      ]
    },
    {
      "cell_type": "code",
      "source": [
        "#constructor in multi level inheritence\n",
        "class human():\n",
        "  def __init__(self):\n",
        "    print(\"human class constructor\")\n",
        "    self.name = \"Stephen\"\n",
        "class employee(human):\n",
        "  def __init__(self):\n",
        "    super().__init__()\n",
        "    print(\"employee class constructor\")\n",
        "    self.salary = 100000\n",
        "\n",
        "class manager(employee):\n",
        "  def __init__(self):\n",
        "    super().__init__()\n",
        "    print(\"Manager class constructor\")\n",
        "    self.bonus=2000\n",
        "\n",
        "m1 = manager()\n",
        "print(m1.__dict__)"
      ],
      "metadata": {
        "colab": {
          "base_uri": "https://localhost:8080/"
        },
        "id": "b7PpPdE9xjJg",
        "outputId": "ddf41b7b-87a7-414c-9e59-fc67b1367335"
      },
      "execution_count": null,
      "outputs": [
        {
          "output_type": "stream",
          "name": "stdout",
          "text": [
            "human class constructor\n",
            "employee class constructor\n",
            "Manager class constructor\n",
            "{'name': 'Stephen', 'salary': 100000, 'bonus': 2000}\n"
          ]
        }
      ]
    },
    {
      "cell_type": "code",
      "source": [
        "# class varibale inheritance\n",
        "\n",
        "# Parent class with a class variable\n",
        "class Parent:\n",
        "  parent_class_variable = \"I am a parent class variable\"\n",
        "\n",
        "  def __init__(self, name):\n",
        "    self.name = name\n",
        "\n",
        "  def display_parent_variable(self):\n",
        "    print(f\"From Parent instance {self.name}: {Parent.parent_class_variable}\")\n",
        "\n",
        "# Child class inheriting from Parent\n",
        "class Child(Parent):\n",
        "  child_class_variable = \"I am a child class variable\"\n",
        "\n",
        "  def __init__(self, name, age):\n",
        "    super().__init__(name) # Initialize the parent class\n",
        "    self.age = age\n",
        "\n",
        "  def display_variables(self):\n",
        "    print(f\"From Child instance {self.name}:\")\n",
        "    print(f\"  Parent class variable: {self.parent_class_variable}\") # Accessing inherited class variable\n",
        "    print(f\"  Child class variable: {self.child_class_variable}\") # Accessing child class variable\n",
        "\n",
        "# Create an instance of the Child class\n",
        "child_instance = Child(\"Alice\", 10)\n",
        "\n",
        "# Access and display the inherited class variable\n",
        "print(\"Accessing class variables:\")\n",
        "print(f\"From Parent class: {Parent.parent_class_variable}\")\n",
        "print(f\"From Child class (accessing inherited): {Child.parent_class_variable}\")\n",
        "print(f\"From Child instance (accessing inherited): {child_instance.parent_class_variable}\")\n",
        "print(f\"From Child class: {Child.child_class_variable}\")\n",
        "\n",
        "# Use the method to display the variables\n",
        "child_instance.display_variables()\n",
        "\n",
        "# Create a Parent instance to show the difference\n",
        "parent_instance = Parent(\"Bob\")\n",
        "parent_instance.display_parent_variable()\n",
        "# print(parent_instance.child_class_variable) # This would cause an error"
      ],
      "metadata": {
        "colab": {
          "base_uri": "https://localhost:8080/"
        },
        "id": "3D1rbRATy2vS",
        "outputId": "e90cde0a-fd06-4131-e629-cd43c4224559"
      },
      "execution_count": null,
      "outputs": [
        {
          "output_type": "stream",
          "name": "stdout",
          "text": [
            "Accessing class variables:\n",
            "From Parent class: I am a parent class variable\n",
            "From Child class (accessing inherited): I am a parent class variable\n",
            "From Child instance (accessing inherited): I am a parent class variable\n",
            "From Child class: I am a child class variable\n",
            "From Child instance Alice:\n",
            "  Parent class variable: I am a parent class variable\n",
            "  Child class variable: I am a child class variable\n",
            "From Parent instance Bob: I am a parent class variable\n"
          ]
        }
      ]
    },
    {
      "cell_type": "code",
      "source": [
        "#interview question\n",
        "#1\n",
        "l =[True, False, 2,3,4,5,\"one\",0]\n",
        "b=0 in l #returns true\n",
        "print(b)\n",
        "\n",
        "\n",
        "\n"
      ],
      "metadata": {
        "id": "X2y9JZUm-SdJ",
        "outputId": "9e5b225a-91b9-4e59-be9d-528c894dfe0b",
        "colab": {
          "base_uri": "https://localhost:8080/"
        }
      },
      "execution_count": null,
      "outputs": [
        {
          "output_type": "stream",
          "name": "stdout",
          "text": [
            "True\n"
          ]
        }
      ]
    },
    {
      "cell_type": "code",
      "source": [
        "#2\n",
        "my_tuple = (1,2,3,4)\n",
        "my_tuple[1] = my_tuple[1] + my_tuple[0] # it is illegal, tuple doesnot support item assignment\n",
        "print(my_tuple)"
      ],
      "metadata": {
        "id": "zYea2opFU09_",
        "outputId": "87cdba63-3d86-4ace-c8b1-b5409620279a",
        "colab": {
          "base_uri": "https://localhost:8080/",
          "height": 193
        }
      },
      "execution_count": null,
      "outputs": [
        {
          "output_type": "error",
          "ename": "TypeError",
          "evalue": "'tuple' object does not support item assignment",
          "traceback": [
            "\u001b[0;31m---------------------------------------------------------------------------\u001b[0m",
            "\u001b[0;31mTypeError\u001b[0m                                 Traceback (most recent call last)",
            "\u001b[0;32m<ipython-input-8-8db4121e748a>\u001b[0m in \u001b[0;36m<cell line: 0>\u001b[0;34m()\u001b[0m\n\u001b[1;32m      1\u001b[0m \u001b[0;31m#2\u001b[0m\u001b[0;34m\u001b[0m\u001b[0;34m\u001b[0m\u001b[0m\n\u001b[1;32m      2\u001b[0m \u001b[0mmy_tuple\u001b[0m \u001b[0;34m=\u001b[0m \u001b[0;34m(\u001b[0m\u001b[0;36m1\u001b[0m\u001b[0;34m,\u001b[0m\u001b[0;36m2\u001b[0m\u001b[0;34m,\u001b[0m\u001b[0;36m3\u001b[0m\u001b[0;34m,\u001b[0m\u001b[0;36m4\u001b[0m\u001b[0;34m)\u001b[0m\u001b[0;34m\u001b[0m\u001b[0;34m\u001b[0m\u001b[0m\n\u001b[0;32m----> 3\u001b[0;31m \u001b[0mmy_tuple\u001b[0m\u001b[0;34m[\u001b[0m\u001b[0;36m1\u001b[0m\u001b[0;34m]\u001b[0m \u001b[0;34m=\u001b[0m \u001b[0mmy_tuple\u001b[0m\u001b[0;34m[\u001b[0m\u001b[0;36m1\u001b[0m\u001b[0;34m]\u001b[0m \u001b[0;34m+\u001b[0m \u001b[0mmy_tuple\u001b[0m\u001b[0;34m[\u001b[0m\u001b[0;36m0\u001b[0m\u001b[0;34m]\u001b[0m\u001b[0;34m\u001b[0m\u001b[0;34m\u001b[0m\u001b[0m\n\u001b[0m\u001b[1;32m      4\u001b[0m \u001b[0mprint\u001b[0m\u001b[0;34m(\u001b[0m\u001b[0mmy_tuple\u001b[0m\u001b[0;34m)\u001b[0m\u001b[0;34m\u001b[0m\u001b[0;34m\u001b[0m\u001b[0m\n",
            "\u001b[0;31mTypeError\u001b[0m: 'tuple' object does not support item assignment"
          ]
        }
      ]
    },
    {
      "cell_type": "code",
      "source": [
        "#what is the expected output\n",
        "x=[0,1,2]\n",
        "x.insert(0,1)\n",
        "del x[0]\n",
        "print(sum(x))"
      ],
      "metadata": {
        "id": "khZt1kuMU9Gi",
        "outputId": "f62d70f2-cacf-4662-e3bc-bdeceafe7fb7",
        "colab": {
          "base_uri": "https://localhost:8080/"
        }
      },
      "execution_count": null,
      "outputs": [
        {
          "output_type": "stream",
          "name": "stdout",
          "text": [
            "3\n"
          ]
        }
      ]
    },
    {
      "cell_type": "code",
      "source": [
        "list1=[1,3]\n",
        "list2=list1\n",
        "list1[0]=4\n",
        "print(list2)\n"
      ],
      "metadata": {
        "id": "F0-9Xa1lVbuT",
        "outputId": "f4cc864c-020b-40f2-d3c4-234745555d22",
        "colab": {
          "base_uri": "https://localhost:8080/"
        }
      },
      "execution_count": null,
      "outputs": [
        {
          "output_type": "stream",
          "name": "stdout",
          "text": [
            "[4, 3]\n"
          ]
        }
      ]
    },
    {
      "cell_type": "code",
      "source": [
        "data=['peter', 404, 3.03,'We',33.3]\n",
        "\n",
        "nums=[1,2,3]\n",
        "vals= nums\n",
        "del vals[1:2]\n",
        "print(nums)"
      ],
      "metadata": {
        "id": "EdSJbQzIVqaA",
        "outputId": "1f0c3d61-07fc-4903-8003-351e996ca7d6",
        "colab": {
          "base_uri": "https://localhost:8080/"
        }
      },
      "execution_count": null,
      "outputs": [
        {
          "output_type": "stream",
          "name": "stdout",
          "text": [
            "[1, 3]\n"
          ]
        }
      ]
    },
    {
      "cell_type": "code",
      "source": [
        "dct ={}\n",
        "dct['1']=(1,2)\n",
        "dct['2']=(2,1)\n",
        "for x in dct.keys():\n",
        "  print(dct[x][1], end='')"
      ],
      "metadata": {
        "id": "yYCZFbz7WCj7",
        "outputId": "20649d10-b146-4d65-b5c1-8f9f28726ca3",
        "colab": {
          "base_uri": "https://localhost:8080/"
        }
      },
      "execution_count": null,
      "outputs": [
        {
          "output_type": "stream",
          "name": "stdout",
          "text": [
            "21"
          ]
        }
      ]
    },
    {
      "cell_type": "code",
      "source": [
        "print(list('hello'))"
      ],
      "metadata": {
        "id": "R5alB852W6yp",
        "outputId": "1c992885-eb01-4bbe-bc69-278c114a49ea",
        "colab": {
          "base_uri": "https://localhost:8080/"
        }
      },
      "execution_count": null,
      "outputs": [
        {
          "output_type": "stream",
          "name": "stdout",
          "text": [
            "['h', 'e', 'l', 'l', 'o']\n"
          ]
        }
      ]
    },
    {
      "cell_type": "code",
      "source": [
        "a=[1,2,3,4,5,6,7,8,9]\n",
        "print(a[::2])\n"
      ],
      "metadata": {
        "id": "5_pHH9OAXDxC",
        "outputId": "c85c7ed7-b5a4-4a2a-8cb6-f9d8ed173f4a",
        "colab": {
          "base_uri": "https://localhost:8080/"
        }
      },
      "execution_count": null,
      "outputs": [
        {
          "output_type": "stream",
          "name": "stdout",
          "text": [
            "[1, 3, 5, 7, 9]\n"
          ]
        }
      ]
    },
    {
      "cell_type": "code",
      "source": [
        "d={}\n",
        "d[1]=1\n",
        "d['1']=2\n",
        "d[1]+=1\n",
        "sum=0\n",
        "for k in d:\n",
        "  sum+=d[k]\n",
        "print(sum)\n"
      ],
      "metadata": {
        "id": "nzNuFH7fXSTR",
        "outputId": "9cab05f1-6bd4-4cf6-b325-403aa4886aae",
        "colab": {
          "base_uri": "https://localhost:8080/"
        }
      },
      "execution_count": null,
      "outputs": [
        {
          "output_type": "stream",
          "name": "stdout",
          "text": [
            "4\n"
          ]
        }
      ]
    },
    {
      "cell_type": "code",
      "source": [
        "dictionary={'one':'two','three':'one','two':'three'}\n",
        "v=dictionary['one']\n",
        "for k in range(len(dictionary)):\n",
        "  v=dictionary[v]\n",
        "print(v)"
      ],
      "metadata": {
        "id": "adH81J_FX2tZ",
        "outputId": "1ad60c10-4d6e-4e55-f2d5-baf9cae5f2bc",
        "colab": {
          "base_uri": "https://localhost:8080/"
        }
      },
      "execution_count": null,
      "outputs": [
        {
          "output_type": "stream",
          "name": "stdout",
          "text": [
            "two\n"
          ]
        }
      ]
    },
    {
      "cell_type": "code",
      "source": [
        "my_list=[3,1,-1]\n",
        "my_list[-1]=my_list[-2]\n",
        "print(my_list)\n"
      ],
      "metadata": {
        "id": "s59S7RZ-Ygnd",
        "outputId": "2524542a-0e6b-4ce5-c4ab-39d4ba830a46",
        "colab": {
          "base_uri": "https://localhost:8080/"
        }
      },
      "execution_count": null,
      "outputs": [
        {
          "output_type": "stream",
          "name": "stdout",
          "text": [
            "[3, 1, 1]\n"
          ]
        }
      ]
    },
    {
      "cell_type": "code",
      "source": [
        "data={'peter': 30,'Paul': 31}\n",
        "print(list(data.keys()))"
      ],
      "metadata": {
        "id": "3eR68dVAZCNR",
        "outputId": "142a7175-68ce-4099-df8b-48cc24703ea1",
        "colab": {
          "base_uri": "https://localhost:8080/"
        }
      },
      "execution_count": null,
      "outputs": [
        {
          "output_type": "stream",
          "name": "stdout",
          "text": [
            "['peter', 'Paul']\n"
          ]
        }
      ]
    },
    {
      "cell_type": "code",
      "source": [
        "tup=(1,) + (1,)\n",
        "tup=tup+tup\n",
        "print(tup)\n",
        "print(len(tup))"
      ],
      "metadata": {
        "id": "JWlztfJhZXII",
        "outputId": "c3f211b6-00be-426b-e51c-fb39b7518be9",
        "colab": {
          "base_uri": "https://localhost:8080/"
        }
      },
      "execution_count": null,
      "outputs": [
        {
          "output_type": "stream",
          "name": "stdout",
          "text": [
            "(1, 1, 1, 1)\n",
            "4\n"
          ]
        }
      ]
    },
    {
      "cell_type": "code",
      "source": [
        "w=[7,3,23,42]\n",
        "x=w[1:]\n",
        "y=w[1:]\n",
        "z=w\n",
        "y[0]=10\n",
        "z[1]=20\n",
        "print(w)"
      ],
      "metadata": {
        "id": "m0-BUyj2ZoCL",
        "outputId": "ea523387-1e48-4397-c16d-5f7789a02f80",
        "colab": {
          "base_uri": "https://localhost:8080/"
        }
      },
      "execution_count": null,
      "outputs": [
        {
          "output_type": "stream",
          "name": "stdout",
          "text": [
            "[7, 20, 23, 42]\n"
          ]
        }
      ]
    },
    {
      "cell_type": "code",
      "source": [
        "#Create a new variable, first_order_remainder and set it equal to 269 modulo 10.\n",
        "first_order_remainder = 269 % 10\n",
        "print(first_order_remainder)"
      ],
      "metadata": {
        "id": "bknJQIHgaUT9",
        "outputId": "7d938242-0bd4-4dc8-caa6-57244bd6d1b3",
        "colab": {
          "base_uri": "https://localhost:8080/"
        }
      },
      "execution_count": null,
      "outputs": [
        {
          "output_type": "stream",
          "name": "stdout",
          "text": [
            "9\n"
          ]
        }
      ]
    },
    {
      "cell_type": "code",
      "source": [
        "num_1 = 10\n",
        "num_2 = 20\n",
        "num_3 = num_1\n",
        "num_1 = 100\n",
        "num_3"
      ],
      "metadata": {
        "id": "OJtZOoxcefe9",
        "outputId": "7fc10121-cae0-406f-f01e-38050b2bb89a",
        "colab": {
          "base_uri": "https://localhost:8080/"
        }
      },
      "execution_count": null,
      "outputs": [
        {
          "output_type": "execute_result",
          "data": {
            "text/plain": [
              "10"
            ]
          },
          "metadata": {},
          "execution_count": 8
        }
      ]
    },
    {
      "cell_type": "code",
      "source": [
        "cool_number = 12 + 30\n",
        "cool_number * 5\n",
        "print(cool_number)"
      ],
      "metadata": {
        "id": "JY56cno6swcT",
        "outputId": "873ad4da-07ab-4f72-f6b9-bd936b240696",
        "colab": {
          "base_uri": "https://localhost:8080/"
        }
      },
      "execution_count": null,
      "outputs": [
        {
          "output_type": "stream",
          "name": "stdout",
          "text": [
            "42\n"
          ]
        }
      ]
    },
    {
      "cell_type": "code",
      "source": [
        "\n",
        "new_list = [\"Red\", \"Blue\", \"White\", \"Green\"]\n",
        "z = sorted(new_list)\n",
        "d = list(z)\n",
        "print(d)\n",
        "print(d[3], d[2], d[1], d[0])\n",
        "d[0], d[1], d[2], d[3] = d[3], d[2], d[1], d[0]\n",
        "print(d[0], d[1], d[2], d[3])"
      ],
      "metadata": {
        "id": "YMicLC7uJL-b",
        "outputId": "d8a6d741-fe5c-4247-ea61-ee93028ead4d",
        "colab": {
          "base_uri": "https://localhost:8080/"
        }
      },
      "execution_count": null,
      "outputs": [
        {
          "output_type": "stream",
          "name": "stdout",
          "text": [
            "['Blue', 'Green', 'Red', 'White']\n",
            "White Red Green Blue\n",
            "White Red Green Blue\n"
          ]
        }
      ]
    },
    {
      "cell_type": "code",
      "source": [
        "'1' + '2' if  '123'.isdigit() else '2'  + '3'"
      ],
      "metadata": {
        "id": "KPZArIsVKnvD",
        "outputId": "a135b79e-edbc-4cb2-a8f0-988d243ec4f6",
        "colab": {
          "base_uri": "https://localhost:8080/",
          "height": 35
        }
      },
      "execution_count": null,
      "outputs": [
        {
          "output_type": "execute_result",
          "data": {
            "text/plain": [
              "'12'"
            ],
            "application/vnd.google.colaboratory.intrinsic+json": {
              "type": "string"
            }
          },
          "metadata": {},
          "execution_count": 9
        }
      ]
    },
    {
      "cell_type": "code",
      "source": [
        "a = 5\n",
        "b = 10\n",
        "c = \"five\"\n",
        "#What are the results of evaluating the conditional expression?\n",
        "print(a == c)\n",
        "print(a >= b)\n",
        "print(not(a < b and a > b))\n"
      ],
      "metadata": {
        "id": "5uJZJNwAKwUz",
        "outputId": "16fbfef0-174f-40ab-a274-a6e795cd320e",
        "colab": {
          "base_uri": "https://localhost:8080/"
        }
      },
      "execution_count": null,
      "outputs": [
        {
          "output_type": "stream",
          "name": "stdout",
          "text": [
            "False\n",
            "False\n",
            "True\n"
          ]
        }
      ]
    },
    {
      "cell_type": "code",
      "source": [
        "if 'bin' in {'float': 1.2, 'bin': 0b010}:\n",
        "     print('a')\n",
        "     print('b')\n",
        "print('c')"
      ],
      "metadata": {
        "id": "Zp-QiY9iLNbE",
        "outputId": "e423cb9d-f89d-4f56-e314-d3360ebd06b1",
        "colab": {
          "base_uri": "https://localhost:8080/"
        }
      },
      "execution_count": null,
      "outputs": [
        {
          "output_type": "stream",
          "name": "stdout",
          "text": [
            "a\n",
            "b\n",
            "c\n"
          ]
        }
      ]
    },
    {
      "cell_type": "code",
      "source": [
        "var = 'hi'\n",
        "if(type(var) == int):\n",
        "    print(\"Type of the variable is Integer\")\n",
        "elif(type(var) == float):\n",
        "    print(\"Type of the variable is Float\")\n",
        "elif(type(var) == complex):\n",
        "    print(\"Type of the variable is Complex\")\n",
        "else:\n",
        "    print(\"Type of the variable is Unknown\")"
      ],
      "metadata": {
        "id": "kVcevSSCL-lJ",
        "outputId": "f48a0ff1-eb1e-432a-b056-9ff70f59bb0e",
        "colab": {
          "base_uri": "https://localhost:8080/"
        }
      },
      "execution_count": null,
      "outputs": [
        {
          "output_type": "stream",
          "name": "stdout",
          "text": [
            "Type of the variable is Unknown\n"
          ]
        }
      ]
    },
    {
      "cell_type": "code",
      "source": [
        "a = [1, 'one', {2: 'two'}, 3]\n",
        "b = len(a)\n",
        "\n",
        "if b == 4:\n",
        "   print('Length of this list is 4')\n",
        "   if b == 5:\n",
        "       print('Length of this list is 5')\n",
        "   else:\n",
        "         print(b)"
      ],
      "metadata": {
        "id": "kGpcF0LoMMoj",
        "outputId": "c48dcdd3-bb0e-4391-f695-1f3a94cb3669",
        "colab": {
          "base_uri": "https://localhost:8080/"
        }
      },
      "execution_count": null,
      "outputs": [
        {
          "output_type": "stream",
          "name": "stdout",
          "text": [
            "Length of this list is 4\n",
            "4\n"
          ]
        }
      ]
    },
    {
      "cell_type": "code",
      "source": [
        "#Which of the following function calls will generate the list below?\n",
        "#[10, 7, 4, 1, -2]\n",
        "#Instruction: Choose the option that best answers the question.\n",
        "\n",
        "print(list(range(10, -3, -3)))\n",
        "\n",
        "print(list(range(-2, 11, -3)))\n",
        "\n",
        "print(list(range(10, -3, 3)))\n",
        "\n",
        "print(list(range(-2, 10, -3)))\n",
        "x = range(2, 14)\n",
        "print(x)"
      ],
      "metadata": {
        "id": "5QlWVRKjMiTz",
        "outputId": "fc0e049a-e439-442d-c941-d4ff9e4258af",
        "colab": {
          "base_uri": "https://localhost:8080/"
        }
      },
      "execution_count": null,
      "outputs": [
        {
          "output_type": "stream",
          "name": "stdout",
          "text": [
            "[10, 7, 4, 1, -2]\n",
            "[]\n",
            "[]\n",
            "[]\n",
            "range(2, 14)\n"
          ]
        }
      ]
    },
    {
      "cell_type": "code",
      "source": [
        "my_list = [['tiger', 'lion', 'leopard'], ['camel', 'llama', 'alpaca'], ['zebra', 'donkey', 'wildebeest']]\n",
        "\n",
        "for x in my_list:\n",
        "    print(type(x))\n",
        "my_dict = {1: 'one', 2: 'two', 3: 'three'}\n",
        "for x in my_dict:\n",
        "    print (x)"
      ],
      "metadata": {
        "id": "EFhf39uENuUF",
        "outputId": "afa65ae3-97f9-421f-c382-5f266c9cce08",
        "colab": {
          "base_uri": "https://localhost:8080/"
        }
      },
      "execution_count": null,
      "outputs": [
        {
          "output_type": "stream",
          "name": "stdout",
          "text": [
            "<class 'list'>\n",
            "<class 'list'>\n",
            "<class 'list'>\n",
            "1\n",
            "2\n",
            "3\n"
          ]
        }
      ]
    },
    {
      "cell_type": "code",
      "source": [
        "x = list(range(-17, -7, 2))\n",
        "print(x)"
      ],
      "metadata": {
        "id": "bXjNd4bhOdQG",
        "outputId": "97925749-f2ef-4f93-f184-a801df40b0dc",
        "colab": {
          "base_uri": "https://localhost:8080/"
        }
      },
      "execution_count": null,
      "outputs": [
        {
          "output_type": "stream",
          "name": "stdout",
          "text": [
            "[-17, -15, -13, -11, -9]\n"
          ]
        }
      ]
    },
    {
      "cell_type": "code",
      "source": [
        "#The following code takes the sum of all the scores in grades and averages them. The correct answer should be 80.8, however, we get a different answer – 23.22. Can you explain why?\n",
        "#Code\n",
        "grades = [99, 83, 57, 65, 100]\n",
        "average = 0\n",
        "for grade in grades:\n",
        "  average += grade\n",
        "  average = average / len(grades)\n",
        "print(average)"
      ],
      "metadata": {
        "colab": {
          "base_uri": "https://localhost:8080/"
        },
        "id": "CYjC84zMfGss",
        "outputId": "8a287600-c883-4b9a-87d1-d6464b7c0213"
      },
      "execution_count": 12,
      "outputs": [
        {
          "output_type": "stream",
          "name": "stdout",
          "text": [
            "23.220480000000002\n"
          ]
        }
      ]
    },
    {
      "cell_type": "code",
      "source": [
        "x = 0\n",
        "\n",
        "if x = 0:\n",
        "  print(\"x is equal to zero\")\n",
        "elif x >= 0:\n",
        "  print(\"x is greater than zero\")\n",
        "else:\n",
        "  print(\"x is less than zero\")"
      ],
      "metadata": {
        "id": "gKqaJgkqvTB5",
        "outputId": "1fc47ba6-db99-4ff2-82bc-5953e2d8cef6",
        "colab": {
          "base_uri": "https://localhost:8080/",
          "height": 106
        }
      },
      "execution_count": 13,
      "outputs": [
        {
          "output_type": "error",
          "ename": "SyntaxError",
          "evalue": "invalid syntax. Maybe you meant '==' or ':=' instead of '='? (<ipython-input-13-ab6783250c96>, line 3)",
          "traceback": [
            "\u001b[0;36m  File \u001b[0;32m\"<ipython-input-13-ab6783250c96>\"\u001b[0;36m, line \u001b[0;32m3\u001b[0m\n\u001b[0;31m    if x = 0:\u001b[0m\n\u001b[0m       ^\u001b[0m\n\u001b[0;31mSyntaxError\u001b[0m\u001b[0;31m:\u001b[0m invalid syntax. Maybe you meant '==' or ':=' instead of '='?\n"
          ]
        }
      ]
    },
    {
      "cell_type": "code",
      "source": [
        "x = 5\n",
        "\n",
        "if x <= 2:\n",
        "  print(\"This is printed\")\n",
        "if x <= 4:\n",
        "  print(\"This is also printed\")\n",
        "if x <= 6:\n",
        "  print(\"Is this printed?\")\n",
        "if x <= 8:\n",
        "  print(\"This might be printed.\")"
      ],
      "metadata": {
        "id": "QNK4hZPuv3Cl",
        "outputId": "b3034eb4-b89a-49b7-ff3b-81b087610497",
        "colab": {
          "base_uri": "https://localhost:8080/"
        }
      },
      "execution_count": 14,
      "outputs": [
        {
          "output_type": "stream",
          "name": "stdout",
          "text": [
            "Is this printed?\n",
            "This might be printed.\n"
          ]
        }
      ]
    },
    {
      "cell_type": "code",
      "source": [
        "(4 <= 2 * 3) and (7 + 1 == 8)"
      ],
      "metadata": {
        "id": "eXy4se_ow3W8",
        "outputId": "59aa15a7-5f82-4499-c0d7-44b706e20b8b",
        "colab": {
          "base_uri": "https://localhost:8080/"
        }
      },
      "execution_count": 19,
      "outputs": [
        {
          "output_type": "execute_result",
          "data": {
            "text/plain": [
              "True"
            ]
          },
          "metadata": {},
          "execution_count": 19
        }
      ]
    },
    {
      "cell_type": "code",
      "source": [
        "#block1\n",
        "print(\"block1\")\n",
        "for i in range(0,10,2):\n",
        "    print (i)\n",
        "\n",
        "#block2\n",
        "print(\"block2\")\n",
        "x = 0\n",
        "while x <10:\n",
        "  print(x)\n",
        "  x += 2\n",
        "\n",
        "#block3\n",
        "print(\"block3\")\n",
        "endloop = False\n",
        "x = 0\n",
        "while endloop != True:\n",
        "  x += 2\n",
        "  if x == 9:\n",
        "    endloop = True\n",
        "\n",
        "\n",
        "#block4\n",
        "print(\"block4\")\n",
        "endloop = False\n",
        "x = 0\n",
        "while endloop != True:\n",
        "  x += 2\n",
        "  if x == 8:\n",
        "    endloop = True\n"
      ],
      "metadata": {
        "id": "eXH1nVg5xvq7",
        "outputId": "10690844-1906-489d-cb42-3d3861f17719",
        "colab": {
          "base_uri": "https://localhost:8080/",
          "height": 436
        }
      },
      "execution_count": 22,
      "outputs": [
        {
          "output_type": "stream",
          "name": "stdout",
          "text": [
            "block1\n",
            "0\n",
            "2\n",
            "4\n",
            "6\n",
            "8\n",
            "block2\n",
            "0\n",
            "2\n",
            "4\n",
            "6\n",
            "8\n",
            "block3\n"
          ]
        },
        {
          "output_type": "error",
          "ename": "KeyboardInterrupt",
          "evalue": "",
          "traceback": [
            "\u001b[0;31m---------------------------------------------------------------------------\u001b[0m",
            "\u001b[0;31mKeyboardInterrupt\u001b[0m                         Traceback (most recent call last)",
            "\u001b[0;32m<ipython-input-22-67798abc3577>\u001b[0m in \u001b[0;36m<cell line: 0>\u001b[0;34m()\u001b[0m\n\u001b[1;32m     15\u001b[0m \u001b[0mendloop\u001b[0m \u001b[0;34m=\u001b[0m \u001b[0;32mFalse\u001b[0m\u001b[0;34m\u001b[0m\u001b[0;34m\u001b[0m\u001b[0m\n\u001b[1;32m     16\u001b[0m \u001b[0mx\u001b[0m \u001b[0;34m=\u001b[0m \u001b[0;36m0\u001b[0m\u001b[0;34m\u001b[0m\u001b[0;34m\u001b[0m\u001b[0m\n\u001b[0;32m---> 17\u001b[0;31m \u001b[0;32mwhile\u001b[0m \u001b[0mendloop\u001b[0m \u001b[0;34m!=\u001b[0m \u001b[0;32mTrue\u001b[0m\u001b[0;34m:\u001b[0m\u001b[0;34m\u001b[0m\u001b[0;34m\u001b[0m\u001b[0m\n\u001b[0m\u001b[1;32m     18\u001b[0m   \u001b[0mx\u001b[0m \u001b[0;34m+=\u001b[0m \u001b[0;36m2\u001b[0m\u001b[0;34m\u001b[0m\u001b[0;34m\u001b[0m\u001b[0m\n\u001b[1;32m     19\u001b[0m   \u001b[0;32mif\u001b[0m \u001b[0mx\u001b[0m \u001b[0;34m==\u001b[0m \u001b[0;36m9\u001b[0m\u001b[0;34m:\u001b[0m\u001b[0;34m\u001b[0m\u001b[0;34m\u001b[0m\u001b[0m\n",
            "\u001b[0;31mKeyboardInterrupt\u001b[0m: "
          ]
        }
      ]
    },
    {
      "cell_type": "code",
      "source": [
        "for i in range(45):\n",
        "  if i >=13:\n",
        "    break\n",
        "  print(i)"
      ],
      "metadata": {
        "id": "e_RLFHrHyg4G",
        "outputId": "0a36dd44-8616-416d-d3a1-a53a56845c3c",
        "colab": {
          "base_uri": "https://localhost:8080/"
        }
      },
      "execution_count": 23,
      "outputs": [
        {
          "output_type": "stream",
          "name": "stdout",
          "text": [
            "0\n",
            "1\n",
            "2\n",
            "3\n",
            "4\n",
            "5\n",
            "6\n",
            "7\n",
            "8\n",
            "9\n",
            "10\n",
            "11\n",
            "12\n"
          ]
        }
      ]
    },
    {
      "cell_type": "code",
      "source": [
        "old = 0\n",
        "list1 = [0, 1, 2, 3, 4, 5, 6, 7, 8, 9, 10]\n",
        "list2 = []\n",
        "for i in list1:\n",
        "    list2.append(i + old)\n",
        "    old = i\n",
        "print(list2)"
      ],
      "metadata": {
        "id": "vzEK-hGTF8qz",
        "outputId": "92b0fd29-3408-47c0-a94f-8854bdca4ee0",
        "colab": {
          "base_uri": "https://localhost:8080/"
        }
      },
      "execution_count": 24,
      "outputs": [
        {
          "output_type": "stream",
          "name": "stdout",
          "text": [
            "[0, 1, 3, 5, 7, 9, 11, 13, 15, 17, 19]\n"
          ]
        }
      ]
    },
    {
      "cell_type": "code",
      "source": [
        "#from important_data import data_list\n",
        "\n",
        "data_list = [1,2,3,4,5,6,7,8,9,10]\n",
        "aggregated_sum = 0\n",
        "count_data = 0\n",
        "\n",
        "for number in data_list:\n",
        "  if number.omit == True:\n",
        "    # Update this line so that\n",
        "    # We omit this number\n",
        "    continue\n",
        "\n",
        "  aggregated_sum += number\n",
        "  count_data += 1\n",
        "\n",
        "averaged_data = aggregated_sum / count_data\n",
        "\n",
        "print(\"Total average for our important data is {}\".format(averaged_data))"
      ],
      "metadata": {
        "id": "esT7inT6GfMi",
        "outputId": "1605fa9f-1ab2-4c9a-d3f1-91f53d15a8e8",
        "colab": {
          "base_uri": "https://localhost:8080/",
          "height": 211
        }
      },
      "execution_count": 28,
      "outputs": [
        {
          "output_type": "error",
          "ename": "AttributeError",
          "evalue": "'int' object has no attribute 'omit'",
          "traceback": [
            "\u001b[0;31m---------------------------------------------------------------------------\u001b[0m",
            "\u001b[0;31mAttributeError\u001b[0m                            Traceback (most recent call last)",
            "\u001b[0;32m<ipython-input-28-7fedd40f3059>\u001b[0m in \u001b[0;36m<cell line: 0>\u001b[0;34m()\u001b[0m\n\u001b[1;32m      6\u001b[0m \u001b[0;34m\u001b[0m\u001b[0m\n\u001b[1;32m      7\u001b[0m \u001b[0;32mfor\u001b[0m \u001b[0mnumber\u001b[0m \u001b[0;32min\u001b[0m \u001b[0mdata_list\u001b[0m\u001b[0;34m:\u001b[0m\u001b[0;34m\u001b[0m\u001b[0;34m\u001b[0m\u001b[0m\n\u001b[0;32m----> 8\u001b[0;31m   \u001b[0;32mif\u001b[0m \u001b[0mnumber\u001b[0m\u001b[0;34m.\u001b[0m\u001b[0momit\u001b[0m \u001b[0;34m==\u001b[0m \u001b[0;32mTrue\u001b[0m\u001b[0;34m:\u001b[0m\u001b[0;34m\u001b[0m\u001b[0;34m\u001b[0m\u001b[0m\n\u001b[0m\u001b[1;32m      9\u001b[0m     \u001b[0;31m# Update this line so that\u001b[0m\u001b[0;34m\u001b[0m\u001b[0;34m\u001b[0m\u001b[0m\n\u001b[1;32m     10\u001b[0m     \u001b[0;31m# We omit this number\u001b[0m\u001b[0;34m\u001b[0m\u001b[0;34m\u001b[0m\u001b[0m\n",
            "\u001b[0;31mAttributeError\u001b[0m: 'int' object has no attribute 'omit'"
          ]
        }
      ]
    },
    {
      "cell_type": "code",
      "source": [
        "for i in range(1,3):\n",
        "  for j in range(2):\n",
        "    print(\"I have \" + str(j) + \" egg(s)!\")\n",
        "  print(\"She has \" + str(i) + \" egg(s)!\")"
      ],
      "metadata": {
        "id": "mIAPxWjHKdB5",
        "outputId": "3f7649ea-2276-44cb-deff-4a3d821531d8",
        "colab": {
          "base_uri": "https://localhost:8080/"
        }
      },
      "execution_count": 29,
      "outputs": [
        {
          "output_type": "stream",
          "name": "stdout",
          "text": [
            "I have 0 egg(s)!\n",
            "I have 1 egg(s)!\n",
            "She has 1 egg(s)!\n",
            "I have 0 egg(s)!\n",
            "I have 1 egg(s)!\n",
            "She has 2 egg(s)!\n"
          ]
        }
      ]
    },
    {
      "cell_type": "code",
      "source": [
        "vacation_gear = [\"camera\", \"headphone\", \"torch\", \"hat\", \"scarf\"]\n",
        "for item in vacation_gear:\n",
        "  print(item)\n",
        "  # Put the line of code here.\n",
        "    break"
      ],
      "metadata": {
        "id": "bimJXfhHKxgI"
      },
      "execution_count": null,
      "outputs": []
    },
    {
      "cell_type": "code",
      "source": [
        "result = 0\n",
        "for count in range(4):\n",
        "  result = result + count\n",
        "\n",
        "print(result)"
      ],
      "metadata": {
        "id": "shNePN2JLL2L",
        "outputId": "33c057a7-1429-4c67-8670-98e341aa6751",
        "colab": {
          "base_uri": "https://localhost:8080/"
        }
      },
      "execution_count": 30,
      "outputs": [
        {
          "output_type": "stream",
          "name": "stdout",
          "text": [
            "6\n"
          ]
        }
      ]
    },
    {
      "cell_type": "code",
      "source": [
        "scores = [\n",
        "  ['mary', [19, 17, 18]],\n",
        "  ['john', [15, 20, 16]],\n",
        "  ['mark', [14, 19, 19]]\n",
        "]\n",
        "\n",
        "for person in scores:\n",
        "  sum = 0\n",
        "  for score in person[1]:\n",
        "    for score in person[1]:\n",
        "      sum += score\n",
        "  print(\"{}'s average is {:0.2f}\".format(name, sum / 3))"
      ],
      "metadata": {
        "id": "EhaWYlafLr43",
        "outputId": "afa737c4-8ed8-41ae-d008-3dec092203ef",
        "colab": {
          "base_uri": "https://localhost:8080/"
        }
      },
      "execution_count": 35,
      "outputs": [
        {
          "output_type": "stream",
          "name": "stdout",
          "text": [
            "19's average is 54.00\n",
            "19's average is 51.00\n",
            "19's average is 52.00\n"
          ]
        }
      ]
    },
    {
      "cell_type": "code",
      "source": [
        "fruits = [\"orange\", \"apple\", \"banana\"]\n",
        "for fruit in fruits:\n",
        "  fruit += 's'\n",
        "print(fruit)"
      ],
      "metadata": {
        "id": "uzYD-R-_MrN5",
        "outputId": "fcb4d155-7618-410a-9ca9-9db60c8516e1",
        "colab": {
          "base_uri": "https://localhost:8080/"
        }
      },
      "execution_count": 32,
      "outputs": [
        {
          "output_type": "stream",
          "name": "stdout",
          "text": [
            "bananas\n"
          ]
        }
      ]
    },
    {
      "cell_type": "code",
      "source": [
        "students_age = [7, 8, 9, 11, 9, 8]\n",
        "summation = 0\n",
        "index = 0\n",
        "while index < 4:\n",
        "  summation += students_age[index]\n",
        "  index += 1\n",
        "\n",
        "print(summation)"
      ],
      "metadata": {
        "id": "V6mWZCt_OiCX",
        "outputId": "da54a87b-425f-4d9d-fbd6-a7695cbf9e27",
        "colab": {
          "base_uri": "https://localhost:8080/"
        }
      },
      "execution_count": 36,
      "outputs": [
        {
          "output_type": "stream",
          "name": "stdout",
          "text": [
            "35\n"
          ]
        }
      ]
    },
    {
      "cell_type": "code",
      "source": [
        "aircraft_companies = ['Boeing', 'Cessna', 'Airbus']\n",
        "print(\"Aircraft Companies\")\n",
        "for c in aircraft_companies:\n",
        "  if c == \"Boeing\":\n",
        "    continue\n",
        "  print(c)\n",
        "\n",
        "for r in range(10):\n",
        "  print(\"hello\")"
      ],
      "metadata": {
        "id": "6pm5q8GCtn4U",
        "outputId": "6c8e04c9-7397-4f14-96f2-1fbbd88bd84a",
        "colab": {
          "base_uri": "https://localhost:8080/"
        }
      },
      "execution_count": 2,
      "outputs": [
        {
          "output_type": "stream",
          "name": "stdout",
          "text": [
            "Aircraft Companies\n",
            "Cessna\n",
            "Airbus\n",
            "hello\n",
            "hello\n",
            "hello\n",
            "hello\n",
            "hello\n",
            "hello\n",
            "hello\n",
            "hello\n",
            "hello\n",
            "hello\n"
          ]
        }
      ]
    },
    {
      "cell_type": "code",
      "source": [
        "count = 5\n",
        "while count != 20:\n",
        "  count += 5\n",
        "  print(count)"
      ],
      "metadata": {
        "id": "WN9aJugBudXo",
        "outputId": "73442dbf-7329-4cd9-d06c-31a5ef6dfdf3",
        "colab": {
          "base_uri": "https://localhost:8080/"
        }
      },
      "execution_count": 3,
      "outputs": [
        {
          "output_type": "stream",
          "name": "stdout",
          "text": [
            "10\n",
            "15\n",
            "20\n"
          ]
        }
      ]
    },
    {
      "cell_type": "code",
      "source": [
        "number = 4\n",
        "for i in range(3):\n",
        "  number = number - 1\n",
        "  print(number)"
      ],
      "metadata": {
        "id": "foUzBX0PwWjF",
        "outputId": "61f07a41-4e51-4f3a-8ae3-663885399a13",
        "colab": {
          "base_uri": "https://localhost:8080/"
        }
      },
      "execution_count": 4,
      "outputs": [
        {
          "output_type": "stream",
          "name": "stdout",
          "text": [
            "3\n",
            "2\n",
            "1\n"
          ]
        }
      ]
    },
    {
      "cell_type": "code",
      "source": [
        "names = [\"Zara\", \"Saba\", \"Gigi\", \"Brea\", \"Abby\", \"Loki\"]\n",
        "short_list = [name for name in names if name[3] == \"a\"]\n",
        "print(short_list)"
      ],
      "metadata": {
        "id": "ro-AnNepxIKF",
        "outputId": "8bec3325-08bd-4948-9ec7-fc6768a23d17",
        "colab": {
          "base_uri": "https://localhost:8080/"
        }
      },
      "execution_count": 5,
      "outputs": [
        {
          "output_type": "stream",
          "name": "stdout",
          "text": [
            "['Zara', 'Saba', 'Brea']\n"
          ]
        }
      ]
    },
    {
      "cell_type": "code",
      "source": [
        "containers = [[2, 2], [3, 3], [4, 4], [5, 5]]\n",
        "index = 0\n",
        "for container in containers:\n",
        "  for item in container:\n",
        "    if index == 3:\n",
        "      print(item)\n",
        "  index = index +1"
      ],
      "metadata": {
        "id": "Ut7BP3E2xp2X",
        "outputId": "49a2c24c-ea10-4a41-ee09-3f766e1c0e16",
        "colab": {
          "base_uri": "https://localhost:8080/"
        }
      },
      "execution_count": 6,
      "outputs": [
        {
          "output_type": "stream",
          "name": "stdout",
          "text": [
            "5\n",
            "5\n"
          ]
        }
      ]
    },
    {
      "cell_type": "code",
      "source": [
        "city = 'Los Angeles'\n",
        "city.find('x')\n",
        "#To insert an element at index 2 in a particular list named names_list\n",
        "names_list = ['Johny', 'James', 'Lily','Emily','Nina']\n",
        "#names_list.insert(2, 'John')\n",
        "print(names_list)\n",
        "#to count the number of times the name 'John' appears in the names_list\n",
        "#names_list.count('John')\n",
        "#names_list = sorted(names_list)\n",
        "#print(names_list)\n",
        "print(names_list[::2])"
      ],
      "metadata": {
        "id": "Axkm_vHBy915",
        "outputId": "8e2f4933-919f-41b4-f62a-4fcedfdb6a55",
        "colab": {
          "base_uri": "https://localhost:8080/"
        }
      },
      "execution_count": 22,
      "outputs": [
        {
          "output_type": "stream",
          "name": "stdout",
          "text": [
            "['Johny', 'James', 'Lily', 'Emily', 'Nina']\n",
            "['Johny', 'Lily', 'Nina']\n"
          ]
        }
      ]
    },
    {
      "cell_type": "code",
      "source": [
        "some_string ='Python'\n",
        "some_string[::-1]\n",
        "#a,b,c,d = some_string\n",
        "#print(a,b,c,d)"
      ],
      "metadata": {
        "id": "hM153aSO001G",
        "outputId": "c97e21b5-d96c-49f3-d413-df6642f4a15f",
        "colab": {
          "base_uri": "https://localhost:8080/",
          "height": 35
        }
      },
      "execution_count": 18,
      "outputs": [
        {
          "output_type": "execute_result",
          "data": {
            "text/plain": [
              "'nohtyP'"
            ],
            "application/vnd.google.colaboratory.intrinsic+json": {
              "type": "string"
            }
          },
          "metadata": {},
          "execution_count": 18
        }
      ]
    },
    {
      "cell_type": "code",
      "source": [
        "names_ages = {'John': 35, 'Jim': 45, 'Alice': 25}\n",
        "updated_names_ages = {'Ella': 29, 'John': 36}\n",
        "#What would the output be if you were to run this code?\n",
        "\n",
        "#names_ages['Tim']\n",
        "#How would you update the names_ages dictionary with the values in updated_names_ages dictionary?\n",
        "names_ages.update(updated_names_ages)\n",
        "print(names_ages)"
      ],
      "metadata": {
        "id": "bUBZ2n2H3lTa",
        "outputId": "0d7cb53e-9eeb-419d-da38-d9ba75f9b238",
        "colab": {
          "base_uri": "https://localhost:8080/"
        }
      },
      "execution_count": 25,
      "outputs": [
        {
          "output_type": "stream",
          "name": "stdout",
          "text": [
            "{'John': 36, 'Jim': 45, 'Alice': 25, 'Ella': 29}\n"
          ]
        }
      ]
    },
    {
      "cell_type": "code",
      "source": [
        "names_ages = [['John', 35], ['Jill', 38], ['Tim', 27]]\n",
        "#How would you access Tim’s age in this nested list?\n",
        "names_ages[2][1]\n",
        "set_1 = {2, 4, 6, 8}\n",
        "set_2 = {1, 2, 5, 6, 7, 8}\n",
        "\n",
        "#What operation would I run to get a result set with all of the elements from both sets?\n",
        "set_1.union(set_2)\n",
        "names_ages = {'John': 35, 'Jim': 45, 'Alice': 25}\n",
        "names_ages['Alice']\n",
        "dict(names_ages)\n",
        "print(type(names_ages))"
      ],
      "metadata": {
        "id": "SloZbK9-4_ty",
        "outputId": "281b90d8-d645-41d7-9e1a-be02776333f8",
        "colab": {
          "base_uri": "https://localhost:8080/"
        }
      },
      "execution_count": 33,
      "outputs": [
        {
          "output_type": "stream",
          "name": "stdout",
          "text": [
            "<class 'dict'>\n"
          ]
        }
      ]
    },
    {
      "cell_type": "code",
      "source": [
        "old_str = 'Hello'\n",
        "new_str = old_str\n",
        "new_str = 'World'\n",
        "print(old_str)\n",
        "print(new_str)\n"
      ],
      "metadata": {
        "id": "kIGECoMERaWU",
        "outputId": "cf16b118-5fd7-42db-f004-1e23d16b01a9",
        "colab": {
          "base_uri": "https://localhost:8080/"
        }
      },
      "execution_count": 8,
      "outputs": [
        {
          "output_type": "stream",
          "name": "stdout",
          "text": [
            "Hello\n",
            "World\n"
          ]
        }
      ]
    },
    {
      "cell_type": "code",
      "source": [
        "import copy\n",
        "tuple_a = (\"John\", \"Amy\", \"Jules\", [\"Jim\", \"Ana\"])\n",
        "deep_copy = copy.deepcopy(tuple_a)\n",
        "print(deep_copy)"
      ],
      "metadata": {
        "id": "mqjUh5ihTJqz",
        "outputId": "41b04c85-ed24-4cca-d01b-e25a6b5b77c3",
        "colab": {
          "base_uri": "https://localhost:8080/"
        }
      },
      "execution_count": 13,
      "outputs": [
        {
          "output_type": "stream",
          "name": "stdout",
          "text": [
            "('John', 'Amy', 'Jules', ['Jim', 'Ana'])\n"
          ]
        }
      ]
    },
    {
      "cell_type": "code",
      "source": [
        "dict_a = {'John': 35, 'Jim': 22, 'Jill': 44}\n",
        "dict_copy = dict_a.copy()\n",
        "dict_copy['John'] = 40\n",
        "print(dict_a)\n",
        "print(dict_copy)"
      ],
      "metadata": {
        "id": "5UaZ4qgnTn51",
        "outputId": "259f559c-d3e6-49c4-b026-43142066cc46",
        "colab": {
          "base_uri": "https://localhost:8080/"
        }
      },
      "execution_count": 10,
      "outputs": [
        {
          "output_type": "stream",
          "name": "stdout",
          "text": [
            "{'John': 35, 'Jim': 22, 'Jill': 44}\n",
            "{'John': 40, 'Jim': 22, 'Jill': 44}\n"
          ]
        }
      ]
    },
    {
      "cell_type": "code",
      "source": [],
      "metadata": {
        "id": "RvSwIiQXUOTL"
      },
      "execution_count": null,
      "outputs": []
    },
    {
      "cell_type": "code",
      "source": [
        "old_list = [\"John\", \"Amy\", \"Jules\"]\n",
        "new_list = old_list.copy()\n",
        "new_list.append('Emily')\n",
        "print(old_list)\n",
        "print(new_list)"
      ],
      "metadata": {
        "id": "2om9m5xDUL7W",
        "outputId": "1b8d0fb0-c999-45ca-fc4d-2e28a3328567",
        "colab": {
          "base_uri": "https://localhost:8080/"
        }
      },
      "execution_count": 11,
      "outputs": [
        {
          "output_type": "stream",
          "name": "stdout",
          "text": [
            "['John', 'Amy', 'Jules']\n",
            "['John', 'Amy', 'Jules', 'Emily']\n"
          ]
        }
      ]
    },
    {
      "cell_type": "code",
      "source": [
        "dict_a = {'John': 35, 'Jim': 22, 'Jill': 44}\n",
        "dict_copy = dict_a\n",
        "dict_copy['John'] = 40\n",
        "del dict_copy['John']\n",
        "print(dict_a)"
      ],
      "metadata": {
        "id": "EvUqxH2iUwZs",
        "outputId": "6f66f635-13b3-4d2c-df4c-e76611d22c42",
        "colab": {
          "base_uri": "https://localhost:8080/"
        }
      },
      "execution_count": 12,
      "outputs": [
        {
          "output_type": "stream",
          "name": "stdout",
          "text": [
            "{'Jim': 22, 'Jill': 44}\n"
          ]
        }
      ]
    },
    {
      "cell_type": "code",
      "source": [
        "old_list = [\"John\", \"Amy\", \"Jules\"]\n",
        "new_list = old_list\n",
        "new_list.append('Emily')\n",
        "print(old_list)\n",
        "print(new_list)"
      ],
      "metadata": {
        "id": "99P4AexsXEai",
        "outputId": "73b01fd7-9529-470d-f4c1-49755ef7c99a",
        "colab": {
          "base_uri": "https://localhost:8080/"
        }
      },
      "execution_count": 14,
      "outputs": [
        {
          "output_type": "stream",
          "name": "stdout",
          "text": [
            "['John', 'Amy', 'Jules', 'Emily']\n",
            "['John', 'Amy', 'Jules', 'Emily']\n"
          ]
        }
      ]
    },
    {
      "cell_type": "code",
      "source": [
        "#Given a list my_list = ['a', 'b', 'c', 'd', 'e'], how would you remove the string 'b' from the list and store it in a variable named my_letter?\n",
        "my_list = ['a', 'b', 'c', 'd', 'e']\n",
        "my_letter = my_list.pop(1)\n",
        "print(my_list)\n",
        "print(my_letter)"
      ],
      "metadata": {
        "id": "occBilh_ftQD",
        "outputId": "11c7917f-a9ab-425f-c992-b1b380dedd83",
        "colab": {
          "base_uri": "https://localhost:8080/"
        }
      },
      "execution_count": 16,
      "outputs": [
        {
          "output_type": "stream",
          "name": "stdout",
          "text": [
            "['a', 'c', 'd', 'e']\n",
            "b\n"
          ]
        }
      ]
    },
    {
      "cell_type": "code",
      "source": [
        "#Would the following code block correctly print out the list tricky with its elements sorted? Why or why not?\n",
        "tricky = [\"c\", \"C\",  65, 197]\n",
        "#how to sort tricky list\n",
        "tricky.sort()\n",
        "print(tricky.sort())"
      ],
      "metadata": {
        "id": "qXatCePJgPkg",
        "outputId": "b5ff9104-7b28-4e04-a05e-c2928e030aa3",
        "colab": {
          "base_uri": "https://localhost:8080/",
          "height": 193
        }
      },
      "execution_count": 19,
      "outputs": [
        {
          "output_type": "error",
          "ename": "TypeError",
          "evalue": "'<' not supported between instances of 'int' and 'str'",
          "traceback": [
            "\u001b[0;31m---------------------------------------------------------------------------\u001b[0m",
            "\u001b[0;31mTypeError\u001b[0m                                 Traceback (most recent call last)",
            "\u001b[0;32m<ipython-input-19-411f7dd89962>\u001b[0m in \u001b[0;36m<cell line: 0>\u001b[0;34m()\u001b[0m\n\u001b[1;32m      2\u001b[0m \u001b[0mtricky\u001b[0m \u001b[0;34m=\u001b[0m \u001b[0;34m[\u001b[0m\u001b[0;34m\"c\"\u001b[0m\u001b[0;34m,\u001b[0m \u001b[0;34m\"C\"\u001b[0m\u001b[0;34m,\u001b[0m  \u001b[0;36m65\u001b[0m\u001b[0;34m,\u001b[0m \u001b[0;36m197\u001b[0m\u001b[0;34m]\u001b[0m\u001b[0;34m\u001b[0m\u001b[0;34m\u001b[0m\u001b[0m\n\u001b[1;32m      3\u001b[0m \u001b[0;31m#how to sort tricky list\u001b[0m\u001b[0;34m\u001b[0m\u001b[0;34m\u001b[0m\u001b[0m\n\u001b[0;32m----> 4\u001b[0;31m \u001b[0mtricky\u001b[0m\u001b[0;34m.\u001b[0m\u001b[0msort\u001b[0m\u001b[0;34m(\u001b[0m\u001b[0;34m)\u001b[0m\u001b[0;34m\u001b[0m\u001b[0;34m\u001b[0m\u001b[0m\n\u001b[0m\u001b[1;32m      5\u001b[0m \u001b[0mprint\u001b[0m\u001b[0;34m(\u001b[0m\u001b[0mtricky\u001b[0m\u001b[0;34m.\u001b[0m\u001b[0msort\u001b[0m\u001b[0;34m(\u001b[0m\u001b[0;34m)\u001b[0m\u001b[0;34m)\u001b[0m\u001b[0;34m\u001b[0m\u001b[0;34m\u001b[0m\u001b[0m\n",
            "\u001b[0;31mTypeError\u001b[0m: '<' not supported between instances of 'int' and 'str'"
          ]
        }
      ]
    },
    {
      "cell_type": "code",
      "source": [
        "drinks = ['smoothie', 'coffee', 'water']\n",
        "additional_drinks = ['juice', 'tea', 'slushie']\n",
        "print(additional_drinks + drinks)"
      ],
      "metadata": {
        "id": "KwdivfzbhpOM",
        "outputId": "64b76c55-bd2b-4bce-b262-091a25ad072a",
        "colab": {
          "base_uri": "https://localhost:8080/"
        }
      },
      "execution_count": 20,
      "outputs": [
        {
          "output_type": "stream",
          "name": "stdout",
          "text": [
            "['juice', 'tea', 'slushie', 'smoothie', 'coffee', 'water']\n"
          ]
        }
      ]
    },
    {
      "cell_type": "code",
      "source": [
        "# add an item to an existing list\n",
        "heights=[64,62,63,71]\n",
        "#add an item to the list heights\n",
        "heights.append(61)\n",
        "print(heights)\n"
      ],
      "metadata": {
        "id": "N1iwSs7-iP6K",
        "outputId": "17e3fb3e-a529-4b5a-e748-8f885ff3b4a5",
        "colab": {
          "base_uri": "https://localhost:8080/"
        }
      },
      "execution_count": 23,
      "outputs": [
        {
          "output_type": "stream",
          "name": "stdout",
          "text": [
            "[64, 62, 63, 71, 61]\n"
          ]
        }
      ]
    }
  ],
  "metadata": {
    "colab": {
      "provenance": []
    },
    "kernelspec": {
      "display_name": "Python 3",
      "name": "python3"
    },
    "language_info": {
      "name": "python"
    }
  },
  "nbformat": 4,
  "nbformat_minor": 0
}