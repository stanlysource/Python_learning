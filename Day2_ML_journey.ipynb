{
  "cells": [
    {
      "cell_type": "code",
      "execution_count": null,
      "metadata": {
        "colab": {
          "base_uri": "https://localhost:8080/"
        },
        "id": "HpmbKqI7jltH",
        "outputId": "0ec1bf68-5f68-4ec7-f746-ea081ec8cab5"
      },
      "outputs": [
        {
          "name": "stdout",
          "output_type": "stream",
          "text": [
            "hello world\n"
          ]
        }
      ],
      "source": [
        "print(\"hello world\")"
      ]
    },
    {
      "cell_type": "code",
      "execution_count": null,
      "metadata": {
        "id": "34ZbDQBAxLWX",
        "colab": {
          "base_uri": "https://localhost:8080/",
          "height": 52
        },
        "outputId": "4af1ee92-ed35-45da-a7b6-81b8ca670677"
      },
      "outputs": [
        {
          "name": "stdout",
          "output_type": "stream",
          "text": [
            "enter a number12\n"
          ]
        },
        {
          "output_type": "execute_result",
          "data": {
            "text/plain": [
              "'12'"
            ],
            "application/vnd.google.colaboratory.intrinsic+json": {
              "type": "string"
            }
          },
          "metadata": {},
          "execution_count": 1
        }
      ],
      "source": [
        "input(\"enter a number\")"
      ]
    },
    {
      "cell_type": "code",
      "source": [
        "#Day 9 COPY--> 1. Shallow COPY and 2. DEEP COPY\n",
        "#l2 is referencing l1\n",
        "l1=[10,20,30,40]\n",
        "l2=l1\n",
        "print(l1)\n",
        "print(l2)\n",
        "l1[0]=100\n",
        "print(l1)\n",
        "print(l2)"
      ],
      "metadata": {
        "colab": {
          "base_uri": "https://localhost:8080/"
        },
        "id": "nSqt3ZpUTU3G",
        "outputId": "b3965fb1-7bea-4741-a2bd-a5bb14e12175"
      },
      "execution_count": null,
      "outputs": [
        {
          "output_type": "stream",
          "name": "stdout",
          "text": [
            "[10, 20, 30, 40]\n",
            "[10, 20, 30, 40]\n",
            "[100, 20, 30, 40]\n",
            "[100, 20, 30, 40]\n"
          ]
        }
      ]
    },
    {
      "cell_type": "code",
      "source": [
        "#shallow copy\n",
        "\"\"\"A shallow copy constructs a new compound object and then (to the\n",
        "  extent possible) inserts *the same objects* into it that the\n",
        "  original contains.\n",
        "\n",
        "\"\"\"\n",
        "import copy\n",
        "l1=[[10,20,30,40],[100,200],[1000,'a']]\n",
        "print('print l1 :' + str(l1))\n",
        "print('print id(l1) : ' + str(id(l1)))\n",
        "l2=copy.copy(l1)\n",
        "print('print l2 : '+ str(l2))\n",
        "print('print id(l2)'+ str(id(l2)))\n",
        "print('print id(l1) '+ str(id(l1)))\n",
        "print('print id(l2[0])'+ str(id(l2[0])))\n",
        "print('print id(l1[0])' + str(id(l1[0])))\n",
        "\n",
        "l1[0]=50\n",
        "print('print l1 '+ str(l1))\n",
        "print('print l2: ' + str(l2))"
      ],
      "metadata": {
        "colab": {
          "base_uri": "https://localhost:8080/"
        },
        "id": "RNvd6Tg7VIiC",
        "outputId": "9bc894e4-b651-42a3-eed4-5745e87f8b51"
      },
      "execution_count": null,
      "outputs": [
        {
          "output_type": "stream",
          "name": "stdout",
          "text": [
            "print l1 :[[10, 20, 30, 40], [100, 200], [1000, 'a']]\n",
            "print id(l1) : 139123673592192\n",
            "print l2 : [[10, 20, 30, 40], [100, 200], [1000, 'a']]\n",
            "print id(l2)139123673687168\n",
            "print id(l1) 139123673592192\n",
            "print id(l2[0])139123673824576\n",
            "print id(l1[0])139123673824576\n",
            "print l1 [50, [100, 200], [1000, 'a']]\n",
            "print l2: [[10, 20, 30, 40], [100, 200], [1000, 'a']]\n"
          ]
        }
      ]
    },
    {
      "cell_type": "code",
      "source": [],
      "metadata": {
        "id": "TxJo_p2tcJcK"
      },
      "execution_count": null,
      "outputs": []
    },
    {
      "cell_type": "code",
      "source": [
        "#Deep copy\n",
        "\"\"\"- A deep copy constructs a new compound object and then, recursively,\n",
        "  inserts *copies* into it of the objects found in the original.\n",
        "\n",
        "Two problems often exist with deep copy operations that don't exist\n",
        "with shallow copy operations:\n",
        "\n",
        " a) recursive objects (compound objects that, directly or indirectly,\n",
        "    contain a reference to themselves) may cause a recursive loop\n",
        "\n",
        " b) because deep copy copies *everything* it may copy too much, e.g.\n",
        "    administrative data structures that should be shared even between\n",
        "    copies\n",
        "\n",
        "Python's deep copy operation avoids these problems by:\n",
        "\n",
        " a) keeping a table of objects already copied during the current\n",
        "    copying pass\n",
        "\n",
        " b) letting user-defined classes override the copying operation or the\n",
        "    set of components copied\n",
        "\n",
        "This version does not copy types like module, class, function, method,\n",
        "nor stack trace, stack frame, nor file, socket, window, nor any\n",
        "similar types.\n",
        "\n",
        "Classes can use the same interfaces to control copying that they use\n",
        "to control pickling: they can define methods called __getinitargs__(),\n",
        "__getstate__() and __setstate__().  See the documentation for module\n",
        "\"pickle\" for information on these methods. \"\"\"\n",
        "\n",
        "import copy\n",
        "x1=[[10,20,30,40],[100,200],[1000,'a']]\n",
        "print('print x1 :'+ str(x1))\n",
        "print('print id(x1) :'+ str(id(x1)))\n",
        "x2=copy.deepcopy(x1)\n",
        "print('print x2 :'+ str(x2))\n",
        "print('print id(x2) :'+ str(id(x2)))\n",
        "print('print id(x1) :'+ str(id(x1)))\n",
        "print('print id(x2[0]) :'+ str(id(x2[0])))\n",
        "print('print id(x1[0]) :'+ str(id(x1[0])))"
      ],
      "metadata": {
        "colab": {
          "base_uri": "https://localhost:8080/"
        },
        "id": "uWQeTplgTWXR",
        "outputId": "bacdcc7e-f448-4b91-f743-4d55e100eb6e"
      },
      "execution_count": null,
      "outputs": [
        {
          "output_type": "stream",
          "name": "stdout",
          "text": [
            "print x1 :[[10, 20, 30, 40], [100, 200], [1000, 'a']]\n",
            "print id(x1) :139123673583232\n",
            "print x2 :[[10, 20, 30, 40], [100, 200], [1000, 'a']]\n",
            "print id(x2) :139123673683072\n",
            "print id(x1) :139123673583232\n",
            "print id(x2[0]) :139123673583296\n",
            "print id(x1[0]) :139123673589952\n"
          ]
        }
      ]
    },
    {
      "cell_type": "code",
      "source": [
        "#Union of Sets\n",
        "s1={10,20,30,40}\n",
        "s2={30,40,50,60}\n",
        "print(s1|s2)\n",
        "s3=s1.union(s2)\n",
        "print(s3)\n"
      ],
      "metadata": {
        "id": "QtCb3fdP7BXz",
        "outputId": "26b73c9d-0f55-410b-90da-c41e46f4a642",
        "colab": {
          "base_uri": "https://localhost:8080/"
        }
      },
      "execution_count": null,
      "outputs": [
        {
          "output_type": "stream",
          "name": "stdout",
          "text": [
            "{40, 10, 50, 20, 60, 30}\n",
            "{40, 10, 50, 20, 60, 30}\n"
          ]
        }
      ]
    },
    {
      "cell_type": "code",
      "source": [
        "#Intersection of Sets\n",
        "s1={10,20,30,40}\n",
        "s2={30,40,50,60}\n",
        "print(s1&s2)\n",
        "s3=s1.intersection(s2)\n",
        "print(s3)"
      ],
      "metadata": {
        "id": "rSx1rNc_7PxG",
        "outputId": "2a0e7771-a5e5-47a2-89c0-3e36b9a82f9e",
        "colab": {
          "base_uri": "https://localhost:8080/"
        }
      },
      "execution_count": null,
      "outputs": [
        {
          "output_type": "stream",
          "name": "stdout",
          "text": [
            "{40, 30}\n",
            "{40, 30}\n"
          ]
        }
      ]
    },
    {
      "cell_type": "code",
      "source": [
        "#Difference of sets\n",
        "s1={10,20,30,40}\n",
        "s2={30,40,50,60}\n",
        "print(s1-s2)\n",
        "s3=s1.difference(s2)\n",
        "print(s3)"
      ],
      "metadata": {
        "id": "K9BX-gRo7zlg",
        "outputId": "42495e04-de7c-47d0-a7c9-718f4afaf8cb",
        "colab": {
          "base_uri": "https://localhost:8080/"
        }
      },
      "execution_count": null,
      "outputs": [
        {
          "output_type": "stream",
          "name": "stdout",
          "text": [
            "{10, 20}\n",
            "{10, 20}\n"
          ]
        }
      ]
    },
    {
      "cell_type": "code",
      "source": [
        "#frozen set - The set becomes immutable, you will not be able to add / update the frosen set.\n",
        "s1={10,20,30,40}\n",
        "s2={30,40,50,60}\n",
        "s3=frozenset(s1)\n",
        "s4=frozenset(s2)\n",
        "print(s3)\n",
        "print(type(s3))"
      ],
      "metadata": {
        "id": "PJecJ8zU8BnY",
        "outputId": "da9512fd-46a9-42d8-c4fc-2a0e7cddd7f7",
        "colab": {
          "base_uri": "https://localhost:8080/"
        }
      },
      "execution_count": null,
      "outputs": [
        {
          "output_type": "stream",
          "name": "stdout",
          "text": [
            "frozenset({40, 10, 20, 30})\n",
            "<class 'frozenset'>\n"
          ]
        }
      ]
    },
    {
      "cell_type": "code",
      "source": [
        "#Extent list\n",
        "my_list=[10,20,30,40]\n",
        "my_list.extend([50,60])\n",
        "print(my_list)\n",
        "print(my_list[1:3])\n",
        "#Append list\n",
        "my_list.append([70,80])\n",
        "print(my_list)\n",
        "#Pop - to remove a value from a list by its index\n",
        "my_list.pop(3)\n",
        "print(my_list)\n",
        "#Insert - To add value to a list at a specific Index\n",
        "#syntaxt list.insert(index,value)\n",
        "my_list.insert(3,100)\n",
        "print(my_list)\n",
        "#To remove a value from a list\n",
        "my_list.remove(100)\n",
        "print(my_list)\n",
        "#To sort the list\n",
        "#my_list.sort()\n",
        "#print(my_list)\n",
        "#\n",
        "print('the list')\n",
        "print(my_list[::-1])\n",
        "\n",
        "\n",
        "#To reverse the list elements\n",
        "my_list.reverse()\n",
        "print(my_list)\n",
        "#To clear the list elements\n",
        "my_list.clear()\n",
        "print(my_list)"
      ],
      "metadata": {
        "id": "81tTYsWJ80Cv",
        "outputId": "786079ba-d98c-4e36-e3f7-1c6e00ea2cdb",
        "colab": {
          "base_uri": "https://localhost:8080/"
        }
      },
      "execution_count": null,
      "outputs": [
        {
          "output_type": "stream",
          "name": "stdout",
          "text": [
            "[10, 20, 30, 40, 50, 60]\n",
            "[20, 30]\n",
            "[10, 20, 30, 40, 50, 60, [70, 80]]\n",
            "[10, 20, 30, 50, 60, [70, 80]]\n",
            "[10, 20, 30, 100, 50, 60, [70, 80]]\n",
            "[10, 20, 30, 50, 60, [70, 80]]\n",
            "the list\n",
            "[[70, 80], 60, 50, 30, 20, 10]\n",
            "[[70, 80], 60, 50, 30, 20, 10]\n",
            "[]\n"
          ]
        }
      ]
    },
    {
      "cell_type": "code",
      "source": [
        "#create a function with parameters and with return value\n",
        "def add(a, b):\n",
        "  c=int(a)+int(b)\n",
        "  return c\n",
        "print(\"Call a parametered function\")\n",
        "a= int(input(\"enter number a \"))\n",
        "b= int(input(\"enter number b \"))\n",
        "c= add(a, b)\n",
        "print(\"Sum of number a \"+str(a)+\" and b \"+str(b)+\" is \"+str(c))\n"
      ],
      "metadata": {
        "colab": {
          "base_uri": "https://localhost:8080/"
        },
        "id": "rOhqpjqDEb0n",
        "outputId": "a6ccf17d-a34f-485d-9f76-192bc13040e4"
      },
      "execution_count": null,
      "outputs": [
        {
          "output_type": "stream",
          "name": "stdout",
          "text": [
            "Call a parametered function\n",
            "enter number a 10\n",
            "enter number b 20\n",
            "Sum of number a 10 and b 20 is 30\n"
          ]
        }
      ]
    },
    {
      "cell_type": "code",
      "source": [
        "#validate is the input is an integer\n",
        "def get_integer_input(prompt):\n",
        "  \"\"\"Prompts the user for input until a valid integer is entered.\"\"\"\n",
        "  while True:\n",
        "    try:\n",
        "      value = int(input(prompt))\n",
        "      return value\n",
        "    except ValueError:\n",
        "      print(\"Invalid input. Please enter an integer.\")\n",
        "#an add function to sum two numbers\n",
        "def add(a, b):\n",
        "  c=int(a)+int(b)\n",
        "  return c\n",
        "\n",
        "def test(a, b, c, d):\n",
        "  return a, b, c, d\n",
        "\n",
        "a = get_integer_input(\"Please enter a number a: \")\n",
        "print(f\"You entered: {a}\")\n",
        "b = get_integer_input(\"Please enter a number b: \")\n",
        "print(f\"You entered: {b}\")\n",
        "c= add(a, b)\n",
        "print(\"Sum of number a \"+str(a)+\" and b \"+str(b)+\" is \"+str(c))\n",
        "\n",
        "#mutiple values are returned in a tuple\n",
        "x = test(1, 2, 3, 4)\n",
        "print(x)\n",
        "print(type(x))\n"
      ],
      "metadata": {
        "colab": {
          "base_uri": "https://localhost:8080/"
        },
        "id": "C1k5bLu4Ggwu",
        "outputId": "04d74f84-5a5b-472d-eb24-9cb902e5b4de"
      },
      "execution_count": null,
      "outputs": [
        {
          "output_type": "stream",
          "name": "stdout",
          "text": [
            "Please enter a number a: 12\n",
            "You entered: 12\n",
            "Please enter a number b: 45\n",
            "You entered: 45\n",
            "Sum of number a 12 and b 45 is 57\n",
            "(1, 2, 3, 4)\n",
            "<class 'tuple'>\n"
          ]
        }
      ]
    },
    {
      "cell_type": "code",
      "source": [
        "#create a function with parameters and without return value\n",
        "def add(a, b):\n",
        "  c=int(a)+int(b)\n",
        "  print(\"Sum of number a \"+str(a)+\" and b \"+str(b)+\" is \"+str(c))\n",
        "a= input(\"enter number a \")\n",
        "b= input(\"enter number b \")\n",
        "add(a,b)"
      ],
      "metadata": {
        "colab": {
          "base_uri": "https://localhost:8080/"
        },
        "id": "YZkLSyzuHh--",
        "outputId": "9a8f8d05-2872-409b-a3d8-6416c8a5f670"
      },
      "execution_count": null,
      "outputs": [
        {
          "output_type": "stream",
          "name": "stdout",
          "text": [
            "enter number a 12\n",
            "enter number b 14\n",
            "Sum of number a 12 and b 14 is 26\n"
          ]
        }
      ]
    },
    {
      "cell_type": "code",
      "source": [
        "#create a function without parameters and with return value\n",
        "def add():\n",
        "  a= int(input(\"enter number a \"))\n",
        "  b= int(input(\"enter number b \"))\n",
        "  c=a+b\n",
        "  return c\n",
        "c= add()\n",
        "print(\"Sum of number a \"+str(a)+\" and b \"+str(b)+\" is \"+str(c))\n",
        "\n",
        "def test1():\n",
        "  l1= (10,20,30,40)\n",
        "  t1= (100,200,300,400)\n",
        "  return l1, t1\n",
        "x = test1()\n",
        "print(x)\n",
        "print(type(x))"
      ],
      "metadata": {
        "colab": {
          "base_uri": "https://localhost:8080/"
        },
        "id": "r7ZgQuz5H4zN",
        "outputId": "33915c67-1184-46bd-e9ba-cdfc046c0a1d"
      },
      "execution_count": null,
      "outputs": [
        {
          "output_type": "stream",
          "name": "stdout",
          "text": [
            "enter number a 23\n",
            "enter number b 53\n",
            "Sum of number a 12 and b 45 is 76\n",
            "((10, 20, 30, 40), (100, 200, 300, 400))\n",
            "<class 'tuple'>\n"
          ]
        }
      ]
    },
    {
      "cell_type": "code",
      "source": [
        "#create a function without parameters and without return value\n",
        "def add():\n",
        "  a= int(input(\"enter number a \"))\n",
        "  b= int(input(\"enter number b \"))\n",
        "  c=a+b\n",
        "  print(\"Sum of number a \"+str(a)+\" and b \"+str(b)+\" is \"+str(c))\n",
        "  print(type(c))\n",
        "add()\n"
      ],
      "metadata": {
        "colab": {
          "base_uri": "https://localhost:8080/"
        },
        "id": "X4swON-KINCF",
        "outputId": "cd424a11-fee6-46a1-8703-8f40c7aaf1e5"
      },
      "execution_count": null,
      "outputs": [
        {
          "output_type": "stream",
          "name": "stdout",
          "text": [
            "enter number a 23\n",
            "enter number b 34\n",
            "Sum of number a 23 and b 34 is 57\n",
            "<class 'int'>\n"
          ]
        }
      ]
    },
    {
      "cell_type": "code",
      "source": [
        "def test2(a,b,c,d):\n",
        "  return a,b,c,d\n",
        "x,y= test2(1,2,3,4)[1:3]\n",
        "print(x)\n",
        "print(type(x))\n",
        "print(y)\n",
        "print(type(y))"
      ],
      "metadata": {
        "colab": {
          "base_uri": "https://localhost:8080/"
        },
        "id": "YjPbYStcJ0Mn",
        "outputId": "77c61ee2-703f-48bd-dbf3-7b593f9c0ab6"
      },
      "execution_count": null,
      "outputs": [
        {
          "output_type": "stream",
          "name": "stdout",
          "text": [
            "2\n",
            "<class 'int'>\n",
            "3\n",
            "<class 'int'>\n"
          ]
        }
      ]
    },
    {
      "cell_type": "code",
      "source": [
        "def test3(a,b,c,d):\n",
        "  return a,b,c,d\n",
        "_,val2,_,val4=(10,20,30,40)\n",
        "print(val2,val4)"
      ],
      "metadata": {
        "colab": {
          "base_uri": "https://localhost:8080/"
        },
        "id": "_fy7-_veLp8B",
        "outputId": "24db5c54-2adb-45a9-c0cc-d64723360b2d"
      },
      "execution_count": null,
      "outputs": [
        {
          "output_type": "stream",
          "name": "stdout",
          "text": [
            "20 40\n"
          ]
        }
      ]
    },
    {
      "cell_type": "code",
      "source": [
        "#create a function without parameters and with return value\n",
        "def add():\n",
        "  a= int(input(\"enter number a \"))\n",
        "  b= int(input(\"enter number b \"))\n",
        "  c=a+b\n",
        "  return c\n",
        "c= add()\n",
        "print('sum of the numbers:' +str(c))1"
      ],
      "metadata": {
        "colab": {
          "base_uri": "https://localhost:8080/"
        },
        "id": "v7GAv0ibaI8P",
        "outputId": "acffeb0e-e4f3-420e-d5e9-ec9369584c9c"
      },
      "execution_count": null,
      "outputs": [
        {
          "output_type": "stream",
          "name": "stdout",
          "text": [
            "enter number a 12\n",
            "enter number b 4\n",
            "sum of the numbers:16\n"
          ]
        }
      ]
    },
    {
      "cell_type": "code",
      "source": [
        "def test1():\n",
        "  print('test1 start')\n",
        "  test2()\n",
        "  print('test1 end')\n",
        "def test2():\n",
        "  print('test2 start')\n",
        "  print('test 2 end')\n",
        "\n",
        "test1()"
      ],
      "metadata": {
        "colab": {
          "base_uri": "https://localhost:8080/"
        },
        "id": "hi9wYJ3naY82",
        "outputId": "916e1999-7e38-469d-d461-92c8014bbe82"
      },
      "execution_count": null,
      "outputs": [
        {
          "output_type": "stream",
          "name": "stdout",
          "text": [
            "test1 start\n",
            "test2 start\n",
            "test 2 end\n",
            "test1 end\n"
          ]
        }
      ]
    },
    {
      "cell_type": "code",
      "source": [
        "#Local Variable and its scope\n",
        "def test1():\n",
        "  x=10\n",
        "  x=x+1\n",
        "  print(x)\n",
        "#Since it is local variable, for both the function callings, the x will bear the value (10+1) = 11.\n",
        "test1()\n",
        "test1()"
      ],
      "metadata": {
        "colab": {
          "base_uri": "https://localhost:8080/"
        },
        "id": "JKM094s9kpMk",
        "outputId": "71ac8e4f-75df-4d05-94bc-83de16e633dc"
      },
      "execution_count": null,
      "outputs": [
        {
          "output_type": "stream",
          "name": "stdout",
          "text": [
            "11\n",
            "11\n"
          ]
        }
      ]
    },
    {
      "cell_type": "code",
      "source": [
        "#global variable\n",
        "n=10\n",
        "def test2():\n",
        "  n=5\n",
        "  print(n)#prints the local variable value. Since this call is inside the function test2()\n",
        "\n",
        "test2()\n",
        "print(n)#prints the value of the global variable. Since the local variable scope ended in the function test2() itselft\n"
      ],
      "metadata": {
        "colab": {
          "base_uri": "https://localhost:8080/"
        },
        "id": "d89Jd7FwmTFb",
        "outputId": "ce2761b2-81c6-4a54-dc79-ec6124a517e5"
      },
      "execution_count": null,
      "outputs": [
        {
          "output_type": "stream",
          "name": "stdout",
          "text": [
            "5\n",
            "10\n"
          ]
        }
      ]
    },
    {
      "cell_type": "code",
      "source": [
        "n=20 # global variable\n",
        "def test3():\n",
        "  global n # the glbal keyword lets the funciton call the global variable and make changes to its value.\n",
        "  n=n+1\n",
        "  print(n)\n",
        "\n",
        "test3()\n",
        "test3()\n",
        "print(type(test3)) #shows the type.\n",
        "print(test3) # shows the memory location"
      ],
      "metadata": {
        "colab": {
          "base_uri": "https://localhost:8080/"
        },
        "id": "Og_3SZGun4Wm",
        "outputId": "3c3580cc-1092-4905-cf44-879c59d5bb25"
      },
      "execution_count": null,
      "outputs": [
        {
          "output_type": "stream",
          "name": "stdout",
          "text": [
            "21\n",
            "22\n",
            "<class 'function'>\n",
            "<function test3 at 0x7d5455dae520>\n"
          ]
        }
      ]
    },
    {
      "cell_type": "code",
      "source": [],
      "metadata": {
        "id": "IEdW2RTXVOcX"
      },
      "execution_count": null,
      "outputs": []
    },
    {
      "cell_type": "code",
      "source": [
        "def multiplier_factory(factor):\n",
        "  \"\"\"Returns a function that multiplies its argument by the given factor.\"\"\"\n",
        "  def multiplier(number):\n",
        "    \"\"\"Nested function Multiplies its argument by the given factor.\"\"\"\n",
        "    return number * factor\n",
        "  return multiplier\n",
        "#create a function that multiplies by 2\n",
        "multiply_by_2 = multiplier_factory(2)\n",
        "#create a function that multiplies by 3\n",
        "multiply_by_3 = multiplier_factory(3)\n",
        "#use the created function\n",
        "result1 = multiply_by_2(5)\n",
        "result2 = multiply_by_3(5)\n",
        "print(result1)  # Output: 10\n",
        "print(result2)  # Output: 15\n",
        "print (multiply_by_2(5))  # Output: 10\n",
        "print (multiply_by_3(5))  # Output: 15"
      ],
      "metadata": {
        "colab": {
          "base_uri": "https://localhost:8080/"
        },
        "id": "d7ft8omoq2dR",
        "outputId": "6bd9fe11-3082-4e2a-e22e-5fc5dc2e95af"
      },
      "execution_count": null,
      "outputs": [
        {
          "output_type": "stream",
          "name": "stdout",
          "text": [
            "10\n",
            "15\n",
            "10\n",
            "15\n"
          ]
        }
      ]
    },
    {
      "cell_type": "code",
      "source": [
        "#required arguments\n",
        "#keyword arguments and positional argument\n",
        "#default arguments\n",
        "#variable length arguments -- Variable length positional argument(tuple) and Variable length keyword arguments(dictionary)\n",
        "def fun1(name, age, city):\n",
        "  print('my name is:', name, 'age is ', age,'city is:', city)\n",
        "def power(num,p=2):#Default argument\n",
        "  return num**p\n",
        "\n",
        "def sum(*a): #variable length positional args is referenced with '*' before the argument.\n",
        "  result=0\n",
        "  for i in a:\n",
        "    result=result+i\n",
        "  print(result)\n",
        "\n",
        "def addtion(**a): #variable length keyword args is referenced with '**' before the argument.\n",
        "  s=0\n",
        "  for i in a.values():\n",
        "    s=s+i\n",
        "  print(s)\n",
        "\n",
        "fun1('stanly',40,'chennai')#required arguments\n",
        "fun1(age=40,name='stanly',city='chennai')#Keyword arguments\n",
        "#positional argument and then Keyword argument\n",
        "fun1('stanly',40,city='chennai')#Positional arguments. The order of the positional arguments first and then Keyword arguments should follow.\n",
        "print(power(5)) # the default parameter for the p(power is 2) which is set in the function itself. if the value is not given, it will consider that default value.\n",
        "print(power(5,3)) #here the default value will be overridden by the value given here\n",
        "sum(10,20) #variable length positional args - it is going to loop through the number of arguments and get that calculated as defined.\n",
        "sum(10,20,30,40)\n",
        "addtion(a=10,b=20,c=30) #variable length keyword args\n"
      ],
      "metadata": {
        "colab": {
          "base_uri": "https://localhost:8080/"
        },
        "id": "7la7jXSevp_G",
        "outputId": "2f5bd4c1-1cfe-4719-aa9e-fff6ed73ea6a"
      },
      "execution_count": null,
      "outputs": [
        {
          "output_type": "stream",
          "name": "stdout",
          "text": [
            "my name is: stanly age is  40 city is: chennai\n",
            "my name is: stanly age is  40 city is: chennai\n",
            "my name is: stanly age is  40 city is: chennai\n",
            "25\n",
            "125\n",
            "30\n",
            "100\n",
            "60\n"
          ]
        }
      ]
    },
    {
      "cell_type": "code",
      "source": [
        "#variable argument - variable positional and keyword arguments\n",
        "def add(*tuple_args,**dictionary_args):\n",
        "  #print(sum(tuple_args))\n",
        "  #print(sum(dictionary_args.values()))\n",
        "  print(tuple_args)\n",
        "  print(dictionary_args)\n",
        "  print(type(tuple_args))\n",
        "  print(type(dictionary_args))\n",
        "\n",
        "add(10,20,30,a=100,b=200)"
      ],
      "metadata": {
        "id": "SaN8TsVJf-rA",
        "outputId": "fd174f3c-8779-4052-c553-3e78ea5c34e4",
        "colab": {
          "base_uri": "https://localhost:8080/"
        }
      },
      "execution_count": null,
      "outputs": [
        {
          "output_type": "stream",
          "name": "stdout",
          "text": [
            "(10, 20, 30)\n",
            "{'a': 100, 'b': 200}\n",
            "<class 'tuple'>\n",
            "<class 'dict'>\n"
          ]
        }
      ]
    },
    {
      "cell_type": "code",
      "source": [
        "#arguments and its order\n",
        "def students(name, course, *parents_name, age, school=\"AAC\",**marks):\n",
        "  print('name: ', name)\n",
        "  print('class: ', course)\n",
        "  print('parents_name: ', parents_name)\n",
        "  print('age: ', age)\n",
        "  print('school: ', school)\n",
        "  print('marks: ', marks)\n",
        "  print(type(marks))\n",
        "\n",
        "students('Stanly','MCA','Stephen','Ispirith',age=40,cs=89,maths=75,acc=59,eng=69,tamil=83)\n"
      ],
      "metadata": {
        "id": "LeKXkCievOkf",
        "outputId": "6b1d56be-04fc-4cc4-d497-ddcf6f717523",
        "colab": {
          "base_uri": "https://localhost:8080/"
        }
      },
      "execution_count": null,
      "outputs": [
        {
          "output_type": "stream",
          "name": "stdout",
          "text": [
            "name:  Stanly\n",
            "class:  MCA\n",
            "parents_name:  ('Stephen', 'Ispirith')\n",
            "age:  40\n",
            "school:  AAC\n",
            "marks:  {'cs': 89, 'maths': 75, 'acc': 59, 'eng': 69, 'tamil': 83}\n",
            "<class 'dict'>\n"
          ]
        }
      ]
    },
    {
      "cell_type": "code",
      "source": [
        "#class in Python\n",
        "class calculator:\n",
        "  a=0 #attributes\n",
        "  b=0\n",
        "  result=0\n",
        "  def __init__(self,a,b): #Methods\n",
        "    self.a=a\n",
        "    self.b=b\n",
        "    self.result=0\n",
        "  def add(self,a,b):\n",
        "    self.result=self.a+self.b\n",
        "    print('addition of two numbers a and b is:',self.result)\n",
        "    pass\n",
        "  def sub(self,a,b):\n",
        "    self.result=self.a-self.b\n",
        "    print('subtraction of two numbers a and b is :', self.result)\n",
        "    pass\n",
        "  def mul(self, a, b):\n",
        "    self.result=self.a*self.b\n",
        "    print('multiplication of two numbers a and b is: ', self.result)\n",
        "    pass\n",
        "  def div(self,a,b):\n",
        "    self.result=self.a/self.b\n",
        "    print('division of two numbers a and b is:', self.result)\n",
        "    pass\n",
        "\n",
        "s= calculator(10,20) #object creation.\n",
        "s.add(10,20)\n",
        "s.sub(10,20)\n",
        "s.mul(10,20)\n",
        "s.div(10,20)\n",
        ""
      ],
      "metadata": {
        "colab": {
          "base_uri": "https://localhost:8080/"
        },
        "id": "t1QROZCZVQTD",
        "outputId": "fddd339a-bb16-459e-8f1f-781b6120f9d1"
      },
      "execution_count": 16,
      "outputs": [
        {
          "output_type": "stream",
          "name": "stdout",
          "text": [
            "addition of two numbers a and b is: 30\n",
            "subtraction of two numbers a and b is : -10\n",
            "multiplication of two numbers a and b is:  200\n",
            "division of two numbers a and b is: 0.5\n"
          ]
        }
      ]
    },
    {
      "cell_type": "code",
      "source": [
        "#sample calculator class in python\n",
        "class calc:\n",
        "  a=0 #attributes\n",
        "  b=0\n",
        "  result=0\n",
        "  def __init__(self): #Methods\n",
        "    self.a=0\n",
        "    self.b=0\n",
        "    self.result=0\n",
        "  \"\"\"def get_integer_input(prompt):\n",
        "  #Prompts the user for input until a valid integer is entered.\n",
        "    while True:\n",
        "      try:\n",
        "        value = int(input(prompt))\n",
        "        return value\n",
        "      except ValueError:\n",
        "        print(\"Invalid input. Please enter an integer.\")\"\"\"\n",
        "  def getnumbers(self):\n",
        "    self.a=int(input(\"enter a number a: \")) #get_integer_input(\"enter number a: \")\n",
        "    self.b=int(input(\"enter a number b: \")) #get_integer_input(\"enter number b: \")\n",
        "  def add(self):\n",
        "    self.result=self.a+self.b\n",
        "    print('addition of two numbers a and b is:',self.result)\n",
        "    pass\n",
        "  def sub(self):\n",
        "    self.result=self.a-self.b\n",
        "    print('subtraction of two numbers a and b is :', self.result)\n",
        "    pass\n",
        "  def mul(self):\n",
        "    self.result=self.a*self.b\n",
        "    print('multiplication of two numbers a and b is: ', self.result)\n",
        "    pass\n",
        "  def div(self):\n",
        "    self.result=self.a/self.b\n",
        "    print('division of two numbers a and b is:', self.result)\n",
        "    pass\n",
        "\n",
        "c= calc() #object creation.\n",
        "c.getnumbers()\n",
        "c.add()\n",
        "c.sub()\n",
        "c.mul()\n",
        "c.div()"
      ],
      "metadata": {
        "colab": {
          "base_uri": "https://localhost:8080/"
        },
        "id": "n9gedM6WgtRh",
        "outputId": "79bb022d-dc59-4d6b-dd7a-acde4b97041f"
      },
      "execution_count": 21,
      "outputs": [
        {
          "output_type": "stream",
          "name": "stdout",
          "text": [
            "enter a number a: 43\n",
            "enter a number b: 12\n",
            "addition of two numbers a and b is: 55\n",
            "subtraction of two numbers a and b is : 31\n",
            "multiplication of two numbers a and b is:  516\n",
            "division of two numbers a and b is: 3.5833333333333335\n"
          ]
        }
      ]
    },
    {
      "cell_type": "code",
      "source": [
        "class father:\n",
        "  def __init__(self):\n",
        "    print('father class constructor')\n",
        "    self.vechicle =\"scooter\"\n",
        "class son(father):\n",
        "  self.vechicle=\"bmw\"\n",
        "\n",
        "s= son()\n",
        "print(s.__dict__)"
      ],
      "metadata": {
        "colab": {
          "base_uri": "https://localhost:8080/",
          "height": 332
        },
        "id": "ltq7z_RumYXC",
        "outputId": "fe71e3d1-b09a-4d1e-dcaf-3046d160a0a3"
      },
      "execution_count": 1,
      "outputs": [
        {
          "output_type": "error",
          "ename": "NameError",
          "evalue": "name 'self' is not defined",
          "traceback": [
            "\u001b[0;31m---------------------------------------------------------------------------\u001b[0m",
            "\u001b[0;31mNameError\u001b[0m                                 Traceback (most recent call last)",
            "\u001b[0;32m<ipython-input-1-acddd4be698a>\u001b[0m in \u001b[0;36m<cell line: 0>\u001b[0;34m()\u001b[0m\n\u001b[1;32m      3\u001b[0m     \u001b[0mprint\u001b[0m\u001b[0;34m(\u001b[0m\u001b[0;34m'father class constructor'\u001b[0m\u001b[0;34m)\u001b[0m\u001b[0;34m\u001b[0m\u001b[0;34m\u001b[0m\u001b[0m\n\u001b[1;32m      4\u001b[0m     \u001b[0mself\u001b[0m\u001b[0;34m.\u001b[0m\u001b[0mvechicle\u001b[0m \u001b[0;34m=\u001b[0m\u001b[0;34m\"scooter\"\u001b[0m\u001b[0;34m\u001b[0m\u001b[0;34m\u001b[0m\u001b[0m\n\u001b[0;32m----> 5\u001b[0;31m \u001b[0;32mclass\u001b[0m \u001b[0mson\u001b[0m\u001b[0;34m(\u001b[0m\u001b[0mfather\u001b[0m\u001b[0;34m)\u001b[0m\u001b[0;34m:\u001b[0m\u001b[0;34m\u001b[0m\u001b[0;34m\u001b[0m\u001b[0m\n\u001b[0m\u001b[1;32m      6\u001b[0m   \u001b[0mself\u001b[0m\u001b[0;34m.\u001b[0m\u001b[0mvechicle\u001b[0m\u001b[0;34m=\u001b[0m\u001b[0;34m\"bmw\"\u001b[0m\u001b[0;34m\u001b[0m\u001b[0;34m\u001b[0m\u001b[0m\n\u001b[1;32m      7\u001b[0m \u001b[0;34m\u001b[0m\u001b[0m\n",
            "\u001b[0;32m<ipython-input-1-acddd4be698a>\u001b[0m in \u001b[0;36mson\u001b[0;34m()\u001b[0m\n\u001b[1;32m      4\u001b[0m     \u001b[0mself\u001b[0m\u001b[0;34m.\u001b[0m\u001b[0mvechicle\u001b[0m \u001b[0;34m=\u001b[0m\u001b[0;34m\"scooter\"\u001b[0m\u001b[0;34m\u001b[0m\u001b[0;34m\u001b[0m\u001b[0m\n\u001b[1;32m      5\u001b[0m \u001b[0;32mclass\u001b[0m \u001b[0mson\u001b[0m\u001b[0;34m(\u001b[0m\u001b[0mfather\u001b[0m\u001b[0;34m)\u001b[0m\u001b[0;34m:\u001b[0m\u001b[0;34m\u001b[0m\u001b[0;34m\u001b[0m\u001b[0m\n\u001b[0;32m----> 6\u001b[0;31m   \u001b[0mself\u001b[0m\u001b[0;34m.\u001b[0m\u001b[0mvechicle\u001b[0m\u001b[0;34m=\u001b[0m\u001b[0;34m\"bmw\"\u001b[0m\u001b[0;34m\u001b[0m\u001b[0;34m\u001b[0m\u001b[0m\n\u001b[0m\u001b[1;32m      7\u001b[0m \u001b[0;34m\u001b[0m\u001b[0m\n\u001b[1;32m      8\u001b[0m \u001b[0ms\u001b[0m\u001b[0;34m=\u001b[0m \u001b[0mson\u001b[0m\u001b[0;34m(\u001b[0m\u001b[0;34m)\u001b[0m\u001b[0;34m\u001b[0m\u001b[0;34m\u001b[0m\u001b[0m\n",
            "\u001b[0;31mNameError\u001b[0m: name 'self' is not defined"
          ]
        }
      ]
    },
    {
      "cell_type": "code",
      "source": [
        "#parameterized constructor\n",
        "class computer:\n",
        "  def __init__(self, ram,pro):\n",
        "    print(\"computer class constructor\")\n",
        "    self.ram = ram\n",
        "    self.processor = pro\n",
        "class mobile(computer):\n",
        "  #make sure all the parent class parameters are passed and then child class parameters\n",
        "  def __init__(self, ram,pro,model): #Child class parameters\n",
        "    super().__init__(ram,pro)#Parent class parameters\n",
        "    self.model=model\n",
        "    print(\"mobile class constructor called\")\n",
        "\n",
        "m = mobile(\"8gb\",\"snapdragon\",\"Android\")\n",
        "print(m.__dict__)"
      ],
      "metadata": {
        "colab": {
          "base_uri": "https://localhost:8080/"
        },
        "id": "z49nvMHnpcwR",
        "outputId": "752896c4-74b8-49d7-b5fc-42c9fe3ad00e"
      },
      "execution_count": 3,
      "outputs": [
        {
          "output_type": "stream",
          "name": "stdout",
          "text": [
            "computer class constructor\n",
            "mobile class constructor called\n",
            "{'ram': '8gb', 'processor': 'snapdragon', 'model': 'Android'}\n"
          ]
        }
      ]
    },
    {
      "cell_type": "code",
      "source": [
        "#multi level inheritence\n",
        "class Grandfather:\n",
        "  gf_attribute =\"GF traits\"\n",
        "\n",
        "  def display_gf(self):\n",
        "    print(self.gf_attribute)\n",
        "\n",
        "class Father(Grandfather):\n",
        "  f_attribute =\"father traits\"\n",
        "\n",
        "  def display_f(self):\n",
        "    print(self.f_attribute)\n",
        "\n",
        "class Son(Father):\n",
        "  s_attribute =\"son traits\"\n",
        "\n",
        "  def display_s(self):\n",
        "    print(self.s_attribute)\n",
        "\n",
        "child1 = Grandfather()\n",
        "child2 = Father()\n",
        "child3 = Son()\n",
        "child1.display_gf()\n",
        "child2.display_f()\n",
        "child3.display_s()\n",
        "print(child1.s_attribute)\n",
        "print(child1.f_attribute)\n",
        "print(child1.gf_attribute)\n",
        ""
      ],
      "metadata": {
        "colab": {
          "base_uri": "https://localhost:8080/",
          "height": 263
        },
        "id": "wAjs18gnu5Os",
        "outputId": "13708c83-99eb-43c7-e6f4-6c174c451c1e"
      },
      "execution_count": 4,
      "outputs": [
        {
          "output_type": "stream",
          "name": "stdout",
          "text": [
            "GF traits\n",
            "father traits\n",
            "son traits\n"
          ]
        },
        {
          "output_type": "error",
          "ename": "AttributeError",
          "evalue": "'Grandfather' object has no attribute 's_attribute'",
          "traceback": [
            "\u001b[0;31m---------------------------------------------------------------------------\u001b[0m",
            "\u001b[0;31mAttributeError\u001b[0m                            Traceback (most recent call last)",
            "\u001b[0;32m<ipython-input-4-b1de69e11af9>\u001b[0m in \u001b[0;36m<cell line: 0>\u001b[0;34m()\u001b[0m\n\u001b[1;32m     24\u001b[0m \u001b[0mchild2\u001b[0m\u001b[0;34m.\u001b[0m\u001b[0mdisplay_f\u001b[0m\u001b[0;34m(\u001b[0m\u001b[0;34m)\u001b[0m\u001b[0;34m\u001b[0m\u001b[0;34m\u001b[0m\u001b[0m\n\u001b[1;32m     25\u001b[0m \u001b[0mchild3\u001b[0m\u001b[0;34m.\u001b[0m\u001b[0mdisplay_s\u001b[0m\u001b[0;34m(\u001b[0m\u001b[0;34m)\u001b[0m\u001b[0;34m\u001b[0m\u001b[0;34m\u001b[0m\u001b[0m\n\u001b[0;32m---> 26\u001b[0;31m \u001b[0mprint\u001b[0m\u001b[0;34m(\u001b[0m\u001b[0mchild1\u001b[0m\u001b[0;34m.\u001b[0m\u001b[0ms_attribute\u001b[0m\u001b[0;34m)\u001b[0m\u001b[0;34m\u001b[0m\u001b[0;34m\u001b[0m\u001b[0m\n\u001b[0m\u001b[1;32m     27\u001b[0m \u001b[0mprint\u001b[0m\u001b[0;34m(\u001b[0m\u001b[0mchild1\u001b[0m\u001b[0;34m.\u001b[0m\u001b[0mf_attribute\u001b[0m\u001b[0;34m)\u001b[0m\u001b[0;34m\u001b[0m\u001b[0;34m\u001b[0m\u001b[0m\n\u001b[1;32m     28\u001b[0m \u001b[0mprint\u001b[0m\u001b[0;34m(\u001b[0m\u001b[0mchild1\u001b[0m\u001b[0;34m.\u001b[0m\u001b[0mgf_attribute\u001b[0m\u001b[0;34m)\u001b[0m\u001b[0;34m\u001b[0m\u001b[0;34m\u001b[0m\u001b[0m\n",
            "\u001b[0;31mAttributeError\u001b[0m: 'Grandfather' object has no attribute 's_attribute'"
          ]
        }
      ]
    },
    {
      "cell_type": "code",
      "source": [
        "#constructor in multi level inheritence\n",
        "class human():\n",
        "  def __init__(self):\n",
        "    print(\"human class constructor\")\n",
        "    self.name = \"Stephen\"\n",
        "class employee(human):\n",
        "  def __init__(self):\n",
        "    print(\"employee class constructor\")\n",
        "    self.salary = 100000\n",
        "\n",
        "class manager(employee):\n",
        "  def __init__(self):\n",
        "    print(\"Manager class constructor\")\n",
        "    self.bonus=2000\n",
        "\n",
        "m1 = manager()\n",
        "\n",
        "print(m1.__dict__)"
      ],
      "metadata": {
        "colab": {
          "base_uri": "https://localhost:8080/"
        },
        "id": "SU-pIw1XwgzG",
        "outputId": "6ea38a20-ec73-41f6-a490-1648cdeedea7"
      },
      "execution_count": 5,
      "outputs": [
        {
          "output_type": "stream",
          "name": "stdout",
          "text": [
            "Manager class constructor\n",
            "{'bonus': 2000}\n"
          ]
        }
      ]
    },
    {
      "cell_type": "code",
      "source": [
        "#constructor in multi level inheritence\n",
        "class human():\n",
        "  def __init__(self):\n",
        "    print(\"human class constructor\")\n",
        "    self.name = \"Stephen\"\n",
        "class employee(human):\n",
        "  def __init__(self):\n",
        "    super().__init__()\n",
        "    print(\"employee class constructor\")\n",
        "    self.salary = 100000\n",
        "\n",
        "class manager(employee):\n",
        "  def __init__(self):\n",
        "    super().__init__()\n",
        "    print(\"Manager class constructor\")\n",
        "    self.bonus=2000\n",
        "\n",
        "m1 = manager()\n",
        "print(m1.__dict__)"
      ],
      "metadata": {
        "colab": {
          "base_uri": "https://localhost:8080/"
        },
        "id": "b7PpPdE9xjJg",
        "outputId": "ddf41b7b-87a7-414c-9e59-fc67b1367335"
      },
      "execution_count": 7,
      "outputs": [
        {
          "output_type": "stream",
          "name": "stdout",
          "text": [
            "human class constructor\n",
            "employee class constructor\n",
            "Manager class constructor\n",
            "{'name': 'Stephen', 'salary': 100000, 'bonus': 2000}\n"
          ]
        }
      ]
    },
    {
      "cell_type": "code",
      "source": [
        "# class varibale inheritance\n",
        "\n",
        "# Parent class with a class variable\n",
        "class Parent:\n",
        "  parent_class_variable = \"I am a parent class variable\"\n",
        "\n",
        "  def __init__(self, name):\n",
        "    self.name = name\n",
        "\n",
        "  def display_parent_variable(self):\n",
        "    print(f\"From Parent instance {self.name}: {Parent.parent_class_variable}\")\n",
        "\n",
        "# Child class inheriting from Parent\n",
        "class Child(Parent):\n",
        "  child_class_variable = \"I am a child class variable\"\n",
        "\n",
        "  def __init__(self, name, age):\n",
        "    super().__init__(name) # Initialize the parent class\n",
        "    self.age = age\n",
        "\n",
        "  def display_variables(self):\n",
        "    print(f\"From Child instance {self.name}:\")\n",
        "    print(f\"  Parent class variable: {self.parent_class_variable}\") # Accessing inherited class variable\n",
        "    print(f\"  Child class variable: {self.child_class_variable}\") # Accessing child class variable\n",
        "\n",
        "# Create an instance of the Child class\n",
        "child_instance = Child(\"Alice\", 10)\n",
        "\n",
        "# Access and display the inherited class variable\n",
        "print(\"Accessing class variables:\")\n",
        "print(f\"From Parent class: {Parent.parent_class_variable}\")\n",
        "print(f\"From Child class (accessing inherited): {Child.parent_class_variable}\")\n",
        "print(f\"From Child instance (accessing inherited): {child_instance.parent_class_variable}\")\n",
        "print(f\"From Child class: {Child.child_class_variable}\")\n",
        "\n",
        "# Use the method to display the variables\n",
        "child_instance.display_variables()\n",
        "\n",
        "# Create a Parent instance to show the difference\n",
        "parent_instance = Parent(\"Bob\")\n",
        "parent_instance.display_parent_variable()\n",
        "# print(parent_instance.child_class_variable) # This would cause an error"
      ],
      "metadata": {
        "colab": {
          "base_uri": "https://localhost:8080/"
        },
        "id": "3D1rbRATy2vS",
        "outputId": "e90cde0a-fd06-4131-e629-cd43c4224559"
      },
      "execution_count": 8,
      "outputs": [
        {
          "output_type": "stream",
          "name": "stdout",
          "text": [
            "Accessing class variables:\n",
            "From Parent class: I am a parent class variable\n",
            "From Child class (accessing inherited): I am a parent class variable\n",
            "From Child instance (accessing inherited): I am a parent class variable\n",
            "From Child class: I am a child class variable\n",
            "From Child instance Alice:\n",
            "  Parent class variable: I am a parent class variable\n",
            "  Child class variable: I am a child class variable\n",
            "From Parent instance Bob: I am a parent class variable\n"
          ]
        }
      ]
    }
  ],
  "metadata": {
    "colab": {
      "provenance": []
    },
    "kernelspec": {
      "display_name": "Python 3",
      "name": "python3"
    },
    "language_info": {
      "name": "python"
    }
  },
  "nbformat": 4,
  "nbformat_minor": 0
}