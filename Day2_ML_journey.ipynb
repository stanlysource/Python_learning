{
  "cells": [
    {
      "cell_type": "code",
      "execution_count": null,
      "metadata": {
        "colab": {
          "base_uri": "https://localhost:8080/"
        },
        "id": "HpmbKqI7jltH",
        "outputId": "0ec1bf68-5f68-4ec7-f746-ea081ec8cab5"
      },
      "outputs": [
        {
          "name": "stdout",
          "output_type": "stream",
          "text": [
            "hello world\n"
          ]
        }
      ],
      "source": [
        "print(\"hello world\")"
      ]
    },
    {
      "cell_type": "code",
      "execution_count": 1,
      "metadata": {
        "id": "34ZbDQBAxLWX",
        "colab": {
          "base_uri": "https://localhost:8080/",
          "height": 52
        },
        "outputId": "4af1ee92-ed35-45da-a7b6-81b8ca670677"
      },
      "outputs": [
        {
          "name": "stdout",
          "output_type": "stream",
          "text": [
            "enter a number12\n"
          ]
        },
        {
          "output_type": "execute_result",
          "data": {
            "text/plain": [
              "'12'"
            ],
            "application/vnd.google.colaboratory.intrinsic+json": {
              "type": "string"
            }
          },
          "metadata": {},
          "execution_count": 1
        }
      ],
      "source": [
        "input(\"enter a number\")"
      ]
    },
    {
      "cell_type": "code",
      "source": [
        "#create a function with parameters and with return value\n",
        "def add(a, b):\n",
        "  c=int(a)+int(b)\n",
        "  return c\n",
        "print(\"Call a parametered function\")\n",
        "a= int(input(\"enter number a \"))\n",
        "b= int(input(\"enter number b \"))\n",
        "c= add(a, b)\n",
        "print(\"Sum of number a \"+str(a)+\" and b \"+str(b)+\" is \"+str(c))\n"
      ],
      "metadata": {
        "colab": {
          "base_uri": "https://localhost:8080/"
        },
        "id": "rOhqpjqDEb0n",
        "outputId": "a6ccf17d-a34f-485d-9f76-192bc13040e4"
      },
      "execution_count": 5,
      "outputs": [
        {
          "output_type": "stream",
          "name": "stdout",
          "text": [
            "Call a parametered function\n",
            "enter number a 10\n",
            "enter number b 20\n",
            "Sum of number a 10 and b 20 is 30\n"
          ]
        }
      ]
    },
    {
      "cell_type": "code",
      "source": [
        "#validate is the input is an integer\n",
        "def get_integer_input(prompt):\n",
        "  \"\"\"Prompts the user for input until a valid integer is entered.\"\"\"\n",
        "  while True:\n",
        "    try:\n",
        "      value = int(input(prompt))\n",
        "      return value\n",
        "    except ValueError:\n",
        "      print(\"Invalid input. Please enter an integer.\")\n",
        "#an add function to sum two numbers\n",
        "def add(a, b):\n",
        "  c=int(a)+int(b)\n",
        "  return c\n",
        "\n",
        "a = get_integer_input(\"Please enter a number a: \")\n",
        "print(f\"You entered: {a}\")\n",
        "b = get_integer_input(\"Please enter a number b: \")\n",
        "print(f\"You entered: {b}\")\n",
        "c= add(a, b)\n",
        "print(\"Sum of number a \"+str(a)+\" and b \"+str(b)+\" is \"+str(c))\n"
      ],
      "metadata": {
        "colab": {
          "base_uri": "https://localhost:8080/"
        },
        "id": "C1k5bLu4Ggwu",
        "outputId": "69111cdf-6321-4fd9-d66c-ac330a5ed5ee"
      },
      "execution_count": 8,
      "outputs": [
        {
          "output_type": "stream",
          "name": "stdout",
          "text": [
            "Please enter a number a: a\n",
            "Invalid input. Please enter an integer.\n",
            "Please enter a number a: 12\n",
            "You entered: 12\n",
            "Please enter a number b: d\n",
            "Invalid input. Please enter an integer.\n",
            "Please enter a number b: 32\n",
            "You entered: 32\n",
            "Sum of number a 12 and b 32 is 44\n"
          ]
        }
      ]
    },
    {
      "cell_type": "code",
      "source": [
        "#create a function with parameters and without return value\n",
        "def add(a, b):\n",
        "  c=int(a)+int(b)\n",
        "  print(\"Sum of number a \"+str(a)+\" and b \"+str(b)+\" is \"+str(c))\n",
        "a= input(\"enter number a \")\n",
        "b= input(\"enter number b \")\n",
        "add(a,b)"
      ],
      "metadata": {
        "id": "YZkLSyzuHh--",
        "outputId": "9a8f8d05-2872-409b-a3d8-6416c8a5f670",
        "colab": {
          "base_uri": "https://localhost:8080/"
        }
      },
      "execution_count": 9,
      "outputs": [
        {
          "output_type": "stream",
          "name": "stdout",
          "text": [
            "enter number a 12\n",
            "enter number b 14\n",
            "Sum of number a 12 and b 14 is 26\n"
          ]
        }
      ]
    },
    {
      "cell_type": "code",
      "source": [
        "#create a function without parameters and with return value\n",
        "def add():\n",
        "  a= int(input(\"enter number a \"))\n",
        "  b= int(input(\"enter number b \"))\n",
        "  c=a+b\n",
        "  return c\n",
        "c= add()\n",
        "print(\"Sum of number a \"+str(a)+\" and b \"+str(b)+\" is \"+str(c))4"
      ],
      "metadata": {
        "id": "r7ZgQuz5H4zN",
        "outputId": "8fff906b-5a01-4231-966e-662b88150bb4",
        "colab": {
          "base_uri": "https://localhost:8080/"
        }
      },
      "execution_count": 11,
      "outputs": [
        {
          "output_type": "stream",
          "name": "stdout",
          "text": [
            "enter number a 23\n",
            "enter number b 53\n",
            "Sum of number a 12 and b 14 is 76\n"
          ]
        }
      ]
    },
    {
      "cell_type": "code",
      "source": [
        "#create a function without parameters and without return value\n",
        "def add():\n",
        "  a= int(input(\"enter number a \"))\n",
        "  b= int(input(\"enter number b \"))\n",
        "  c=a+b\n",
        "  print(\"Sum of number a \"+str(a)+\" and b \"+str(b)+\" is \"+str(c))\n",
        "add()\n"
      ],
      "metadata": {
        "id": "X4swON-KINCF",
        "outputId": "b98fefb1-7b11-4acc-e9f0-95ce012cecc4",
        "colab": {
          "base_uri": "https://localhost:8080/"
        }
      },
      "execution_count": 13,
      "outputs": [
        {
          "output_type": "stream",
          "name": "stdout",
          "text": [
            "enter number a 32\n",
            "enter number b 324\n",
            "Sum of number a 32 and b 324 is 356\n"
          ]
        }
      ]
    }
  ],
  "metadata": {
    "colab": {
      "provenance": []
    },
    "kernelspec": {
      "display_name": "Python 3",
      "name": "python3"
    },
    "language_info": {
      "name": "python"
    }
  },
  "nbformat": 4,
  "nbformat_minor": 0
}