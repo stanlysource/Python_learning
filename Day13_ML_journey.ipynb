#create a function without parameters and with return value
def add():
  a= int(input("enter number a "))
  b= int(input("enter number b "))
  c=a+b
  return c
c= add()
