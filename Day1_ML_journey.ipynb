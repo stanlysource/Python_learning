{
  "nbformat": 4,
  "nbformat_minor": 0,
  "metadata": {
    "colab": {
      "provenance": []
    },
    "kernelspec": {
      "name": "python3",
      "display_name": "Python 3"
    },
    "language_info": {
      "name": "python"
    }
  },
  "cells": [
    {
      "cell_type": "code",
      "execution_count": null,
      "metadata": {
        "colab": {
          "base_uri": "https://localhost:8080/"
        },
        "id": "1Zecjk8NUXHq",
        "outputId": "6d2792a0-8730-4567-e4ca-19b21a4e20f0"
      },
      "outputs": [
        {
          "output_type": "stream",
          "name": "stdout",
          "text": [
            "Stanly Jose\n"
          ]
        }
      ],
      "source": [
        "print(\"Stanly Jose\")"
      ]
    },
    {
      "cell_type": "code",
      "source": [
        "var1 = '23'\n",
        "var2 = '54'\n"
      ],
      "metadata": {
        "id": "A3Pn82NZXIgL"
      },
      "execution_count": null,
      "outputs": []
    },
    {
      "cell_type": "code",
      "source": [
        "print(\"hello\")"
      ],
      "metadata": {
        "colab": {
          "base_uri": "https://localhost:8080/"
        },
        "id": "VoptzBatc7el",
        "outputId": "201055c8-04f9-4aa7-cfd3-2267b5eb8a6a"
      },
      "execution_count": null,
      "outputs": [
        {
          "output_type": "stream",
          "name": "stdout",
          "text": [
            "hello\n"
          ]
        }
      ]
    },
    {
      "cell_type": "code",
      "source": [
        "\"\"\"multiple comment line\"\"\"\n",
        "#single line of comment.\n",
        "a = 10\n",
        "print (a) #value of variable a\n",
        "print(id(a))#location of the variable a is stored"
      ],
      "metadata": {
        "colab": {
          "base_uri": "https://localhost:8080/"
        },
        "id": "11PgePAORfNl",
        "outputId": "0a235f3d-881f-40ed-9744-d43306ca40c7"
      },
      "execution_count": 1,
      "outputs": [
        {
          "output_type": "stream",
          "name": "stdout",
          "text": [
            "10\n",
            "10751144\n"
          ]
        }
      ]
    },
    {
      "cell_type": "code",
      "source": [
        "a =10\n",
        "b=20\n",
        "c=d=e=10\n",
        "f,g,h=10,20,30\n",
        "print(a)\n",
        "print(b)\n",
        "print(c)\n",
        "print(d)\n",
        "print(e)\n",
        "print(f)\n",
        "print(g)\n",
        "print(h)\n"
      ],
      "metadata": {
        "colab": {
          "base_uri": "https://localhost:8080/"
        },
        "id": "DY_AQB_nRwE2",
        "outputId": "c08aae85-2aa3-477b-a5db-5144d5726758"
      },
      "execution_count": 3,
      "outputs": [
        {
          "output_type": "stream",
          "name": "stdout",
          "text": [
            "10\n",
            "20\n",
            "10\n",
            "10\n",
            "10\n",
            "10\n",
            "20\n",
            "30\n"
          ]
        }
      ]
    },
    {
      "cell_type": "code",
      "source": [
        "l=['stanly',10, 20.25, 3+4j] #creating simple list\n",
        "print(l)"
      ],
      "metadata": {
        "colab": {
          "base_uri": "https://localhost:8080/"
        },
        "id": "tjSw8MpiSl_l",
        "outputId": "0aedb7c0-6e3f-4ccf-c7b9-13b16ece8b27"
      },
      "execution_count": 4,
      "outputs": [
        {
          "output_type": "stream",
          "name": "stdout",
          "text": [
            "['stanly', 10, 20.25, (3+4j)]\n"
          ]
        }
      ]
    },
    {
      "cell_type": "code",
      "source": [
        "a = 3+4j\n",
        "print(a)\n",
        "print(type(a))#"
      ],
      "metadata": {
        "colab": {
          "base_uri": "https://localhost:8080/"
        },
        "id": "4T3mXQNgS60w",
        "outputId": "58b16b39-2f93-4a7f-e916-94290afc3846"
      },
      "execution_count": 5,
      "outputs": [
        {
          "output_type": "stream",
          "name": "stdout",
          "text": [
            "(3+4j)\n",
            "<class 'complex'>\n"
          ]
        }
      ]
    },
    {
      "cell_type": "code",
      "source": [
        "#isinstance\n",
        "a=10\n",
        "b=10.5\n",
        "print(isinstance(a,int))#true\n",
        "print(isinstance(b,int))#false. b is of type float\n",
        "\n"
      ],
      "metadata": {
        "colab": {
          "base_uri": "https://localhost:8080/"
        },
        "id": "WUQn567DULTJ",
        "outputId": "09116a17-eb01-4534-b3fe-fddca49badf0"
      },
      "execution_count": 11,
      "outputs": [
        {
          "output_type": "stream",
          "name": "stdout",
          "text": [
            "True\n",
            "False\n"
          ]
        }
      ]
    },
    {
      "cell_type": "code",
      "source": [
        "#variable annotation\n",
        "name: str=\"NTT\"\n",
        "print(name)\n",
        "print(type(name))\n",
        "print(__annotations__['name'])"
      ],
      "metadata": {
        "colab": {
          "base_uri": "https://localhost:8080/"
        },
        "id": "fnofZcJsUNWq",
        "outputId": "04f36629-d824-4831-e61e-a9d523126c81"
      },
      "execution_count": 12,
      "outputs": [
        {
          "output_type": "stream",
          "name": "stdout",
          "text": [
            "NTT\n",
            "<class 'str'>\n",
            "<class 'str'>\n"
          ]
        }
      ]
    },
    {
      "cell_type": "code",
      "source": [
        "stan: int = 45\n",
        "print(stan)\n",
        "print(__annotations__['stan'])"
      ],
      "metadata": {
        "colab": {
          "base_uri": "https://localhost:8080/"
        },
        "id": "y0b0PZ8IVhcy",
        "outputId": "4daa9ab5-a88a-4376-e319-081f0865b759"
      },
      "execution_count": 14,
      "outputs": [
        {
          "output_type": "stream",
          "name": "stdout",
          "text": [
            "45\n",
            "<class 'int'>\n"
          ]
        }
      ]
    },
    {
      "cell_type": "code",
      "source": [
        "print(18/4)\n",
        "print(18//4)\n",
        "print(18%4)\n",
        "print(18.0//4.0)\n",
        "print(18.0/4.0)"
      ],
      "metadata": {
        "colab": {
          "base_uri": "https://localhost:8080/"
        },
        "id": "jZtZNRNSf7Wy",
        "outputId": "1dc9e591-21d4-4c56-f7fa-31df61531681"
      },
      "execution_count": 16,
      "outputs": [
        {
          "output_type": "stream",
          "name": "stdout",
          "text": [
            "4.5\n",
            "4\n",
            "2\n",
            "4.0\n",
            "4.5\n"
          ]
        }
      ]
    },
    {
      "cell_type": "code",
      "source": [
        "\"\"\"String Slicking can be done like below. It works like a substring in C#\n",
        "start: starting point of substring (0 by default)\n",
        "stop : ending poing of substring ( last index by default,  stop-1)\n",
        "step: skipping the number of charectors (1 by default)\n",
        "number of charectors print would be Stop-Start charectors\n",
        "eg: if start is 0 and stop is 3\n",
        "3-0 =3\n",
        "now it has to print substring of 0,1,2 . which is 3 charectors\n",
        "There are two ways of slicing. Positive and Negative slicing\n",
        "Positive slicing uses positive indexing\n",
        "Negative slicking uses negative indexing - which is the negative indexing is given in the reverse order\n",
        "eg: Hello ==> H would have the index of -5\n",
        "              e would have the index of -4\n",
        "              l would have the index of -3\n",
        "              l would have the index of -2\n",
        "              o would have the index of -1\n",
        "\n",
        "\"\"\"\n",
        "\n",
        "#Positive Indexing\n",
        "# the 3 parameters are Start: Stop: Step\n",
        "print(s[0:5:1])\n",
        "print(s[6:10:1])\n",
        "print(s[0:10:2])\n",
        "print(s[:5:1]) #default value is taken as 0 for the first parameter\n",
        "print(s[5::1]) #default value for the second parameter would be the last index of the list\n",
        "print(s[::1])\n",
        "\n"
      ],
      "metadata": {
        "colab": {
          "base_uri": "https://localhost:8080/"
        },
        "id": "1Yt9DKtCiewq",
        "outputId": "846d1974-869e-4509-dd51-0d5c3781f347"
      },
      "execution_count": 22,
      "outputs": [
        {
          "output_type": "stream",
          "name": "stdout",
          "text": [
            "['h', 'e', 'l', 'l', 'o']\n",
            "['o', 'r', 'l', 'd']\n",
            "['h', 'l', 'o', 'o', 'l']\n",
            "['h', 'e', 'l', 'l', 'o']\n",
            "['w', 'o', 'r', 'l', 'd']\n",
            "['h', 'e', 'l', 'l', 'o', 'w', 'o', 'r', 'l', 'd']\n"
          ]
        }
      ]
    },
    {
      "cell_type": "code",
      "source": [
        "#negative\n",
        "s='Bangalore'\n",
        "print(s[-2:-8:-1])\n",
        "print(s[-8:-2:-1])\n",
        "print(s[::-1])\n"
      ],
      "metadata": {
        "colab": {
          "base_uri": "https://localhost:8080/"
        },
        "id": "_2YfqPCazz40",
        "outputId": "df05d507-7eb1-46f1-c861-5f3131cd2a81"
      },
      "execution_count": 4,
      "outputs": [
        {
          "output_type": "stream",
          "name": "stdout",
          "text": [
            "rolagn\n",
            "\n",
            "erolagnaB\n"
          ]
        }
      ]
    },
    {
      "cell_type": "code",
      "source": [
        "s='Hello, world!'\n",
        "print(s[-5:2:-2])\n",
        "t='Python is fun!'\n",
        "#it takes the out put of the first set [::2] = Pto sfn. And then it slices again from the first result\n",
        "print(t[::2])\n",
        "# Here it is just reverses the string result of first slicing.\n",
        "print(t[::2][::-1])\n"
      ],
      "metadata": {
        "colab": {
          "base_uri": "https://localhost:8080/"
        },
        "id": "urMuZBaR4CdZ",
        "outputId": "b237921f-1e05-49d5-e7b3-d0628c59551a"
      },
      "execution_count": 9,
      "outputs": [
        {
          "output_type": "stream",
          "name": "stdout",
          "text": [
            "o o\n",
            "Pto sfn\n",
            "nfs otP\n"
          ]
        }
      ]
    },
    {
      "cell_type": "code",
      "source": [
        "\"\"\"if condition/test_expression:\n",
        "      statement 1\n",
        "      statement 2\n",
        "      rest of the statements\"\"\"\n",
        "if 10>5:\n",
        "  print('true')\n",
        "  print('first number is greater')\n",
        "print('end of if condition')\n",
        "\n",
        "if 10>15:\n",
        "  print('true')\n",
        "  print('first number is greater')\n",
        "print('end of if condition')\n"
      ],
      "metadata": {
        "colab": {
          "base_uri": "https://localhost:8080/"
        },
        "id": "XwOHO7jZ-qND",
        "outputId": "8050b3a4-94eb-42be-a74e-00b747719b1a"
      },
      "execution_count": 10,
      "outputs": [
        {
          "output_type": "stream",
          "name": "stdout",
          "text": [
            "true\n",
            "first number is greater\n",
            "end of if condition\n"
          ]
        }
      ]
    },
    {
      "cell_type": "code",
      "source": [
        "# input function\n",
        "a= input('enter a value')\n",
        "print(a)\n",
        "print(type(a))\n"
      ],
      "metadata": {
        "colab": {
          "base_uri": "https://localhost:8080/"
        },
        "id": "eLkDJrvNBIx9",
        "outputId": "3bb52b6c-8341-46b7-e406-cb4e91304b45"
      },
      "execution_count": 12,
      "outputs": [
        {
          "output_type": "stream",
          "name": "stdout",
          "text": [
            "enter a value10\n",
            "10\n",
            "<class 'str'>\n"
          ]
        }
      ]
    },
    {
      "cell_type": "code",
      "source": [
        "# input function with type cast\n",
        "a= int(input('enter a value'))\n",
        "print(a)\n",
        "print(type(a))\n"
      ],
      "metadata": {
        "colab": {
          "base_uri": "https://localhost:8080/"
        },
        "id": "NKjdOnb9CCJK",
        "outputId": "776c6c8d-f8c2-47be-a623-6e8bd8349117"
      },
      "execution_count": 14,
      "outputs": [
        {
          "output_type": "stream",
          "name": "stdout",
          "text": [
            "enter a value10\n",
            "10\n",
            "<class 'int'>\n"
          ]
        }
      ]
    },
    {
      "cell_type": "code",
      "source": [
        "#If Else\n",
        "a = int(input('enter a value'))\n",
        "b = int(input('enter a value'))\n",
        "if a>b:\n",
        "  print('a is greater')\n",
        "  print('if block')\n",
        "else:\n",
        "  print('b is greater')\n",
        "  print('else block')\n"
      ],
      "metadata": {
        "colab": {
          "base_uri": "https://localhost:8080/"
        },
        "id": "hqhOLj1XCQ1s",
        "outputId": "ebd59bfd-a17b-401b-9f88-414158216f90"
      },
      "execution_count": 15,
      "outputs": [
        {
          "output_type": "stream",
          "name": "stdout",
          "text": [
            "enter a value10\n",
            "enter a value5\n",
            "a is greater\n",
            "if block\n"
          ]
        }
      ]
    },
    {
      "cell_type": "code",
      "source": [
        "#Nested IF Else\n",
        "s=input('enter a status color')\n",
        "if s==\"red\":\n",
        "  print(\"stop\")\n",
        "elif s==\"yellow\":\n",
        "  print(\"wait\")\n",
        "else:\n",
        "  print('go')\n"
      ],
      "metadata": {
        "colab": {
          "base_uri": "https://localhost:8080/"
        },
        "id": "vDybJ-3jDYbo",
        "outputId": "6527ff73-d068-47e7-808c-993d36134ba3"
      },
      "execution_count": 17,
      "outputs": [
        {
          "output_type": "stream",
          "name": "stdout",
          "text": [
            "enter a status coloryellow\n",
            "wait\n"
          ]
        }
      ]
    },
    {
      "cell_type": "code",
      "source": [
        "#sample program for polindrome\n",
        "s= input('enter a string to check it is polindrome or not: ')\n",
        "s= s.lower()\n",
        "if s==s[::-1]:\n",
        "  print(s + ' is polindrome')\n",
        "else:\n",
        "  print(s+ ' is not polindrome')"
      ],
      "metadata": {
        "colab": {
          "base_uri": "https://localhost:8080/"
        },
        "id": "vo9mKCF_EIEq",
        "outputId": "e7471e5a-c6cf-46d0-bfd9-9141e819edd5"
      },
      "execution_count": 25,
      "outputs": [
        {
          "output_type": "stream",
          "name": "stdout",
          "text": [
            "enter a string to check it is polindrome or not: Malayalam\n",
            "malayalam is polindrome\n"
          ]
        }
      ]
    },
    {
      "cell_type": "code",
      "source": [
        "# While loop\n",
        "check=1\n",
        "while check<5:\n",
        "  print(check)\n",
        "  check = check+1\n",
        "print('out of first while loop')\n",
        "loop=0\n",
        "check=5\n",
        "while loop < 10:\n",
        "  loop = loop+1\n",
        "  result = loop*check\n",
        "  print(str(loop) + '*'+ str(check)+'=' + str(result) )\n",
        "print ('out of loop')\n",
        "\n"
      ],
      "metadata": {
        "colab": {
          "base_uri": "https://localhost:8080/"
        },
        "id": "AQe303gPHTWa",
        "outputId": "477b554c-65b5-4762-f909-54c8865bb17c"
      },
      "execution_count": 2,
      "outputs": [
        {
          "output_type": "stream",
          "name": "stdout",
          "text": [
            "1\n",
            "2\n",
            "3\n",
            "4\n",
            "out of first while loop\n",
            "1*5=5\n",
            "2*5=10\n",
            "3*5=15\n",
            "4*5=20\n",
            "5*5=25\n",
            "6*5=30\n",
            "7*5=35\n",
            "8*5=40\n",
            "9*5=45\n",
            "10*5=50\n",
            "out of loop\n"
          ]
        }
      ]
    },
    {
      "cell_type": "code",
      "source": [
        "#for loop\n",
        "s=\"Stanly\" #string\n",
        "for i in s:\n",
        "  print(i)\n",
        "l=[10,20,30,40] #list\n",
        "for i in l:\n",
        "  print(i)\n",
        "t=(10,20,30,40) #tuple\n",
        "for i in t:\n",
        "  print(i)\n",
        "d={'a':10,'b':20,'c':30} #set\n",
        "for i in d:\n",
        "  print(i)\n",
        "\n",
        "# for loop with list which has different type of elements\n",
        "for i in [10,'stanly',10.5,-11]:\n",
        "  print(i)\n",
        "  print(type(i))"
      ],
      "metadata": {
        "colab": {
          "base_uri": "https://localhost:8080/"
        },
        "id": "_hBETarCJ-C7",
        "outputId": "758d1ce6-b560-41e4-e438-e164acd68dc3"
      },
      "execution_count": 7,
      "outputs": [
        {
          "output_type": "stream",
          "name": "stdout",
          "text": [
            "S\n",
            "t\n",
            "a\n",
            "n\n",
            "l\n",
            "y\n",
            "10\n",
            "20\n",
            "30\n",
            "40\n",
            "10\n",
            "20\n",
            "30\n",
            "40\n",
            "a\n",
            "b\n",
            "c\n",
            "10\n",
            "<class 'int'>\n",
            "stanly\n",
            "<class 'str'>\n",
            "10.5\n",
            "<class 'float'>\n",
            "-11\n",
            "<class 'int'>\n"
          ]
        }
      ]
    },
    {
      "cell_type": "code",
      "source": [
        "s= 'welcome to Python'\n",
        "print(s)\n",
        "print(len(s))\n"
      ],
      "metadata": {
        "colab": {
          "base_uri": "https://localhost:8080/"
        },
        "id": "H5gredHpC5on",
        "outputId": "e5ea05ac-4bae-4b7b-a4bd-5a9b27383dd7"
      },
      "execution_count": 1,
      "outputs": [
        {
          "output_type": "stream",
          "name": "stdout",
          "text": [
            "welcome to Python\n",
            "17\n"
          ]
        }
      ]
    },
    {
      "cell_type": "code",
      "source": [
        "#membership operator\n",
        "if \"b\"  not in \"apple\":\n",
        "  print('yes')\n",
        "else:\n",
        "  print('no')\n"
      ],
      "metadata": {
        "colab": {
          "base_uri": "https://localhost:8080/"
        },
        "id": "6XULwg_HDjT3",
        "outputId": "35e0216f-3439-4ee9-801b-4650a2a2d544"
      },
      "execution_count": 2,
      "outputs": [
        {
          "output_type": "stream",
          "name": "stdout",
          "text": [
            "yes\n"
          ]
        }
      ]
    },
    {
      "cell_type": "code",
      "source": [
        "#count method . To find the number of occurence\n",
        "main_str =input(\"enter a main string\")\n",
        "sub_str = input(\"enter a sub string\")\n",
        "#main_str=main_str.lower()\n",
        "#sub_str=sub_str.lower()\n",
        "c=main_str.count(sub_str)\n",
        "print(c)\n"
      ],
      "metadata": {
        "colab": {
          "base_uri": "https://localhost:8080/"
        },
        "id": "gZJQRcQKD1Jr",
        "outputId": "c248ceda-9fa0-47fd-ca94-7958e94e3e29"
      },
      "execution_count": 8,
      "outputs": [
        {
          "output_type": "stream",
          "name": "stdout",
          "text": [
            "enter a main stringMAlayalam\n",
            "enter a sub stringa\n",
            "3\n"
          ]
        }
      ]
    },
    {
      "cell_type": "code",
      "source": [
        "#startswith method\n",
        "m_no = input(\"enter a mobile number\")\n",
        "if m_no.startswith('+91'):\n",
        "  print('India mobile number')\n",
        "elif m_no.startswith('1'):\n",
        "  print('US mobile number')\n",
        "else:\n",
        "  print('invalid mobile number')"
      ],
      "metadata": {
        "colab": {
          "base_uri": "https://localhost:8080/"
        },
        "id": "siDMYAz6FqlL",
        "outputId": "1f3da446-9ef6-4d4f-bf28-8b3c54642494"
      },
      "execution_count": 11,
      "outputs": [
        {
          "output_type": "stream",
          "name": "stdout",
          "text": [
            "enter a mobile number+915309457034\n",
            "India mobile number\n"
          ]
        }
      ]
    },
    {
      "cell_type": "code",
      "source": [
        "#endswith method\n",
        "url = input(\"enter a url\")\n",
        "if url.endswith('.com'):\n",
        "  print('valid url for commercial')\n",
        "elif url.endswith('.edu'):\n",
        "  print('valid url for education')\n",
        "elif url.endswith('.org'):\n",
        "  print('valid url for organisation')\n",
        "elif url.endswith('.net'):\n",
        "  print('valid url for networking')\n",
        "else:\n",
        "  print('invalid url')\n"
      ],
      "metadata": {
        "colab": {
          "base_uri": "https://localhost:8080/"
        },
        "id": "VatP3GQZGRGo",
        "outputId": "8e05598d-33fa-497b-92b5-fcbfc96b3b3c"
      },
      "execution_count": 13,
      "outputs": [
        {
          "output_type": "stream",
          "name": "stdout",
          "text": [
            "enter a urlwww.learn.edu\n",
            "valid url for education\n"
          ]
        }
      ]
    },
    {
      "cell_type": "code",
      "source": [
        "#removing leading charactors . Removes until it finds the first mismatch of the charactor\n",
        "#lstrip\n",
        "name=input(\"enter your name\")\n",
        "print(name)\n",
        "name =name.lstrip()\n",
        "print(name)\n",
        "listURL = [\"http://www.amazon.com\",\"http://www.flipkart.com\",\"http://www.myntra.com\"]\n",
        "for i in listURL:\n",
        "  i=i.lstrip(\"http://\")\n",
        "  print(i)\n"
      ],
      "metadata": {
        "colab": {
          "base_uri": "https://localhost:8080/"
        },
        "id": "YNvIz3dnG7Y0",
        "outputId": "8f52edfc-2453-4f16-80e5-3f1502d702d7"
      },
      "execution_count": 16,
      "outputs": [
        {
          "output_type": "stream",
          "name": "stdout",
          "text": [
            "enter your name  stanly     \n",
            "  stanly     \n",
            "stanly     \n",
            "www.amazon.com\n",
            "www.flipkart.com\n",
            "www.myntra.com\n"
          ]
        }
      ]
    },
    {
      "cell_type": "code",
      "source": [
        "#rstrip . Till finds the fist mismatch it removes\n",
        "listURL = [\"http://www.amazon.com\",\"http://www.flipkart.com\",\"http://www.myntra.com\"]\n",
        "for i in listURL:\n",
        "  i=i.rstrip(\"htp.com\")\n",
        "  print(i)"
      ],
      "metadata": {
        "colab": {
          "base_uri": "https://localhost:8080/"
        },
        "id": "RM6KNZagMnu7",
        "outputId": "3a61dccc-6f68-491b-ba08-80b69fea7bf5"
      },
      "execution_count": 18,
      "outputs": [
        {
          "output_type": "stream",
          "name": "stdout",
          "text": [
            "http://www.amazon\n",
            "http://www.flipkar\n",
            "http://www.myntra\n"
          ]
        }
      ]
    },
    {
      "cell_type": "code",
      "source": [
        "#strip - to remove the charactors from starting and ending positions\n",
        "listURL = [\"http://www.amazon.com\",\"http://www.flipkart.com\",\"http://www.myntra.com\"]\n",
        "for i in listURL:\n",
        "  i=i.strip(\"htp.com\")\n",
        "  print(i)"
      ],
      "metadata": {
        "colab": {
          "base_uri": "https://localhost:8080/"
        },
        "id": "mcemKfgMNLc_",
        "outputId": "ca585843-32c7-45fe-986b-0a1450b28262"
      },
      "execution_count": 19,
      "outputs": [
        {
          "output_type": "stream",
          "name": "stdout",
          "text": [
            "://www.amazon\n",
            "://www.flipkar\n",
            "://www.myntra\n"
          ]
        }
      ]
    },
    {
      "cell_type": "code",
      "source": [
        "#ord - ordinance of ascii value\n",
        "print(ord('a'))\n",
        "print(ord('A'))\n",
        "print(ord('z'))\n",
        "print(ord('Z'))\n",
        "a=\"A.Anandh\"\n",
        "b=\"B.Abi\"\n",
        "if a>b:\n",
        "  print(a)\n",
        "  print(\"a is greater\")\n",
        "else:\n",
        "  print(b)\n",
        "  print(\"b is greater\")"
      ],
      "metadata": {
        "colab": {
          "base_uri": "https://localhost:8080/"
        },
        "id": "PdyAUcsZP3Rl",
        "outputId": "a9cb733e-cec1-4c00-efad-28ef2a383a9c"
      },
      "execution_count": 22,
      "outputs": [
        {
          "output_type": "stream",
          "name": "stdout",
          "text": [
            "97\n",
            "65\n",
            "122\n",
            "90\n",
            "B.Abi\n",
            "b is greater\n"
          ]
        }
      ]
    },
    {
      "cell_type": "code",
      "source": [
        "#replace method\n",
        "s1 =\"I live in Chennai. Chennai is a metropolitan city\"\n",
        "s2 = s1.replace(\"Chennai\",\"Bangalore\") #replaces all the occurance\n",
        "print(s2)\n",
        "s2 = s1.replace(\"Chennai\",\"Bangalore\",1)#only one occurance is replaced\n",
        "print(s2)\n"
      ],
      "metadata": {
        "colab": {
          "base_uri": "https://localhost:8080/"
        },
        "id": "xH58uCycRT6t",
        "outputId": "47b65e6d-b26b-449c-d761-33209e69808b"
      },
      "execution_count": 24,
      "outputs": [
        {
          "output_type": "stream",
          "name": "stdout",
          "text": [
            "I live in Bangalore. Bangalore is a metropolitan city\n",
            "I live in Bangalore. Chennai is a metropolitan city\n"
          ]
        }
      ]
    },
    {
      "cell_type": "code",
      "source": [
        "#find method\n",
        "s1 =\"I live in Chennai. Chennai is a metropolitan city\"\n",
        "s2 = s1.find(\"Chennai\") #finds the index value of first occurance\n",
        "print(s2)"
      ],
      "metadata": {
        "id": "KxLf2xOVSH9M",
        "outputId": "ac7cdf55-9a2d-4284-e006-8082eb1fbd62",
        "colab": {
          "base_uri": "https://localhost:8080/"
        }
      },
      "execution_count": 25,
      "outputs": [
        {
          "output_type": "stream",
          "name": "stdout",
          "text": [
            "10\n"
          ]
        }
      ]
    },
    {
      "cell_type": "code",
      "source": [
        "#rfind method\n",
        "s1 =\"I live in Chennai. Chennai is a metropolitan city\"\n",
        "s2 = s1.rfind(\"Chennai\") #finds the index value of first occurance\n",
        "print(s2)"
      ],
      "metadata": {
        "id": "shEQdu6VTR1i",
        "outputId": "93f4e52c-007a-4f5a-8685-22dd74690967",
        "colab": {
          "base_uri": "https://localhost:8080/"
        }
      },
      "execution_count": 26,
      "outputs": [
        {
          "output_type": "stream",
          "name": "stdout",
          "text": [
            "19\n"
          ]
        }
      ]
    },
    {
      "cell_type": "code",
      "source": [
        "#find the number of occurance of a string from a input string\n",
        "s1 =\"I live in Chennai. Chennai is a metropolitan city\"\n",
        "\n"
      ],
      "metadata": {
        "id": "DLO6HB1LS9eD"
      },
      "execution_count": null,
      "outputs": []
    },
    {
      "cell_type": "code",
      "source": [
        "# prompt: find the number of occurrence  of a string in a string\n",
        "main_string = \"I live in Chennai. Chennai is a metropolitan city\"\n",
        "sub_string = \"Chennai\"\n",
        "c=main_string.count(sub_string)\n",
        "print(c)\n",
        "def count_substring(main_string, sub_string):\n",
        "    count = 0\n",
        "    start = 0\n",
        "    while True:\n",
        "        start = main_string.find(sub_string, start)\n",
        "        if start == -1:\n",
        "            break\n",
        "        count += 1\n",
        "        start += 1  # Move to the next position to avoid counting overlapping occurrences\n",
        "    return count\n"
      ],
      "metadata": {
        "id": "8Y4e8IF9Tatm",
        "outputId": "84b8cdfc-0638-4d3f-9c1f-6afddc35700f",
        "colab": {
          "base_uri": "https://localhost:8080/"
        }
      },
      "execution_count": 28,
      "outputs": [
        {
          "output_type": "stream",
          "name": "stdout",
          "text": [
            "2\n"
          ]
        }
      ]
    },
    {
      "cell_type": "code",
      "source": [
        "#split method\n",
        "s=\"I live in Chennai. Chennai is a metropolitan city\"\n",
        "c=\"India,Canada,USA,Australia\"\n",
        "k=s.split(' ')\n",
        "print(k)\n",
        "countries = c.split(',')\n",
        "print(countries)"
      ],
      "metadata": {
        "id": "xwRSq5tgUZiR",
        "outputId": "2c120ef1-4db2-47fc-c318-e0d44ec8e9e8",
        "colab": {
          "base_uri": "https://localhost:8080/"
        }
      },
      "execution_count": 29,
      "outputs": [
        {
          "output_type": "stream",
          "name": "stdout",
          "text": [
            "['I', 'live', 'in', 'Chennai.', 'Chennai', 'is', 'a', 'metropolitan', 'city']\n",
            "['India', 'Canada', 'USA', 'Australia']\n"
          ]
        }
      ]
    }
  ]
}