{
  "nbformat": 4,
  "nbformat_minor": 0,
  "metadata": {
    "colab": {
      "provenance": []
    },
    "kernelspec": {
      "name": "python3",
      "display_name": "Python 3"
    },
    "language_info": {
      "name": "python"
    }
  },
  "cells": [
    {
      "cell_type": "code",
      "execution_count": null,
      "metadata": {
        "colab": {
          "base_uri": "https://localhost:8080/"
        },
        "id": "1Zecjk8NUXHq",
        "outputId": "6d2792a0-8730-4567-e4ca-19b21a4e20f0"
      },
      "outputs": [
        {
          "output_type": "stream",
          "name": "stdout",
          "text": [
            "Stanly Jose\n"
          ]
        }
      ],
      "source": [
        "print(\"Stanly Jose\")"
      ]
    },
    {
      "cell_type": "code",
      "source": [
        "var1 = '23'\n",
        "var2 = '54'\n"
      ],
      "metadata": {
        "id": "A3Pn82NZXIgL"
      },
      "execution_count": null,
      "outputs": []
    },
    {
      "cell_type": "code",
      "source": [
        "print(\"hello\")"
      ],
      "metadata": {
        "colab": {
          "base_uri": "https://localhost:8080/"
        },
        "id": "VoptzBatc7el",
        "outputId": "201055c8-04f9-4aa7-cfd3-2267b5eb8a6a"
      },
      "execution_count": null,
      "outputs": [
        {
          "output_type": "stream",
          "name": "stdout",
          "text": [
            "hello\n"
          ]
        }
      ]
    },
    {
      "cell_type": "code",
      "source": [
        "\"\"\"multiple comment line\"\"\"\n",
        "#single line of comment.\n",
        "a = 10\n",
        "print (a) #value of variable a\n",
        "print(id(a))#location of the variable a is stored"
      ],
      "metadata": {
        "colab": {
          "base_uri": "https://localhost:8080/"
        },
        "id": "11PgePAORfNl",
        "outputId": "0a235f3d-881f-40ed-9744-d43306ca40c7"
      },
      "execution_count": 1,
      "outputs": [
        {
          "output_type": "stream",
          "name": "stdout",
          "text": [
            "10\n",
            "10751144\n"
          ]
        }
      ]
    },
    {
      "cell_type": "code",
      "source": [
        "a =10\n",
        "b=20\n",
        "c=d=e=10\n",
        "f,g,h=10,20,30\n",
        "print(a)\n",
        "print(b)\n",
        "print(c)\n",
        "print(d)\n",
        "print(e)\n",
        "print(f)\n",
        "print(g)\n",
        "print(h)\n"
      ],
      "metadata": {
        "colab": {
          "base_uri": "https://localhost:8080/"
        },
        "id": "DY_AQB_nRwE2",
        "outputId": "c08aae85-2aa3-477b-a5db-5144d5726758"
      },
      "execution_count": 3,
      "outputs": [
        {
          "output_type": "stream",
          "name": "stdout",
          "text": [
            "10\n",
            "20\n",
            "10\n",
            "10\n",
            "10\n",
            "10\n",
            "20\n",
            "30\n"
          ]
        }
      ]
    },
    {
      "cell_type": "code",
      "source": [
        "l=['stanly',10, 20.25, 3+4j] #creating simple list\n",
        "print(l)"
      ],
      "metadata": {
        "colab": {
          "base_uri": "https://localhost:8080/"
        },
        "id": "tjSw8MpiSl_l",
        "outputId": "0aedb7c0-6e3f-4ccf-c7b9-13b16ece8b27"
      },
      "execution_count": 4,
      "outputs": [
        {
          "output_type": "stream",
          "name": "stdout",
          "text": [
            "['stanly', 10, 20.25, (3+4j)]\n"
          ]
        }
      ]
    },
    {
      "cell_type": "code",
      "source": [
        "a = 3+4j\n",
        "print(a)\n",
        "print(type(a))#"
      ],
      "metadata": {
        "colab": {
          "base_uri": "https://localhost:8080/"
        },
        "id": "4T3mXQNgS60w",
        "outputId": "58b16b39-2f93-4a7f-e916-94290afc3846"
      },
      "execution_count": 5,
      "outputs": [
        {
          "output_type": "stream",
          "name": "stdout",
          "text": [
            "(3+4j)\n",
            "<class 'complex'>\n"
          ]
        }
      ]
    },
    {
      "cell_type": "code",
      "source": [
        "#isinstance\n",
        "a=10\n",
        "b=10.5\n",
        "print(isinstance(a,int))#true\n",
        "print(isinstance(b,int))#false. b is of type float\n",
        "\n"
      ],
      "metadata": {
        "colab": {
          "base_uri": "https://localhost:8080/"
        },
        "id": "WUQn567DULTJ",
        "outputId": "09116a17-eb01-4534-b3fe-fddca49badf0"
      },
      "execution_count": 11,
      "outputs": [
        {
          "output_type": "stream",
          "name": "stdout",
          "text": [
            "True\n",
            "False\n"
          ]
        }
      ]
    },
    {
      "cell_type": "code",
      "source": [
        "#variable annotation\n",
        "name: str=\"NTT\"\n",
        "print(name)\n",
        "print(type(name))\n",
        "print(__annotations__['name'])"
      ],
      "metadata": {
        "colab": {
          "base_uri": "https://localhost:8080/"
        },
        "id": "fnofZcJsUNWq",
        "outputId": "04f36629-d824-4831-e61e-a9d523126c81"
      },
      "execution_count": 12,
      "outputs": [
        {
          "output_type": "stream",
          "name": "stdout",
          "text": [
            "NTT\n",
            "<class 'str'>\n",
            "<class 'str'>\n"
          ]
        }
      ]
    },
    {
      "cell_type": "code",
      "source": [
        "stan: int = 45\n",
        "print(stan)\n",
        "print(__annotations__['stan'])"
      ],
      "metadata": {
        "colab": {
          "base_uri": "https://localhost:8080/"
        },
        "id": "y0b0PZ8IVhcy",
        "outputId": "4daa9ab5-a88a-4376-e319-081f0865b759"
      },
      "execution_count": 14,
      "outputs": [
        {
          "output_type": "stream",
          "name": "stdout",
          "text": [
            "45\n",
            "<class 'int'>\n"
          ]
        }
      ]
    },
    {
      "cell_type": "code",
      "source": [
        "print(18/4)\n",
        "print(18//4)\n",
        "print(18%4)\n",
        "print(18.0//4.0)\n",
        "print(18.0/4.0)"
      ],
      "metadata": {
        "colab": {
          "base_uri": "https://localhost:8080/"
        },
        "id": "jZtZNRNSf7Wy",
        "outputId": "1dc9e591-21d4-4c56-f7fa-31df61531681"
      },
      "execution_count": 16,
      "outputs": [
        {
          "output_type": "stream",
          "name": "stdout",
          "text": [
            "4.5\n",
            "4\n",
            "2\n",
            "4.0\n",
            "4.5\n"
          ]
        }
      ]
    },
    {
      "cell_type": "code",
      "source": [
        "\"\"\"String Slicking can be done like below. It works like a substring in C#\n",
        "start: starting point of substring (0 by default)\n",
        "stop : ending poing of substring ( last index by default,  stop-1)\n",
        "step: skipping the number of charectors\n",
        "number of charectors print would be Stop-Start charectors\n",
        "eg: if start is 0 and stop is 3\n",
        "3-0 =3\n",
        "now it has to print substring of 0,1,2 . which is 3 charectors\"\"\"\n",
        "\n",
        "s=['h','e','l','l','o','w','o','r','l','d']\n",
        "# the 3 parameters are Start: Stop: Step\n",
        "print(s[0:5:1])\n",
        "print(s[6:10:1])\n",
        "print(s[0:10:2])\n",
        "print(s[:5:1]) #default value is taken as 0 for the first parameter\n",
        "print(s[5::1]) #default value for the second parameter would be the last index of the list\n",
        "print(s[::1])\n"
      ],
      "metadata": {
        "colab": {
          "base_uri": "https://localhost:8080/"
        },
        "id": "1Yt9DKtCiewq",
        "outputId": "846d1974-869e-4509-dd51-0d5c3781f347"
      },
      "execution_count": 22,
      "outputs": [
        {
          "output_type": "stream",
          "name": "stdout",
          "text": [
            "['h', 'e', 'l', 'l', 'o']\n",
            "['o', 'r', 'l', 'd']\n",
            "['h', 'l', 'o', 'o', 'l']\n",
            "['h', 'e', 'l', 'l', 'o']\n",
            "['w', 'o', 'r', 'l', 'd']\n",
            "['h', 'e', 'l', 'l', 'o', 'w', 'o', 'r', 'l', 'd']\n"
          ]
        }
      ]
    },
    {
      "cell_type": "code",
      "source": [],
      "metadata": {
        "id": "_2YfqPCazz40"
      },
      "execution_count": null,
      "outputs": []
    }
  ]
}