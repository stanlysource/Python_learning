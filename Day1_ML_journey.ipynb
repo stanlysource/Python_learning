{
  "nbformat": 4,
  "nbformat_minor": 0,
  "metadata": {
    "colab": {
      "provenance": []
    },
    "kernelspec": {
      "name": "python3",
      "display_name": "Python 3"
    },
    "language_info": {
      "name": "python"
    }
  },
  "cells": [
    {
      "cell_type": "code",
      "execution_count": null,
      "metadata": {
        "colab": {
          "base_uri": "https://localhost:8080/"
        },
        "id": "1Zecjk8NUXHq",
        "outputId": "6d2792a0-8730-4567-e4ca-19b21a4e20f0"
      },
      "outputs": [
        {
          "output_type": "stream",
          "name": "stdout",
          "text": [
            "Stanly Jose\n"
          ]
        }
      ],
      "source": [
        "print(\"Stanly Jose\")"
      ]
    },
    {
      "cell_type": "code",
      "source": [
        "var1 = '23'\n",
        "var2 = '54'\n"
      ],
      "metadata": {
        "id": "A3Pn82NZXIgL"
      },
      "execution_count": null,
      "outputs": []
    },
    {
      "cell_type": "code",
      "source": [
        "print(\"hello\")"
      ],
      "metadata": {
        "colab": {
          "base_uri": "https://localhost:8080/"
        },
        "id": "VoptzBatc7el",
        "outputId": "201055c8-04f9-4aa7-cfd3-2267b5eb8a6a"
      },
      "execution_count": null,
      "outputs": [
        {
          "output_type": "stream",
          "name": "stdout",
          "text": [
            "hello\n"
          ]
        }
      ]
    },
    {
      "cell_type": "code",
      "source": [
        "\"\"\"multiple comment line\"\"\"\n",
        "#single line of comment.\n",
        "a = 10\n",
        "print (a) #value of variable a\n",
        "print(id(a))#location of the variable a is stored"
      ],
      "metadata": {
        "colab": {
          "base_uri": "https://localhost:8080/"
        },
        "id": "11PgePAORfNl",
        "outputId": "0a235f3d-881f-40ed-9744-d43306ca40c7"
      },
      "execution_count": 1,
      "outputs": [
        {
          "output_type": "stream",
          "name": "stdout",
          "text": [
            "10\n",
            "10751144\n"
          ]
        }
      ]
    },
    {
      "cell_type": "code",
      "source": [
        "a =10\n",
        "b=20\n",
        "c=d=e=10\n",
        "f,g,h=10,20,30\n",
        "print(a)\n",
        "print(b)\n",
        "print(c)\n",
        "print(d)\n",
        "print(e)\n",
        "print(f)\n",
        "print(g)\n",
        "print(h)\n"
      ],
      "metadata": {
        "colab": {
          "base_uri": "https://localhost:8080/"
        },
        "id": "DY_AQB_nRwE2",
        "outputId": "c08aae85-2aa3-477b-a5db-5144d5726758"
      },
      "execution_count": 3,
      "outputs": [
        {
          "output_type": "stream",
          "name": "stdout",
          "text": [
            "10\n",
            "20\n",
            "10\n",
            "10\n",
            "10\n",
            "10\n",
            "20\n",
            "30\n"
          ]
        }
      ]
    },
    {
      "cell_type": "code",
      "source": [
        "l=['stanly',10, 20.25, 3+4j] #creating simple list\n",
        "print(l)"
      ],
      "metadata": {
        "colab": {
          "base_uri": "https://localhost:8080/"
        },
        "id": "tjSw8MpiSl_l",
        "outputId": "0aedb7c0-6e3f-4ccf-c7b9-13b16ece8b27"
      },
      "execution_count": 4,
      "outputs": [
        {
          "output_type": "stream",
          "name": "stdout",
          "text": [
            "['stanly', 10, 20.25, (3+4j)]\n"
          ]
        }
      ]
    },
    {
      "cell_type": "code",
      "source": [
        "a = 3+4j\n",
        "print(a)\n",
        "print(type(a))#"
      ],
      "metadata": {
        "colab": {
          "base_uri": "https://localhost:8080/"
        },
        "id": "4T3mXQNgS60w",
        "outputId": "58b16b39-2f93-4a7f-e916-94290afc3846"
      },
      "execution_count": 5,
      "outputs": [
        {
          "output_type": "stream",
          "name": "stdout",
          "text": [
            "(3+4j)\n",
            "<class 'complex'>\n"
          ]
        }
      ]
    },
    {
      "cell_type": "code",
      "source": [
        "#isinstance\n",
        "a=10\n",
        "b=10.5\n",
        "print(isinstance(a,int))#true\n",
        "print(isinstance(b,int))#false. b is of type float\n",
        "\n"
      ],
      "metadata": {
        "id": "WUQn567DULTJ",
        "outputId": "09116a17-eb01-4534-b3fe-fddca49badf0",
        "colab": {
          "base_uri": "https://localhost:8080/"
        }
      },
      "execution_count": 11,
      "outputs": [
        {
          "output_type": "stream",
          "name": "stdout",
          "text": [
            "True\n",
            "False\n"
          ]
        }
      ]
    },
    {
      "cell_type": "code",
      "source": [
        "#variable annotation\n",
        "name: str=\"NTT\"\n",
        "print(name)\n",
        "print(type(name))\n",
        "print(__annotations__['name'])"
      ],
      "metadata": {
        "id": "fnofZcJsUNWq",
        "outputId": "04f36629-d824-4831-e61e-a9d523126c81",
        "colab": {
          "base_uri": "https://localhost:8080/"
        }
      },
      "execution_count": 12,
      "outputs": [
        {
          "output_type": "stream",
          "name": "stdout",
          "text": [
            "NTT\n",
            "<class 'str'>\n",
            "<class 'str'>\n"
          ]
        }
      ]
    }
  ]
}